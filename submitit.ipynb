{
 "cells": [
  {
   "cell_type": "code",
   "execution_count": 137,
   "id": "6395b840",
   "metadata": {},
   "outputs": [],
   "source": [
    "import submitit\n",
    "\n",
    "import torch\n",
    "import random\n",
    "import numpy as np\n",
    "\n",
    "import pickle\n",
    "import itertools\n",
    "import argparse\n",
    "import logging\n",
    "import os\n",
    "import pathlib\n",
    "import time\n",
    "import json\n",
    "import math\n",
    "import matplotlib.pyplot as plt\n",
    "from torch.utils import data\n",
    "from fvcore.common.config import CfgNode"
   ]
  },
  {
   "cell_type": "code",
   "execution_count": 138,
   "id": "e3e7f060",
   "metadata": {},
   "outputs": [],
   "source": [
    "from multi_objective.main import main, get_config"
   ]
  },
  {
   "cell_type": "code",
   "execution_count": 139,
   "id": "d27d2cc2",
   "metadata": {},
   "outputs": [],
   "source": [
    "executor = submitit.AutoExecutor(folder=\"tmp\")"
   ]
  },
  {
   "cell_type": "markdown",
   "id": "fe760f76",
   "metadata": {},
   "source": [
    "# Prepare the globals"
   ]
  },
  {
   "cell_type": "code",
   "execution_count": 140,
   "id": "e85e5b25",
   "metadata": {},
   "outputs": [],
   "source": [
    "adult_cfg = get_config('configs/adult.yaml')\n",
    "methods = ['cosmos', 'mgda']\n",
    "\n",
    "num_evaluations = 5\n",
    "J = 2\n",
    "\n",
    "min_angles = {\n",
    "    'adult': 0.02,\n",
    "    'compass': 0.0055,\n",
    "}\n",
    "\n",
    "epochs_tabular = 20\n",
    "epochs_mnist = 50"
   ]
  },
  {
   "cell_type": "code",
   "execution_count": 141,
   "id": "8beab615",
   "metadata": {},
   "outputs": [],
   "source": [
    "# log transform for lr \n",
    "lr_range = (np.log(1e-4), np.log(1e-2))\n",
    "lamda_range = (np.log(0.2), np.log(5))\n",
    "alpha_range = (.2, 1.5)\n",
    "scheduler_choice = ['None', 'MultiStep', 'Cosine']\n",
    "mgda_norm_choice = ['none', 'l2', 'loss', 'loss+']\n",
    "phn_solver = ['linear', 'epo']"
   ]
  },
  {
   "cell_type": "markdown",
   "id": "021fce52",
   "metadata": {},
   "source": [
    "Sample the hyperparameters"
   ]
  },
  {
   "cell_type": "code",
   "execution_count": 142,
   "id": "9850fc58",
   "metadata": {},
   "outputs": [
    {
     "name": "stdout",
     "output_type": "stream",
     "text": [
      "Num evals: 5\n"
     ]
    }
   ],
   "source": [
    "# sampling\n",
    "np.random.seed(1)\n",
    "\n",
    "learning_rates = np.exp(np.random.uniform(*lr_range ,[num_evaluations]))\n",
    "lamdas = np.exp(np.random.uniform(*lamda_range ,[num_evaluations]))\n",
    "alphas = np.random.uniform(*alpha_range ,[num_evaluations, J])\n",
    "schedulers = np.random.choice(scheduler_choice, num_evaluations)\n",
    "mgda_norms = np.random.choice(mgda_norm_choice, num_evaluations)\n",
    "phn_solvers = np.random.choice(phn_solver, num_evaluations)\n",
    "                     \n",
    "print(f\"Num evals: {len(learning_rates)}\")"
   ]
  },
  {
   "cell_type": "code",
   "execution_count": 143,
   "id": "dcb670dd",
   "metadata": {},
   "outputs": [],
   "source": [
    "def convert_hp(array, arg, dtype):\n",
    "    n = len(array)\n",
    "    array = [[dtype(a_i) for a_i in a] if isinstance(a, np.ndarray) else dtype(a) for a in array]\n",
    "    args = list(itertools.repeat(arg, n))\n",
    "    return args, array"
   ]
  },
  {
   "cell_type": "code",
   "execution_count": 144,
   "id": "7f276532",
   "metadata": {},
   "outputs": [],
   "source": [
    "cosmos_lrs = convert_hp(learning_rates, 'cosmos.lr', float)\n",
    "cosmos_scheds = convert_hp(schedulers, 'cosmos.lr_scheduler', str)\n",
    "cosmos_lamdas = convert_hp(lamdas, 'cosmos.lamda', float)\n",
    "cosmos_alphas = convert_hp(alphas, 'cosmos.alpha', float)\n",
    "\n",
    "mgda_lrs = convert_hp(learning_rates, 'mgda.lr', float)\n",
    "mgda_scheds = convert_hp(schedulers, 'mgda.lr_scheduler', str)\n",
    "mgda_norms = convert_hp(mgda_norms, 'mgda.normalization_type', str)\n",
    "\n",
    "pmtl_lrs = convert_hp(learning_rates, 'pmtl.lr', float)\n",
    "pmtl_scheds = convert_hp(schedulers, 'pmtl.lr_scheduler', str)\n",
    "\n"
   ]
  },
  {
   "cell_type": "code",
   "execution_count": 145,
   "id": "ffb56d03",
   "metadata": {},
   "outputs": [],
   "source": [
    "def percent_finished(jobs):\n",
    "    return sum(job.done() for job in jobs) / len(jobs)\n",
    "\n",
    "\n",
    "def save_jobs(filename, jobs):\n",
    "    with open(f'{filename}.pickle', 'wb') as f:\n",
    "        pickle.dump(jobs, f)\n",
    "\n",
    "        \n",
    "def load_jobs(filename):\n",
    "    with open(f'{filename}.pickle', 'rb') as f:\n",
    "        return pickle.load(f)"
   ]
  },
  {
   "cell_type": "markdown",
   "id": "d51a5bb9",
   "metadata": {},
   "source": [
    "# Tabular datasets"
   ]
  },
  {
   "cell_type": "code",
   "execution_count": 146,
   "id": "f63f412e",
   "metadata": {},
   "outputs": [],
   "source": [
    "executor.update_parameters(timeout_min=20, slurm_partition=\"ml_gpu-rtx2080\", name='hpo', gpus_per_node=1)\n",
    "executor.update_parameters(slurm_array_parallelism=35)"
   ]
  },
  {
   "cell_type": "markdown",
   "id": "e062bc37",
   "metadata": {},
   "source": [
    "## COSMOS"
   ]
  },
  {
   "cell_type": "code",
   "execution_count": 147,
   "id": "91925df6",
   "metadata": {},
   "outputs": [],
   "source": [
    "hpo_cosmos = zip(*cosmos_lrs, *cosmos_lamdas, *cosmos_alphas)\n",
    "method = 'cosmos'"
   ]
  },
  {
   "cell_type": "markdown",
   "id": "61416279",
   "metadata": {},
   "source": [
    "### Adult"
   ]
  },
  {
   "cell_type": "code",
   "execution_count": 148,
   "id": "b506ddfb",
   "metadata": {},
   "outputs": [],
   "source": [
    "cfg = adult_cfg.clone()\n",
    "cfg.epochs = epochs_tabular\n",
    "cfg.eval_every = epochs_tabular"
   ]
  },
  {
   "cell_type": "markdown",
   "id": "960371c7",
   "metadata": {},
   "source": [
    "**Runs the search**"
   ]
  },
  {
   "cell_type": "code",
   "execution_count": 150,
   "id": "277d3dbf",
   "metadata": {},
   "outputs": [],
   "source": [
    "assert not os.path.exists('cosmos_adult_hpo.pickle'), \"Are you sure?\"\n",
    "\n",
    "cosmos_adult_jobs = []\n",
    "with executor.batch():\n",
    "    for args in hpo_cosmos:\n",
    "        cfg = cfg.clone()\n",
    "        cfg.merge_from_list(args)\n",
    "        job = executor.submit(main, method, cfg, 'hpo')\n",
    "        cosmos_adult_jobs.append(job)"
   ]
  },
  {
   "cell_type": "code",
   "execution_count": 151,
   "id": "88c61308",
   "metadata": {},
   "outputs": [
    {
     "name": "stdout",
     "output_type": "stream",
     "text": [
      "1.0\n"
     ]
    }
   ],
   "source": [
    "print(percent_finished(cosmos_adult_jobs))"
   ]
  },
  {
   "cell_type": "markdown",
   "id": "9483e864",
   "metadata": {},
   "source": [
    "Save the results"
   ]
  },
  {
   "cell_type": "code",
   "execution_count": 129,
   "id": "3a15527d",
   "metadata": {},
   "outputs": [
    {
     "ename": "AssertionError",
     "evalue": "Are you sure?",
     "output_type": "error",
     "traceback": [
      "\u001b[0;31m---------------------------------------------------------------------------\u001b[0m",
      "\u001b[0;31mAssertionError\u001b[0m                            Traceback (most recent call last)",
      "\u001b[0;32m<ipython-input-129-33ca0075dfb3>\u001b[0m in \u001b[0;36m<module>\u001b[0;34m\u001b[0m\n\u001b[0;32m----> 1\u001b[0;31m \u001b[0;32massert\u001b[0m \u001b[0;32mnot\u001b[0m \u001b[0mos\u001b[0m\u001b[0;34m.\u001b[0m\u001b[0mpath\u001b[0m\u001b[0;34m.\u001b[0m\u001b[0mexists\u001b[0m\u001b[0;34m(\u001b[0m\u001b[0;34m'cosmos_adult_hpo.pickle'\u001b[0m\u001b[0;34m)\u001b[0m\u001b[0;34m,\u001b[0m \u001b[0;34m\"Are you sure?\"\u001b[0m\u001b[0;34m\u001b[0m\u001b[0;34m\u001b[0m\u001b[0m\n\u001b[0m\u001b[1;32m      2\u001b[0m \u001b[0msave_jobs\u001b[0m\u001b[0;34m(\u001b[0m\u001b[0;34m'cosmos_adult_hpo'\u001b[0m\u001b[0;34m,\u001b[0m \u001b[0mcosmos_adult_jobs\u001b[0m\u001b[0;34m)\u001b[0m\u001b[0;34m\u001b[0m\u001b[0;34m\u001b[0m\u001b[0m\n",
      "\u001b[0;31mAssertionError\u001b[0m: Are you sure?"
     ]
    }
   ],
   "source": [
    "assert not os.path.exists('cosmos_adult_hpo.pickle'), \"Are you sure?\"\n",
    "save_jobs('cosmos_adult_hpo', cosmos_adult_jobs)"
   ]
  },
  {
   "cell_type": "markdown",
   "id": "27e78166",
   "metadata": {},
   "source": [
    "Load the results"
   ]
  },
  {
   "cell_type": "code",
   "execution_count": 157,
   "id": "5831bc1d",
   "metadata": {},
   "outputs": [],
   "source": [
    "cosmos_adult_jobs = load_jobs('cosmos_adult_hpo')"
   ]
  },
  {
   "cell_type": "code",
   "execution_count": null,
   "id": "7f8c8f3e",
   "metadata": {},
   "outputs": [],
   "source": []
  },
  {
   "cell_type": "code",
   "execution_count": null,
   "id": "e8c1fe48",
   "metadata": {},
   "outputs": [],
   "source": []
  },
  {
   "cell_type": "code",
   "execution_count": 162,
   "id": "41bd65be",
   "metadata": {},
   "outputs": [],
   "source": [
    "def get_optimal_cfg(jobs, min_angle):\n",
    "    idx_best = None\n",
    "    hv_best = 0\n",
    "    \n",
    "    for i, job in enumerate(jobs):\n",
    "        hv, angle = job.result()\n",
    "        if angle > min_angle:\n",
    "            if hv > hv_best:\n",
    "                print(hv, angle)\n",
    "                hv_best = hv\n",
    "                idx_best = i\n",
    "    assert idx_best is not None, \"No optimal cfg found\"\n",
    "    print(f'Best job: {jobs[idx_best].job_id}')\n",
    "    return jobs[idx_best].submission().args[1]"
   ]
  },
  {
   "cell_type": "code",
   "execution_count": 163,
   "id": "618c8801",
   "metadata": {},
   "outputs": [
    {
     "name": "stdout",
     "output_type": "stream",
     "text": [
      "3.27720263842372 0.041743607173621355\n",
      "3.303566993728911 0.053544836762180026\n",
      "3.3087412346982084 0.0324059883178871\n",
      "3.3171353978157 0.03985407698109267\n",
      "Best job: 5483814_63\n"
     ]
    },
    {
     "data": {
      "text/plain": [
       "CfgNode({'dataset': 'adult', 'dim': (88,), 'objectives': ['BinaryCrossEntropyLoss', 'ddp'], 'task_ids': [], 'epochs': 20, 'num_workers': 4, 'checkpoint_every': 0, 'lr_scheduler': 'None', 'lr': 0.001, 'batch_size': 256, 'pmtl': CfgNode({'num_starts': 5, 'lr_scheduler': 'None', 'lr': 0.001}), 'mgda': CfgNode({'approximate_norm_solution': False, 'normalization_type': 'loss', 'lr_scheduler': 'None', 'lr': 0.001}), 'phn': CfgNode({'alpha': 0.2, 'internal_solver': 'linear', 'lr_scheduler': 'None', 'lr': 0.001}), 'single_task': CfgNode({'task_id': None, 'lr_scheduler': 'None', 'lr': 0.001}), 'cosmos': CfgNode({'alpha': [0.3984731373211122, 1.0083481012625402], 'lamda': 2.88333803931139, 'lr_scheduler': 'None', 'lr': 0.0006735324727887581}), 'seed': 1, 'logdir': 'results', 'n_partitions': 24, 'eval_every': 20, 'train_eval_every': 0, 'reference_point': [2, 2], 'device': 'cuda', 'metrics': None})"
      ]
     },
     "execution_count": 163,
     "metadata": {},
     "output_type": "execute_result"
    }
   ],
   "source": [
    "get_optimal_cfg(cosmos_adult_jobs, min_angles['adult'])"
   ]
  },
  {
   "cell_type": "code",
   "execution_count": null,
   "id": "0c5b62a7",
   "metadata": {},
   "outputs": [],
   "source": []
  },
  {
   "cell_type": "code",
   "execution_count": null,
   "id": "6971b79d",
   "metadata": {},
   "outputs": [],
   "source": []
  },
  {
   "cell_type": "code",
   "execution_count": null,
   "id": "60a11b89",
   "metadata": {},
   "outputs": [],
   "source": []
  },
  {
   "cell_type": "code",
   "execution_count": null,
   "id": "e9de0270",
   "metadata": {},
   "outputs": [],
   "source": []
  },
  {
   "cell_type": "markdown",
   "id": "7a27b16f",
   "metadata": {},
   "source": [
    "# Image datasets"
   ]
  },
  {
   "cell_type": "code",
   "execution_count": null,
   "id": "7ec7f47f",
   "metadata": {},
   "outputs": [],
   "source": [
    "executor.update_parameters(timeout_min=30, slurm_partition=\"ml_gpu-rtx2080\", name='hpo', gpus_per_node=1)\n",
    "executor.update_parameters(slurm_array_parallelism=30)"
   ]
  },
  {
   "cell_type": "markdown",
   "id": "8bc0abdf",
   "metadata": {},
   "source": [
    "Save what we have so far"
   ]
  },
  {
   "cell_type": "code",
   "execution_count": 15,
   "id": "961ab6c4",
   "metadata": {},
   "outputs": [],
   "source": [
    "\n",
    "import time\n",
    "\n",
    "done=False\n",
    "while not done:\n",
    "    with open('cosmos_adult_hpo_results.pickle', 'wb') as f:\n",
    "        pickle.dump(jobs, f)\n",
    "    \n",
    "    done = sum(job.done() for job in jobs) == len(jobs)\n",
    "    break\n",
    "    \n",
    "    time.sleep(5 * 60)"
   ]
  },
  {
   "cell_type": "code",
   "execution_count": 29,
   "id": "a2bea557",
   "metadata": {},
   "outputs": [],
   "source": [
    "with open('cosmos_adult_hpo_results.pickle', 'rb') as f:\n",
    "    jobs_l = pickle.load(f)"
   ]
  },
  {
   "cell_type": "code",
   "execution_count": 32,
   "id": "6fd67b42",
   "metadata": {},
   "outputs": [
    {
     "data": {
      "text/plain": [
       "(3.02712881565094, 0)"
      ]
     },
     "execution_count": 32,
     "metadata": {},
     "output_type": "execute_result"
    }
   ],
   "source": [
    "jobs_l[0].result()"
   ]
  },
  {
   "cell_type": "code",
   "execution_count": null,
   "id": "4af8c264",
   "metadata": {},
   "outputs": [],
   "source": [
    "\n",
    "\n",
    "\n",
    "\n",
    "\n",
    "\n",
    "executor = submitit.AutoExecutor(folder=\"tmp\")\n",
    "executor.update_parameters(timeout_min=5, slurm_partition=\"testdlc_gpu-rtx2080\")\n",
    "\n",
    "\n",
    "# executor.update_parameters(timeout_min=1, slurm_partition=\"ml_gpu-rtx2080\")"
   ]
  },
  {
   "cell_type": "code",
   "execution_count": 13,
   "id": "afa6786b",
   "metadata": {},
   "outputs": [],
   "source": [
    "def add(a, b):\n",
    "    return a + b"
   ]
  },
  {
   "cell_type": "code",
   "execution_count": 14,
   "id": "f30f39e9",
   "metadata": {},
   "outputs": [],
   "source": [
    "job = executor.submit(add, 5, 7)  # will compute add(5, 7)"
   ]
  },
  {
   "cell_type": "code",
   "execution_count": 15,
   "id": "80f55b55",
   "metadata": {},
   "outputs": [
    {
     "name": "stdout",
     "output_type": "stream",
     "text": [
      "5359691\n"
     ]
    }
   ],
   "source": [
    "print(job.job_id)  # ID of your job"
   ]
  },
  {
   "cell_type": "code",
   "execution_count": 16,
   "id": "aa59ddc9",
   "metadata": {},
   "outputs": [],
   "source": [
    "output = job.result()"
   ]
  },
  {
   "cell_type": "code",
   "execution_count": 17,
   "id": "4cbe25a9",
   "metadata": {},
   "outputs": [
    {
     "data": {
      "text/plain": [
       "12"
      ]
     },
     "execution_count": 17,
     "metadata": {},
     "output_type": "execute_result"
    }
   ],
   "source": [
    "output"
   ]
  },
  {
   "cell_type": "code",
   "execution_count": null,
   "id": "d01c7b64",
   "metadata": {},
   "outputs": [],
   "source": []
  }
 ],
 "metadata": {
  "kernelspec": {
   "display_name": "Python 3",
   "language": "python",
   "name": "python3"
  },
  "language_info": {
   "codemirror_mode": {
    "name": "ipython",
    "version": 3
   },
   "file_extension": ".py",
   "mimetype": "text/x-python",
   "name": "python",
   "nbconvert_exporter": "python",
   "pygments_lexer": "ipython3",
   "version": "3.8.5"
  }
 },
 "nbformat": 4,
 "nbformat_minor": 5
}
