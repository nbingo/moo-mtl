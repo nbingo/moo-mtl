{
 "cells": [
  {
   "cell_type": "code",
   "execution_count": 24,
   "id": "5ce83b12",
   "metadata": {},
   "outputs": [],
   "source": [
    "import submitit\n",
    "\n",
    "import torch\n",
    "import random\n",
    "import numpy as np\n",
    "\n",
    "np.random.seed(1)\n",
    "random.seed(1)\n",
    "torch.manual_seed(1)\n",
    "\n",
    "import pickle\n",
    "import itertools\n",
    "import argparse\n",
    "import logging\n",
    "import os\n",
    "import pathlib\n",
    "import time\n",
    "import json\n",
    "import math\n",
    "import matplotlib.pyplot as plt\n",
    "from torch.utils import data\n",
    "from fvcore.common.config import CfgNode\n",
    "from rtb import log_every_n_seconds, log_first_n, setup_logger"
   ]
  },
  {
   "cell_type": "code",
   "execution_count": 37,
   "id": "b7020ea3",
   "metadata": {},
   "outputs": [],
   "source": [
    "from multi_objective.main import get_config, evaluate, method_from_name\n",
    "from multi_objective import utils, defaults\n",
    "from multi_objective.objectives import from_name\n",
    "\n",
    "from multi_objective.methods import HypernetMethod, ParetoMTLMethod, SingleTaskMethod, COSMOSMethod, MGDAMethod, UniformScalingMethod\n",
    "from multi_objective.scores import from_objectives"
   ]
  },
  {
   "cell_type": "markdown",
   "id": "be71f0c4",
   "metadata": {},
   "source": [
    "Prepare submitions"
   ]
  },
  {
   "cell_type": "code",
   "execution_count": 49,
   "id": "2e691272",
   "metadata": {},
   "outputs": [],
   "source": [
    "executor = submitit.AutoExecutor(folder=\"tmp/submitit\")"
   ]
  },
  {
   "cell_type": "code",
   "execution_count": 50,
   "id": "3604f56a",
   "metadata": {},
   "outputs": [],
   "source": [
    "executor.update_parameters(timeout_min=20, slurm_partition=\"testdlc_gpu-rtx2080\", name='debug', gpus_per_node=1)\n",
    "executor.update_parameters(slurm_array_parallelism=2)"
   ]
  },
  {
   "cell_type": "code",
   "execution_count": null,
   "id": "407f8a05",
   "metadata": {},
   "outputs": [],
   "source": []
  },
  {
   "cell_type": "code",
   "execution_count": 41,
   "id": "d27ed6f2",
   "metadata": {},
   "outputs": [],
   "source": [
    "def eval(method_name, cfg, checkpoint_dir, tag='eval', last_only=True, splits=['val']):\n",
    "    cfg.freeze()\n",
    "    # create the experiment folders\n",
    "    logdir = os.path.join(cfg['logdir'], method_name, cfg['dataset'], utils.get_runname(cfg) + f'_{tag}')\n",
    "    pathlib.Path(logdir).mkdir(parents=True, exist_ok=True)\n",
    "\n",
    "    logger = setup_logger(os.path.join(logdir, 'exp.log'), name=__name__)\n",
    "    logger.info(f\"start experiment with settings {cfg}\")\n",
    "\n",
    "    # prepare\n",
    "    utils.set_seed(cfg['seed'])\n",
    "    objectives = from_name(**cfg)\n",
    "    scores = from_objectives(objectives, **cfg)\n",
    "\n",
    "    train_loader, val_loader, test_loader = utils.loaders_from_name(**cfg)\n",
    "\n",
    "    model = utils.model_from_dataset(**cfg).to(cfg.device)\n",
    "    method = method_from_name(method_name, objectives, model, cfg)\n",
    "\n",
    "    train_results = dict(settings=cfg, num_parameters=utils.num_parameters(method.model_params()))\n",
    "    val_results = dict(settings=cfg, num_parameters=utils.num_parameters(method.model_params()))\n",
    "    test_results = dict(settings=cfg, num_parameters=utils.num_parameters(method.model_params()))\n",
    "    \n",
    "#     task_ids = settings['task_ids'] if method_name == 'single_task' else [0]\n",
    "    task_ids = [0]\n",
    "    for j in task_ids:\n",
    "        checkpoints = pathlib.Path(checkpoint_dir).glob('**/c_*.pth')\n",
    "\n",
    "        train_results[f\"start_{j}\"] = {}\n",
    "        val_results[f\"start_{j}\"] = {}\n",
    "        test_results[f\"start_{j}\"] = {}\n",
    "\n",
    "        if last_only:\n",
    "            # Eval only last checkpoint\n",
    "            checkpoints = [list(sorted(checkpoints))[-1]]\n",
    "\n",
    "        for c in sorted(checkpoints):\n",
    "            print(\"checkpoint\", c)\n",
    "            _, e = c.stem.replace('c_', '').split('-')\n",
    "\n",
    "            j = int(j)\n",
    "            e = int(e)\n",
    "            \n",
    "            method.model.load_state_dict(torch.load(c))\n",
    "\n",
    "            # Validation results\n",
    "            if 'val' in splits:\n",
    "                val_results = evaluate(j, e, method, scores, val_loader,\n",
    "                        split='val',\n",
    "                        result_dict=val_results,\n",
    "                        logdir=logdir,\n",
    "                        train_time=0,\n",
    "                        cfg=cfg,\n",
    "                        logger=logger,)\n",
    "\n",
    "            # Test results\n",
    "            if 'test' in splits:\n",
    "                test_results = evaluate(j, e, method, scores, test_loader,\n",
    "                        split='test',\n",
    "                        result_dict=test_results,\n",
    "                        logdir=logdir,\n",
    "                        train_time=0,\n",
    "                        cfg=cfg,\n",
    "                        logger=logger,)\n",
    "\n",
    "            # Train results\n",
    "            if 'train' in splits:\n",
    "                train_results = evaluate(j, e, method, scores, train_loader,\n",
    "                        split='train',\n",
    "                        result_dict=train_results,\n",
    "                        logdir=logdir,\n",
    "                        train_time=0,\n",
    "                        scfg=cfg,\n",
    "                        logger=logger,)\n",
    "    return val_results['start_0'][f'epoch_{e}']"
   ]
  },
  {
   "cell_type": "markdown",
   "id": "acfe2888",
   "metadata": {},
   "source": [
    "Checkpoints"
   ]
  },
  {
   "cell_type": "code",
   "execution_count": 7,
   "id": "d6158e2c",
   "metadata": {},
   "outputs": [],
   "source": [
    "def get_dirs(method, dataset, root='results'):\n",
    "    path = pathlib.Path(os.path.join(root, method, dataset))\n",
    "    return list(sorted(path.glob('*')))"
   ]
  },
  {
   "cell_type": "code",
   "execution_count": 11,
   "id": "a1a09eb2",
   "metadata": {},
   "outputs": [
    {
     "data": {
      "text/plain": [
       "[PosixPath('results/mgda/cityscapes/5006462_full_approx'),\n",
       " PosixPath('results/mgda/cityscapes/5006467_full_no_approx'),\n",
       " PosixPath('results/mgda/cityscapes/5301812')]"
      ]
     },
     "execution_count": 11,
     "metadata": {},
     "output_type": "execute_result"
    }
   ],
   "source": [
    "get_dirs('mgda', 'cityscapes')"
   ]
  },
  {
   "cell_type": "code",
   "execution_count": null,
   "id": "64834ed7",
   "metadata": {},
   "outputs": [],
   "source": []
  },
  {
   "cell_type": "code",
   "execution_count": 16,
   "id": "7cbc8619",
   "metadata": {},
   "outputs": [],
   "source": [
    "method = 'mgda'\n",
    "dataset = 'cityscapes'\n",
    "cfg = get_config(f'configs/{dataset}.yaml')\n",
    "checkpoint_dir = get_dirs(method, dataset)[0]"
   ]
  },
  {
   "cell_type": "code",
   "execution_count": null,
   "id": "31bc9915",
   "metadata": {},
   "outputs": [],
   "source": []
  },
  {
   "cell_type": "code",
   "execution_count": null,
   "id": "6c84e217",
   "metadata": {},
   "outputs": [],
   "source": []
  },
  {
   "cell_type": "code",
   "execution_count": null,
   "id": "47829892",
   "metadata": {},
   "outputs": [],
   "source": []
  },
  {
   "cell_type": "code",
   "execution_count": 51,
   "id": "c2fb9e54",
   "metadata": {},
   "outputs": [],
   "source": [
    "job = executor.submit(eval, method, cfg, checkpoint_dir, tag='eval', last_only=True, splits=['val'])"
   ]
  },
  {
   "cell_type": "code",
   "execution_count": 52,
   "id": "f9b2dd1c",
   "metadata": {},
   "outputs": [
    {
     "data": {
      "text/plain": [
       "{'loss': {'center_ray': [0.48630033590291677,\n",
       "   25.883729181791608,\n",
       "   0.05021902134543971]},\n",
       " 'metrics': {'center_ray': [0.4110914431449433,\n",
       "   25.883729181791608,\n",
       "   0.05021902134543971]},\n",
       " 'training_time_so_far': 0}"
      ]
     },
     "execution_count": 52,
     "metadata": {},
     "output_type": "execute_result"
    }
   ],
   "source": [
    "job.result()"
   ]
  },
  {
   "cell_type": "code",
   "execution_count": 53,
   "id": "e52bc5b6",
   "metadata": {},
   "outputs": [
    {
     "data": {
      "text/plain": [
       "\"submitit INFO (2021-04-21 15:32:50,926) - Starting with JobEnvironment(job_id=5527721, hostname=dlcgpu01, local_rank=0(1), node=0(1), global_rank=0(1))\\nsubmitit INFO (2021-04-21 15:32:50,926) - Loading pickle: /home/ruchtem/dev/moo/tmp/submitit/5527721_submitted.pkl\\n\\x1b[32m[04/21 15:32:56 __main__]: \\x1b[0mstart experiment with settings batch_size: 8\\ncheckpoint_every: 0\\ncosmos:\\n  alpha: [1.3]\\n  lamda: 0.5\\n  lr: 0.0005\\n  lr_scheduler: MultiStep\\ndataset: cityscapes\\ndevice: cuda\\ndim: (3, 256, 512)\\nepochs: 200\\neval_every: 5\\nlogdir: results\\nlr: 0.001\\nlr_scheduler: None\\nmetrics: ['mIoU', 'L1Loss', 'L1Loss']\\nmgda:\\n  approximate_norm_solution: True\\n  lr: 0.0005\\n  lr_scheduler: MultiStep\\n  normalization_type: l2\\nn_partitions: 5\\nnum_workers: 4\\nobjectives: ['CrossEntropyLoss', 'L1Loss', 'L1Loss']\\nphn:\\n  alpha: 0.2\\n  internal_solver: linear\\n  lr: 0.001\\n  lr_scheduler: None\\npmtl:\\n  lr: 0.001\\n  lr_scheduler: None\\n  num_starts: 5\\nreference_point: [2, 2]\\nseed: 1\\nsingle_task:\\n  lr: 0.0005\\n  lr_scheduler: MultiStep\\n  task_id: None\\ntask_ids: ['segm', 'inst', 'depth']\\ntrain_eval_every: 0\\nFound 2678 images\\nFound 297 images\\nFound 500 images\\ncheckpoint results/mgda/cityscapes/5006462_full_approx/checkpoints/c_0-999999.pth\\nsubmitit INFO (2021-04-21 15:33:27,459) - Job completed successfully\\n\""
      ]
     },
     "execution_count": 53,
     "metadata": {},
     "output_type": "execute_result"
    }
   ],
   "source": [
    "job.stdout()"
   ]
  },
  {
   "cell_type": "code",
   "execution_count": null,
   "id": "72eb4847",
   "metadata": {},
   "outputs": [],
   "source": []
  },
  {
   "cell_type": "code",
   "execution_count": null,
   "id": "784a4865",
   "metadata": {},
   "outputs": [],
   "source": []
  },
  {
   "cell_type": "code",
   "execution_count": null,
   "id": "957c4ea5",
   "metadata": {},
   "outputs": [],
   "source": []
  },
  {
   "cell_type": "code",
   "execution_count": null,
   "id": "d4419c62",
   "metadata": {},
   "outputs": [],
   "source": []
  },
  {
   "cell_type": "code",
   "execution_count": null,
   "id": "e6a85378",
   "metadata": {},
   "outputs": [],
   "source": []
  }
 ],
 "metadata": {
  "kernelspec": {
   "display_name": "Python 3",
   "language": "python",
   "name": "python3"
  },
  "language_info": {
   "codemirror_mode": {
    "name": "ipython",
    "version": 3
   },
   "file_extension": ".py",
   "mimetype": "text/x-python",
   "name": "python",
   "nbconvert_exporter": "python",
   "pygments_lexer": "ipython3",
   "version": "3.8.5"
  }
 },
 "nbformat": 4,
 "nbformat_minor": 5
}
