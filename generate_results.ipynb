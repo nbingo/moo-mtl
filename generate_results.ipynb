{
 "cells": [
  {
   "cell_type": "code",
   "execution_count": 1,
   "id": "9b0ff256",
   "metadata": {},
   "outputs": [],
   "source": [
    "import submitit\n",
    "\n",
    "import torch\n",
    "import random\n",
    "import numpy as np\n",
    "\n",
    "import pickle\n",
    "import itertools\n",
    "import argparse\n",
    "import logging\n",
    "import os\n",
    "import pathlib\n",
    "import time\n",
    "import json\n",
    "import math\n",
    "import matplotlib.pyplot as plt\n",
    "from torch.utils import data\n",
    "from fvcore.common.config import CfgNode\n",
    "from submitit.core.utils import FailedJobError\n",
    "from itertools import cycle\n",
    "from time import sleep\n",
    "from multi_objective.main import main, get_config\n",
    "from plotting.plotting import load_data, plot_row"
   ]
  },
  {
   "cell_type": "code",
   "execution_count": 2,
   "id": "7f8d2b09",
   "metadata": {},
   "outputs": [],
   "source": [
    "executor = submitit.AutoExecutor(folder=\"tmp/submitit\")\n",
    "seeds = [0, 1, 2, 3, 4]"
   ]
  },
  {
   "cell_type": "code",
   "execution_count": 3,
   "id": "c42d82f9",
   "metadata": {},
   "outputs": [],
   "source": [
    "executor.update_parameters(timeout_min=20, slurm_partition=\"alldlc_gpu-rtx2080\", name='results', gpus_per_node=1)\n",
    "executor.update_parameters(slurm_array_parallelism=100)"
   ]
  },
  {
   "cell_type": "code",
   "execution_count": 4,
   "id": "af5ec1c4",
   "metadata": {},
   "outputs": [],
   "source": [
    "def percent_finished(jobs):\n",
    "    if len(jobs):\n",
    "        return sum(job.done() for job in jobs) / len(jobs)\n",
    "\n",
    "def execute(config, seeds):\n",
    "    cfg = config.clone()\n",
    "    cfg.eval_every = 1   # early stopping\n",
    "    cfg.test_eval_every = 1  # generate test results\n",
    "    \n",
    "    cfgs = []\n",
    "    for seed in seeds:\n",
    "        cfg = cfg.clone()\n",
    "        cfg.merge_from_list(['seed', seed])\n",
    "        cfgs.append(cfg)\n",
    "    \n",
    "    tags = [f\"result_{s :2d}\" for s in seeds]\n",
    "    \n",
    "    # func, rank, world_size, cfg, tag\n",
    "    return executor.map_array(main, cycle([0]), cycle([1]), cfgs, tags)"
   ]
  },
  {
   "cell_type": "code",
   "execution_count": 5,
   "id": "828ea76a",
   "metadata": {},
   "outputs": [
    {
     "name": "stdout",
     "output_type": "stream",
     "text": [
      "loaded data for multi_mnist\n",
      "loaded data for multi_fashion\n",
      "loaded data for multi_fashion_mnist\n"
     ]
    }
   ],
   "source": [
    "results = load_data(datasets=['multi_mnist', 'multi_fashion', 'multi_fashion_mnist'])"
   ]
  },
  {
   "cell_type": "code",
   "execution_count": 6,
   "id": "3e84752a",
   "metadata": {},
   "outputs": [
    {
     "name": "stdout",
     "output_type": "stream",
     "text": [
      "cosmos\n",
      "uniform\n",
      "phn\n",
      "mgda\n",
      "cosmos\n",
      "uniform\n",
      "phn\n",
      "mgda\n",
      "cosmos\n",
      "uniform\n",
      "phn\n",
      "mgda\n",
      "success. See baselines_multi_mnist_multi_fashion_multi_fashion_mnist.pdf\n"
     ]
    }
   ],
   "source": [
    "plot_row(results, datasets=['multi_mnist', 'multi_fashion', 'multi_fashion_mnist'], prefix='baselines')"
   ]
  },
  {
   "cell_type": "markdown",
   "id": "a3862938",
   "metadata": {},
   "source": [
    "#### cosmos"
   ]
  },
  {
   "cell_type": "code",
   "execution_count": 7,
   "id": "03dd2be3",
   "metadata": {},
   "outputs": [],
   "source": [
    "jobs = execute(get_config('configs/multi_mnist/cosmos.yaml'), seeds)"
   ]
  },
  {
   "cell_type": "code",
   "execution_count": 8,
   "id": "99563900",
   "metadata": {},
   "outputs": [],
   "source": [
    "jobs = execute(get_config('configs/multi_fashion/cosmos.yaml'), seeds)"
   ]
  },
  {
   "cell_type": "code",
   "execution_count": 9,
   "id": "de755f5e",
   "metadata": {},
   "outputs": [],
   "source": [
    "jobs = execute(get_config('configs/multi_fashion_mnist/cosmos.yaml'), seeds)"
   ]
  },
  {
   "cell_type": "markdown",
   "id": "4f55aabe",
   "metadata": {},
   "source": [
    "#### mgda"
   ]
  },
  {
   "cell_type": "code",
   "execution_count": 10,
   "id": "abac03ff",
   "metadata": {},
   "outputs": [],
   "source": [
    "jobs = execute(get_config('configs/multi_mnist/mgda.yaml'), seeds)"
   ]
  },
  {
   "cell_type": "code",
   "execution_count": 11,
   "id": "c1a5215e",
   "metadata": {},
   "outputs": [],
   "source": [
    "jobs = execute(get_config('configs/multi_fashion/mgda.yaml'), seeds)"
   ]
  },
  {
   "cell_type": "code",
   "execution_count": 12,
   "id": "9ae40260",
   "metadata": {},
   "outputs": [],
   "source": [
    "jobs = execute(get_config('configs/multi_fashion_mnist/mgda.yaml'), seeds)"
   ]
  },
  {
   "cell_type": "markdown",
   "id": "78e43d71",
   "metadata": {},
   "source": [
    "#### phn"
   ]
  },
  {
   "cell_type": "code",
   "execution_count": 13,
   "id": "d8f184f9",
   "metadata": {},
   "outputs": [],
   "source": [
    "jobs = execute(get_config('configs/multi_mnist/phn.yaml'), seeds)"
   ]
  },
  {
   "cell_type": "code",
   "execution_count": 14,
   "id": "cb908bea",
   "metadata": {},
   "outputs": [],
   "source": [
    "jobs = execute(get_config('configs/multi_fashion/phn.yaml'), seeds)"
   ]
  },
  {
   "cell_type": "code",
   "execution_count": 15,
   "id": "ec22f7d7",
   "metadata": {},
   "outputs": [],
   "source": [
    "jobs = execute(get_config('configs/multi_fashion_mnist/phn.yaml'), seeds)"
   ]
  },
  {
   "cell_type": "markdown",
   "id": "6ad87ead",
   "metadata": {},
   "source": [
    "#### pmtl todo"
   ]
  },
  {
   "cell_type": "code",
   "execution_count": null,
   "id": "95d6ce2a",
   "metadata": {},
   "outputs": [],
   "source": []
  },
  {
   "cell_type": "code",
   "execution_count": null,
   "id": "2d79650a",
   "metadata": {},
   "outputs": [],
   "source": []
  },
  {
   "cell_type": "code",
   "execution_count": null,
   "id": "9560d6b6",
   "metadata": {},
   "outputs": [],
   "source": []
  },
  {
   "cell_type": "markdown",
   "id": "138b6b30",
   "metadata": {},
   "source": [
    "#### single task"
   ]
  },
  {
   "cell_type": "code",
   "execution_count": 16,
   "id": "181f983a",
   "metadata": {},
   "outputs": [],
   "source": [
    "jobs = execute(get_config('configs/multi_mnist/single_task.yaml'), seeds)"
   ]
  },
  {
   "cell_type": "code",
   "execution_count": 17,
   "id": "8f2aae39",
   "metadata": {},
   "outputs": [],
   "source": [
    "jobs = execute(get_config('configs/multi_fashion/single_task.yaml'), seeds)"
   ]
  },
  {
   "cell_type": "code",
   "execution_count": 18,
   "id": "510227e9",
   "metadata": {},
   "outputs": [],
   "source": [
    "jobs = execute(get_config('configs/multi_fashion_mnist/single_task.yaml'), seeds)"
   ]
  },
  {
   "cell_type": "markdown",
   "id": "48907e88",
   "metadata": {},
   "source": [
    "#### uniform"
   ]
  },
  {
   "cell_type": "code",
   "execution_count": 19,
   "id": "89a79255",
   "metadata": {},
   "outputs": [],
   "source": [
    "jobs = execute(get_config('configs/multi_mnist/uniform.yaml'), seeds)"
   ]
  },
  {
   "cell_type": "code",
   "execution_count": 20,
   "id": "24a7a461",
   "metadata": {},
   "outputs": [],
   "source": [
    "jobs = execute(get_config('configs/multi_fashion/uniform.yaml'), seeds)"
   ]
  },
  {
   "cell_type": "code",
   "execution_count": 21,
   "id": "f9e6dd0b",
   "metadata": {},
   "outputs": [],
   "source": [
    "jobs = execute(get_config('configs/multi_fashion_mnist/uniform.yaml'), seeds)"
   ]
  },
  {
   "cell_type": "code",
   "execution_count": null,
   "id": "d693ff90",
   "metadata": {},
   "outputs": [],
   "source": []
  }
 ],
 "metadata": {
  "kernelspec": {
   "display_name": "Python 3",
   "language": "python",
   "name": "python3"
  },
  "language_info": {
   "codemirror_mode": {
    "name": "ipython",
    "version": 3
   },
   "file_extension": ".py",
   "mimetype": "text/x-python",
   "name": "python",
   "nbconvert_exporter": "python",
   "pygments_lexer": "ipython3",
   "version": "3.8.5"
  }
 },
 "nbformat": 4,
 "nbformat_minor": 5
}
