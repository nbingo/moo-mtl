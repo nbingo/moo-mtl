{
 "cells": [
  {
   "cell_type": "code",
   "execution_count": 2,
   "id": "9b0ff256",
   "metadata": {},
   "outputs": [
    {
     "data": {
      "text/plain": [
       "<Figure size 432x288 with 0 Axes>"
      ]
     },
     "metadata": {},
     "output_type": "display_data"
    }
   ],
   "source": [
    "import submitit\n",
    "\n",
    "import torch\n",
    "import random\n",
    "import numpy as np\n",
    "\n",
    "import pickle\n",
    "import itertools\n",
    "import argparse\n",
    "import logging\n",
    "import os\n",
    "import pathlib\n",
    "import time\n",
    "import json\n",
    "import math\n",
    "import matplotlib.pyplot as plt\n",
    "from torch.utils import data\n",
    "from fvcore.common.config import CfgNode\n",
    "from submitit.core.utils import FailedJobError\n",
    "from itertools import cycle\n",
    "from time import sleep\n",
    "from multi_objective.main import main, get_config\n",
    "from plotting.plotting import load_data, plot_row, generate_table, generate_table_taskwise"
   ]
  },
  {
   "cell_type": "code",
   "execution_count": 3,
   "id": "598eced3-ff94-4653-b1bc-bd609fa6a3bd",
   "metadata": {},
   "outputs": [],
   "source": [
    "torch.cuda.init()\n",
    "torch.cuda.is_initialized()\n",
    "os.environ[\"CUDA_DEVICE_ORDER\"]=\"PCI_BUS_ID\"\n",
    "os.environ[\"CUDA_VISIBLE_DEVICES\"]='6'\n",
    "# os.environ[\"CUDA_VISIBLE_DEVICES\"]='2'"
   ]
  },
  {
   "cell_type": "code",
   "execution_count": 4,
   "id": "7f8d2b09",
   "metadata": {},
   "outputs": [],
   "source": [
    "executor = submitit.AutoExecutor(folder=\"tmp/submitit\")\n",
    "# seeds = [0, 1, 2, 3, 4, 5, 6, 7, 8, 9]\n",
    "seeds = [0]"
   ]
  },
  {
   "cell_type": "code",
   "execution_count": 5,
   "id": "c42d82f9",
   "metadata": {},
   "outputs": [],
   "source": [
    "executor.update_parameters(timeout_min=240,  name='results', gpus_per_node=2)\n",
    "executor.update_parameters(slurm_array_parallelism=100)"
   ]
  },
  {
   "cell_type": "code",
   "execution_count": 6,
   "id": "af5ec1c4",
   "metadata": {
    "tags": []
   },
   "outputs": [],
   "source": [
    "def percent_finished(jobs):\n",
    "    if len(jobs):\n",
    "        return sum(job.done() for job in jobs) / len(jobs)\n",
    "\n",
    "def execute(config, seeds, world_size=1):\n",
    "    cfg = config.clone()\n",
    "    cfg.eval_every = 100\n",
    "    cfg.test_eval_every = 100  # generate test results\n",
    "    cfg.metrics = ['mcr', 'mcr']\n",
    "    cfg.lr *= world_size\n",
    "    \n",
    "    cfgs = []\n",
    "    for seed in seeds:\n",
    "        cfg = cfg.clone()\n",
    "        cfg.merge_from_list(['seed', seed])\n",
    "        cfgs.append(cfg)\n",
    "    \n",
    "    tags = [f\"result_{s :02d}\" for s in seeds]\n",
    "    \n",
    "    # func, rank, world_size, cfg, tag\n",
    "    return executor.map_array(main, cycle(range(world_size)), cycle([world_size]), cfgs, tags)"
   ]
  },
  {
   "cell_type": "markdown",
   "id": "983567b9",
   "metadata": {},
   "source": [
    "# Baselines"
   ]
  },
  {
   "cell_type": "markdown",
   "id": "a3862938",
   "metadata": {},
   "source": [
    "#### cosmos"
   ]
  },
  {
   "cell_type": "code",
   "execution_count": 26,
   "id": "bf238110-9b86-47fa-9fb4-5a3260c4190a",
   "metadata": {},
   "outputs": [],
   "source": [
    "with open('/lfs/local/0/nomir/moo-mtl/tmp/submitit/80522_submitted.pkl', 'rb') as file:\n",
    "    p_data = pickle.load(file)"
   ]
  },
  {
   "cell_type": "code",
   "execution_count": 32,
   "id": "157c3ad9-487e-4a2f-a417-7dea254e1fe5",
   "metadata": {},
   "outputs": [
    {
     "data": {
      "text/plain": [
       "(0,\n",
       " 2,\n",
       " CfgNode({'dataset': 'celeba', 'dim': (5, 64, 64), 'augment_dim_for_cosmos': False, 'objectives': ['BinaryCrossEntropyLoss', 'BinaryCrossEntropyLoss'], 'task_ids': [16, 22], 'model_name': 'efficientnet-b4', 'channel_multiplier': 1.0, 'epochs': 30, 'num_workers': 4, 'checkpointing': True, 'lr_scheduler': 'CosineAnnealing', 'lr': 0.001, 'weight_decay': 0.0075, 'batch_size': 128, 'method': 'cosmos_orig', 'num_models': 5, 'approximate_mgda': False, 'normalization_type': 'none', 'alpha': 1.2, 'internal_solver_phn': 'linear', 'lamda': 2.0, 'population_size': 100, 'n_offsprings': 20, 'task_id': None, 'seed': 0, 'logdir': 'results', 'n_partitions': 24, 'eval_every': 100, 'train_eval_every': 0, 'test_eval_every': 100, 'reference_point': [1, 1], 'device': 'cuda', 'metrics': ['mcr', 'mcr']}),\n",
       " 'result_00')"
      ]
     },
     "execution_count": 32,
     "metadata": {},
     "output_type": "execute_result"
    }
   ],
   "source": [
    "p_data.args"
   ]
  },
  {
   "cell_type": "code",
   "execution_count": 17,
   "id": "0a23ca99-6364-43ac-9b7e-628e6e8f6834",
   "metadata": {},
   "outputs": [],
   "source": [
    "jobs_big = execute(get_config('configs/baselines/celeba/cosmos_orig.yaml'), seeds, world_size=2)"
   ]
  },
  {
   "cell_type": "code",
   "execution_count": 8,
   "id": "03dd2be3",
   "metadata": {},
   "outputs": [],
   "source": [
    "jobs = execute(get_config('configs/baselines/celeba/cosmos_orig.yaml'), seeds)"
   ]
  },
  {
   "cell_type": "code",
   "execution_count": 34,
   "id": "3e5ededd-921b-4849-b5d9-a00510906135",
   "metadata": {},
   "outputs": [
    {
     "data": {
      "text/plain": [
       "1.0"
      ]
     },
     "execution_count": 34,
     "metadata": {},
     "output_type": "execute_result"
    }
   ],
   "source": [
    "percent_finished(jobs)"
   ]
  },
  {
   "cell_type": "code",
   "execution_count": 20,
   "id": "86b4b459-efdf-4c53-8ce6-3ef0ff02c373",
   "metadata": {},
   "outputs": [
    {
     "data": {
      "text/plain": [
       "0.0"
      ]
     },
     "execution_count": 20,
     "metadata": {},
     "output_type": "execute_result"
    }
   ],
   "source": [
    "percent_finished(jobs_big)"
   ]
  },
  {
   "cell_type": "code",
   "execution_count": 17,
   "id": "47e463e8-babb-4fa4-a7fb-41de66efdf41",
   "metadata": {},
   "outputs": [
    {
     "name": "stderr",
     "output_type": "stream",
     "text": [
      "Traceback (most recent call last):\n",
      "  File \"/lfs/turing3/0/nomir/mambaforge/envs/moo-mtl/lib/python3.9/runpy.py\", line 197, in _run_module_as_main\n",
      "    return _run_code(code, main_globals, None,\n",
      "  File \"/lfs/turing3/0/nomir/mambaforge/envs/moo-mtl/lib/python3.9/runpy.py\", line 87, in _run_code\n",
      "    exec(code, run_globals)\n",
      "  File \"/lfs/turing3/0/nomir/mambaforge/envs/moo-mtl/lib/python3.9/site-packages/submitit/local/_local.py\", line 16, in <module>\n",
      "    controller.run()\n",
      "  File \"/lfs/turing3/0/nomir/mambaforge/envs/moo-mtl/lib/python3.9/site-packages/submitit/local/local.py\", line 322, in run\n",
      "    exit_codes = self.wait()\n",
      "  File \"/lfs/turing3/0/nomir/mambaforge/envs/moo-mtl/lib/python3.9/site-packages/submitit/local/local.py\", line 313, in wait\n",
      "    time.sleep(1.0 / freq)\n",
      "KeyboardInterrupt\n"
     ]
    }
   ],
   "source": [
    "jobs_big[0].cancel()"
   ]
  },
  {
   "cell_type": "markdown",
   "id": "f51c4643-f222-4edc-81ee-915259a17f8c",
   "metadata": {},
   "source": [
    "jobs = execute(get_config('configs/multi_fashion/cosmos.yaml'), seeds)"
   ]
  },
  {
   "cell_type": "code",
   "execution_count": 36,
   "id": "de755f5e",
   "metadata": {},
   "outputs": [],
   "source": [
    "jobs = execute(get_config('configs/multi_fashion_mnist/cosmos.yaml'), seeds)"
   ]
  },
  {
   "cell_type": "code",
   "execution_count": 7,
   "id": "7464df59",
   "metadata": {},
   "outputs": [],
   "source": [
    "jobs = execute(get_config('configs/multi_mnist/cosmos_orig.yaml'), seeds)"
   ]
  },
  {
   "cell_type": "code",
   "execution_count": 38,
   "id": "44ae2ec3",
   "metadata": {},
   "outputs": [],
   "source": [
    "jobs = execute(get_config('configs/multi_fashion/cosmos_orig.yaml'), seeds)"
   ]
  },
  {
   "cell_type": "code",
   "execution_count": 39,
   "id": "4ee4c8a7",
   "metadata": {},
   "outputs": [],
   "source": [
    "jobs = execute(get_config('configs/multi_fashion_mnist/cosmos_orig.yaml'), seeds)"
   ]
  },
  {
   "cell_type": "markdown",
   "id": "4f55aabe",
   "metadata": {},
   "source": [
    "#### mgda"
   ]
  },
  {
   "cell_type": "code",
   "execution_count": 40,
   "id": "abac03ff",
   "metadata": {},
   "outputs": [],
   "source": [
    "jobs = execute(get_config('configs/multi_mnist/mgda.yaml'), seeds)"
   ]
  },
  {
   "cell_type": "code",
   "execution_count": 41,
   "id": "c1a5215e",
   "metadata": {},
   "outputs": [],
   "source": [
    "jobs = execute(get_config('configs/multi_fashion/mgda.yaml'), seeds)"
   ]
  },
  {
   "cell_type": "code",
   "execution_count": 42,
   "id": "9ae40260",
   "metadata": {},
   "outputs": [],
   "source": [
    "jobs = execute(get_config('configs/multi_fashion_mnist/mgda.yaml'), seeds)"
   ]
  },
  {
   "cell_type": "markdown",
   "id": "78e43d71",
   "metadata": {},
   "source": [
    "#### phn"
   ]
  },
  {
   "cell_type": "code",
   "execution_count": 43,
   "id": "d8f184f9",
   "metadata": {},
   "outputs": [],
   "source": [
    "jobs = execute(get_config('configs/multi_mnist/phn.yaml'), seeds)"
   ]
  },
  {
   "cell_type": "code",
   "execution_count": 44,
   "id": "cb908bea",
   "metadata": {},
   "outputs": [],
   "source": [
    "jobs = execute(get_config('configs/multi_fashion/phn.yaml'), seeds)"
   ]
  },
  {
   "cell_type": "code",
   "execution_count": 45,
   "id": "ec22f7d7",
   "metadata": {},
   "outputs": [],
   "source": [
    "jobs = execute(get_config('configs/multi_fashion_mnist/phn.yaml'), seeds)"
   ]
  },
  {
   "cell_type": "code",
   "execution_count": 46,
   "id": "b5a40afe",
   "metadata": {},
   "outputs": [],
   "source": [
    "jobs = execute(get_config('configs/multi_mnist/phn_orig.yaml'), seeds)"
   ]
  },
  {
   "cell_type": "code",
   "execution_count": 47,
   "id": "2aa26910",
   "metadata": {},
   "outputs": [],
   "source": [
    "jobs = execute(get_config('configs/multi_fashion/phn_orig.yaml'), seeds)"
   ]
  },
  {
   "cell_type": "code",
   "execution_count": 48,
   "id": "78aee4aa",
   "metadata": {},
   "outputs": [],
   "source": [
    "jobs = execute(get_config('configs/multi_fashion_mnist/phn_orig.yaml'), seeds)"
   ]
  },
  {
   "cell_type": "markdown",
   "id": "6ad87ead",
   "metadata": {},
   "source": [
    "#### pmtl"
   ]
  },
  {
   "cell_type": "code",
   "execution_count": 49,
   "id": "c60603fa",
   "metadata": {},
   "outputs": [],
   "source": [
    "jobs = execute(get_config('configs/multi_mnist/pmtl.yaml'), seeds)"
   ]
  },
  {
   "cell_type": "code",
   "execution_count": 50,
   "id": "1868a742",
   "metadata": {},
   "outputs": [],
   "source": [
    "jobs = execute(get_config('configs/multi_fashion/pmtl.yaml'), seeds)"
   ]
  },
  {
   "cell_type": "code",
   "execution_count": 51,
   "id": "5d11b823",
   "metadata": {},
   "outputs": [],
   "source": [
    "jobs = execute(get_config('configs/multi_fashion_mnist/pmtl.yaml'), seeds)"
   ]
  },
  {
   "cell_type": "markdown",
   "id": "138b6b30",
   "metadata": {},
   "source": [
    "#### single task"
   ]
  },
  {
   "cell_type": "code",
   "execution_count": 6,
   "id": "9e85b3d9-7435-4299-b5e1-795dc7d84d71",
   "metadata": {
    "collapsed": true,
    "jupyter": {
     "outputs_hidden": true
    },
    "tags": []
   },
   "outputs": [
    {
     "name": "stderr",
     "output_type": "stream",
     "text": [
      "An exception occurred in telemetry logging.Disabling telemetry to prevent further exceptions.\n",
      "Traceback (most recent call last):\n",
      "  File \"/lfs/turing3/0/nomir/mambaforge/envs/moo-mtl/lib/python3.9/site-packages/iopath/common/file_io.py\", line 946, in __log_tmetry_keys\n",
      "    handler.log_event()\n",
      "  File \"/lfs/turing3/0/nomir/mambaforge/envs/moo-mtl/lib/python3.9/site-packages/iopath/common/event_logger.py\", line 97, in log_event\n",
      "    del self._evt\n",
      "AttributeError: _evt\n"
     ]
    },
    {
     "data": {
      "text/plain": [
       "[LocalJob<job_id=40188, task_id=0, state=\"RUNNING\">,\n",
       " LocalJob<job_id=40190, task_id=0, state=\"RUNNING\">]"
      ]
     },
     "execution_count": 6,
     "metadata": {},
     "output_type": "execute_result"
    }
   ],
   "source": [
    "os.environ[\"CUDA_VISIBLE_DEVICES\"]='5'\n",
    "jobs = execute(get_config('configs/baselines/celeba/single_task_1.yaml'), seeds)\n",
    "os.environ[\"CUDA_VISIBLE_DEVICES\"]='9'\n",
    "jobs + execute(get_config('configs/baselines/celeba/single_task_2.yaml'), seeds)"
   ]
  },
  {
   "cell_type": "code",
   "execution_count": 52,
   "id": "181f983a",
   "metadata": {},
   "outputs": [],
   "source": [
    "jobs = execute(get_config('configs/multi_mnist/single_task_1.yaml'), seeds)\n",
    "jobs = execute(get_config('configs/multi_mnist/single_task_2.yaml'), seeds)"
   ]
  },
  {
   "cell_type": "code",
   "execution_count": 53,
   "id": "8f2aae39",
   "metadata": {},
   "outputs": [],
   "source": [
    "jobs = execute(get_config('configs/multi_fashion/single_task_1.yaml'), seeds)\n",
    "jobs = execute(get_config('configs/multi_fashion/single_task_2.yaml'), seeds)"
   ]
  },
  {
   "cell_type": "code",
   "execution_count": 54,
   "id": "510227e9",
   "metadata": {},
   "outputs": [],
   "source": [
    "jobs = execute(get_config('configs/multi_fashion_mnist/single_task_1.yaml'), seeds)\n",
    "jobs = execute(get_config('configs/multi_fashion_mnist/single_task_2.yaml'), seeds)"
   ]
  },
  {
   "cell_type": "markdown",
   "id": "48907e88",
   "metadata": {},
   "source": [
    "#### uniform"
   ]
  },
  {
   "cell_type": "code",
   "execution_count": 55,
   "id": "89a79255",
   "metadata": {},
   "outputs": [],
   "source": [
    "jobs = execute(get_config('configs/multi_mnist/uniform.yaml'), seeds)"
   ]
  },
  {
   "cell_type": "code",
   "execution_count": 56,
   "id": "24a7a461",
   "metadata": {},
   "outputs": [],
   "source": [
    "jobs = execute(get_config('configs/multi_fashion/uniform.yaml'), seeds)"
   ]
  },
  {
   "cell_type": "code",
   "execution_count": 57,
   "id": "f9e6dd0b",
   "metadata": {},
   "outputs": [],
   "source": [
    "jobs = execute(get_config('configs/multi_fashion_mnist/uniform.yaml'), seeds)"
   ]
  },
  {
   "cell_type": "markdown",
   "id": "032c431b-33c2-4fbb-a101-4909986ad6bb",
   "metadata": {
    "tags": []
   },
   "source": [
    "#### linear scalarization"
   ]
  },
  {
   "cell_type": "code",
   "execution_count": 14,
   "id": "a074af7b-12a0-4133-be49-dccecfae6fbe",
   "metadata": {},
   "outputs": [],
   "source": [
    "jobs = execute(get_config('configs/baselines/celeba/linear_scalarization.yaml'), seeds)"
   ]
  },
  {
   "cell_type": "code",
   "execution_count": 20,
   "id": "a31dd41e-00ca-4062-8415-857a474d5821",
   "metadata": {},
   "outputs": [
    {
     "data": {
      "text/plain": [
       "0.0"
      ]
     },
     "execution_count": 20,
     "metadata": {},
     "output_type": "execute_result"
    }
   ],
   "source": [
    "percent_finished(jobs)"
   ]
  },
  {
   "cell_type": "code",
   "execution_count": 13,
   "id": "f8cb5c8b-4418-4b91-9b32-35e57ecc81ea",
   "metadata": {},
   "outputs": [
    {
     "ename": "FailedJobError",
     "evalue": "Job (task=0) failed during processing with trace:\n----------------------\nTraceback (most recent call last):\n  File \"/lfs/turing3/0/nomir/mambaforge/envs/moo-mtl/lib/python3.9/site-packages/submitit/core/submission.py\", line 53, in process_job\n    result = delayed.result()\n  File \"/lfs/turing3/0/nomir/mambaforge/envs/moo-mtl/lib/python3.9/site-packages/submitit/core/utils.py\", line 126, in result\n    self._result = self.function(*self.args, **self.kwargs)\n  File \"/lfs/turing3/0/nomir/moo-mtl/multi_objective/main.py\", line 319, in main\n    loss = method.step(batch)\n  File \"/lfs/turing3/0/nomir/moo-mtl/multi_objective/methods/linear_scalarization.py\", line 48, in step\n    loss_total = torch.sum(task_losses)\nTypeError: sum(): argument 'input' (position 1) must be Tensor, not list\n\n----------------------\nYou can check full logs with 'job.stderr(0)' and 'job.stdout(0)'or at paths:\n  - /lfs/turing3/0/nomir/moo-mtl/tmp/submitit/18595_0_log.err\n  - /lfs/turing3/0/nomir/moo-mtl/tmp/submitit/18595_0_log.out",
     "output_type": "error",
     "traceback": [
      "\u001b[0;31m---------------------------------------------------------------------------\u001b[0m",
      "\u001b[0;31mFailedJobError\u001b[0m                            Traceback (most recent call last)",
      "Input \u001b[0;32mIn [13]\u001b[0m, in \u001b[0;36m<module>\u001b[0;34m\u001b[0m\n\u001b[0;32m----> 1\u001b[0m \u001b[43mjobs\u001b[49m\u001b[43m[\u001b[49m\u001b[38;5;241;43m0\u001b[39;49m\u001b[43m]\u001b[49m\u001b[38;5;241;43m.\u001b[39;49m\u001b[43mresult\u001b[49m\u001b[43m(\u001b[49m\u001b[43m)\u001b[49m\n",
      "File \u001b[0;32m/lfs/turing3/0/nomir/mambaforge/envs/moo-mtl/lib/python3.9/site-packages/submitit/core/core.py:266\u001b[0m, in \u001b[0;36mJob.result\u001b[0;34m(self)\u001b[0m\n\u001b[1;32m    265\u001b[0m \u001b[38;5;28;01mdef\u001b[39;00m \u001b[38;5;21mresult\u001b[39m(\u001b[38;5;28mself\u001b[39m) \u001b[38;5;241m-\u001b[39m\u001b[38;5;241m>\u001b[39m R:\n\u001b[0;32m--> 266\u001b[0m     r \u001b[38;5;241m=\u001b[39m \u001b[38;5;28;43mself\u001b[39;49m\u001b[38;5;241;43m.\u001b[39;49m\u001b[43mresults\u001b[49m\u001b[43m(\u001b[49m\u001b[43m)\u001b[49m\n\u001b[1;32m    267\u001b[0m     \u001b[38;5;28;01massert\u001b[39;00m \u001b[38;5;129;01mnot\u001b[39;00m \u001b[38;5;28mself\u001b[39m\u001b[38;5;241m.\u001b[39m_sub_jobs, \u001b[38;5;124m\"\u001b[39m\u001b[38;5;124mYou should use `results()` if your job has subtasks.\u001b[39m\u001b[38;5;124m\"\u001b[39m\n\u001b[1;32m    268\u001b[0m     \u001b[38;5;28;01mreturn\u001b[39;00m r[\u001b[38;5;241m0\u001b[39m]\n",
      "File \u001b[0;32m/lfs/turing3/0/nomir/mambaforge/envs/moo-mtl/lib/python3.9/site-packages/submitit/core/core.py:294\u001b[0m, in \u001b[0;36mJob.results\u001b[0;34m(self)\u001b[0m\n\u001b[1;32m    292\u001b[0m     \u001b[38;5;28;01mif\u001b[39;00m job_exception \u001b[38;5;129;01mis\u001b[39;00m \u001b[38;5;28;01mNone\u001b[39;00m:\n\u001b[1;32m    293\u001b[0m         \u001b[38;5;28;01mraise\u001b[39;00m \u001b[38;5;167;01mRuntimeError\u001b[39;00m(\u001b[38;5;124m\"\u001b[39m\u001b[38;5;124mUnknown job exception\u001b[39m\u001b[38;5;124m\"\u001b[39m)\n\u001b[0;32m--> 294\u001b[0m     \u001b[38;5;28;01mraise\u001b[39;00m job_exception  \u001b[38;5;66;03m# pylint: disable=raising-bad-type\u001b[39;00m\n\u001b[1;32m    295\u001b[0m \u001b[38;5;28;01mreturn\u001b[39;00m [result]\n",
      "\u001b[0;31mFailedJobError\u001b[0m: Job (task=0) failed during processing with trace:\n----------------------\nTraceback (most recent call last):\n  File \"/lfs/turing3/0/nomir/mambaforge/envs/moo-mtl/lib/python3.9/site-packages/submitit/core/submission.py\", line 53, in process_job\n    result = delayed.result()\n  File \"/lfs/turing3/0/nomir/mambaforge/envs/moo-mtl/lib/python3.9/site-packages/submitit/core/utils.py\", line 126, in result\n    self._result = self.function(*self.args, **self.kwargs)\n  File \"/lfs/turing3/0/nomir/moo-mtl/multi_objective/main.py\", line 319, in main\n    loss = method.step(batch)\n  File \"/lfs/turing3/0/nomir/moo-mtl/multi_objective/methods/linear_scalarization.py\", line 48, in step\n    loss_total = torch.sum(task_losses)\nTypeError: sum(): argument 'input' (position 1) must be Tensor, not list\n\n----------------------\nYou can check full logs with 'job.stderr(0)' and 'job.stdout(0)'or at paths:\n  - /lfs/turing3/0/nomir/moo-mtl/tmp/submitit/18595_0_log.err\n  - /lfs/turing3/0/nomir/moo-mtl/tmp/submitit/18595_0_log.out"
     ]
    }
   ],
   "source": [
    "jobs[0].result()"
   ]
  },
  {
   "cell_type": "markdown",
   "id": "64d80948",
   "metadata": {},
   "source": [
    "## Results\n",
    "#### Loss"
   ]
  },
  {
   "cell_type": "code",
   "execution_count": 5,
   "id": "012eed5c",
   "metadata": {},
   "outputs": [
    {
     "name": "stdout",
     "output_type": "stream",
     "text": [
      "loaded data for multi_mnist\n",
      "loaded data for multi_fashion\n",
      "loaded data for multi_fashion_mnist\n",
      "success. See baselines.pdf\n"
     ]
    }
   ],
   "source": [
    "results = load_data(dirname='results')\n",
    "plot_row(results, prefix='baselines')\n",
    "generate_table(results, name='tab-baselines_loss')\n",
    "generate_table_taskwise(results, name='tab-baselines_loss_tw')"
   ]
  },
  {
   "cell_type": "markdown",
   "id": "fbe659a5",
   "metadata": {},
   "source": [
    "#### MCR"
   ]
  },
  {
   "cell_type": "code",
   "execution_count": 6,
   "id": "9e7d7cb7",
   "metadata": {},
   "outputs": [
    {
     "name": "stdout",
     "output_type": "stream",
     "text": [
      "loaded data for multi_mnist\n",
      "loaded data for multi_fashion\n",
      "loaded data for multi_fashion_mnist\n",
      "success. See baselines_mcr.pdf\n"
     ]
    }
   ],
   "source": [
    "results = load_data(dirname='results', custom_metric=True)\n",
    "plot_row(results, prefix='baselines_mcr')\n",
    "generate_table(results, name='tab-baselines_mcr')\n",
    "generate_table_taskwise(results, name='tab-baselines_mcr_tw')"
   ]
  },
  {
   "cell_type": "markdown",
   "id": "96d4dd32",
   "metadata": {},
   "source": [
    "# Different sizes"
   ]
  },
  {
   "cell_type": "code",
   "execution_count": 25,
   "id": "83df19e6",
   "metadata": {},
   "outputs": [],
   "source": [
    "executor.update_parameters(timeout_min=400)"
   ]
  },
  {
   "cell_type": "markdown",
   "id": "0843d948",
   "metadata": {},
   "source": [
    "#### size 50"
   ]
  },
  {
   "cell_type": "code",
   "execution_count": 18,
   "id": "e72cd264",
   "metadata": {},
   "outputs": [],
   "source": [
    "jobs = execute(get_config('size_50_configs/multi_fashion/uniform.yaml'), seeds)"
   ]
  },
  {
   "cell_type": "code",
   "execution_count": 19,
   "id": "85c562ec",
   "metadata": {},
   "outputs": [],
   "source": [
    "jobs = execute(get_config('size_50_configs/multi_fashion/single_task_1.yaml'), seeds)\n",
    "jobs = execute(get_config('size_50_configs/multi_fashion/single_task_2.yaml'), seeds)"
   ]
  },
  {
   "cell_type": "code",
   "execution_count": 20,
   "id": "02339e06",
   "metadata": {},
   "outputs": [],
   "source": [
    "jobs = execute(get_config('size_50_configs/multi_fashion_mnist/uniform.yaml'), seeds)"
   ]
  },
  {
   "cell_type": "code",
   "execution_count": 21,
   "id": "03062353",
   "metadata": {},
   "outputs": [],
   "source": [
    "jobs = execute(get_config('size_50_configs/multi_fashion_mnist/single_task_1.yaml'), seeds)\n",
    "jobs = execute(get_config('size_50_configs/multi_fashion_mnist/single_task_2.yaml'), seeds)"
   ]
  },
  {
   "cell_type": "code",
   "execution_count": 26,
   "id": "7ac1d8ac",
   "metadata": {},
   "outputs": [],
   "source": [
    "jobs = execute(get_config('size_50_configs/multi_mnist/uniform.yaml'), seeds)"
   ]
  },
  {
   "cell_type": "code",
   "execution_count": 27,
   "id": "2302d540",
   "metadata": {},
   "outputs": [],
   "source": [
    "jobs = execute(get_config('size_50_configs/multi_mnist/single_task_1.yaml'), seeds)\n",
    "jobs = execute(get_config('size_50_configs/multi_mnist/single_task_2.yaml'), seeds)"
   ]
  },
  {
   "cell_type": "markdown",
   "id": "694628ca",
   "metadata": {},
   "source": [
    "#### size 10"
   ]
  },
  {
   "cell_type": "code",
   "execution_count": 22,
   "id": "6df6b4d8",
   "metadata": {},
   "outputs": [],
   "source": [
    "jobs = execute(get_config('size_10_configs/multi_fashion/uniform.yaml'), seeds)"
   ]
  },
  {
   "cell_type": "code",
   "execution_count": 23,
   "id": "602d49d2",
   "metadata": {},
   "outputs": [],
   "source": [
    "jobs = execute(get_config('size_10_configs/multi_fashion/single_task_1.yaml'), seeds)\n",
    "jobs = execute(get_config('size_10_configs/multi_fashion/single_task_2.yaml'), seeds)"
   ]
  },
  {
   "cell_type": "code",
   "execution_count": 10,
   "id": "d73afa15",
   "metadata": {},
   "outputs": [],
   "source": [
    "jobs = execute(get_config('size_10_configs/multi_fashion_mnist/uniform.yaml'), seeds)"
   ]
  },
  {
   "cell_type": "code",
   "execution_count": 25,
   "id": "f2886bd7",
   "metadata": {},
   "outputs": [],
   "source": [
    "jobs = execute(get_config('size_10_configs/multi_fashion_mnist/single_task_1.yaml'), seeds)\n",
    "jobs = execute(get_config('size_10_configs/multi_fashion_mnist/single_task_2.yaml'), seeds)"
   ]
  },
  {
   "cell_type": "code",
   "execution_count": 26,
   "id": "12cd67cd",
   "metadata": {},
   "outputs": [],
   "source": [
    "jobs = execute(get_config('size_10_configs/multi_mnist/uniform.yaml'), seeds)"
   ]
  },
  {
   "cell_type": "code",
   "execution_count": 27,
   "id": "26c551ac",
   "metadata": {},
   "outputs": [],
   "source": [
    "jobs = execute(get_config('size_10_configs/multi_mnist/single_task_1.yaml'), seeds)\n",
    "jobs = execute(get_config('size_10_configs/multi_mnist/single_task_2.yaml'), seeds)"
   ]
  },
  {
   "cell_type": "markdown",
   "id": "5b5c54cd",
   "metadata": {},
   "source": [
    "#### size 0.5"
   ]
  },
  {
   "cell_type": "code",
   "execution_count": 28,
   "id": "1cbc6db1",
   "metadata": {},
   "outputs": [],
   "source": [
    "jobs = execute(get_config('size_0.5_configs/multi_fashion/uniform.yaml'), seeds)"
   ]
  },
  {
   "cell_type": "code",
   "execution_count": 29,
   "id": "fc1defc4",
   "metadata": {},
   "outputs": [],
   "source": [
    "jobs = execute(get_config('size_0.5_configs/multi_fashion/single_task_1.yaml'), seeds)\n",
    "jobs = execute(get_config('size_0.5_configs/multi_fashion/single_task_2.yaml'), seeds)"
   ]
  },
  {
   "cell_type": "code",
   "execution_count": 30,
   "id": "a27d6724",
   "metadata": {},
   "outputs": [],
   "source": [
    "jobs = execute(get_config('size_0.5_configs/multi_fashion_mnist/uniform.yaml'), seeds)"
   ]
  },
  {
   "cell_type": "code",
   "execution_count": 31,
   "id": "b0937ff9",
   "metadata": {},
   "outputs": [],
   "source": [
    "jobs = execute(get_config('size_0.5_configs/multi_fashion_mnist/single_task_1.yaml'), seeds)\n",
    "jobs = execute(get_config('size_0.5_configs/multi_fashion_mnist/single_task_2.yaml'), seeds)"
   ]
  },
  {
   "cell_type": "code",
   "execution_count": 32,
   "id": "b9d5945c",
   "metadata": {},
   "outputs": [],
   "source": [
    "jobs = execute(get_config('size_0.5_configs/multi_mnist/uniform.yaml'), seeds)"
   ]
  },
  {
   "cell_type": "code",
   "execution_count": 33,
   "id": "d67bde07",
   "metadata": {},
   "outputs": [],
   "source": [
    "jobs = execute(get_config('size_0.5_configs/multi_mnist/single_task_1.yaml'), seeds)\n",
    "jobs = execute(get_config('size_0.5_configs/multi_mnist/single_task_2.yaml'), seeds)"
   ]
  },
  {
   "cell_type": "code",
   "execution_count": 9,
   "id": "0dd6d451",
   "metadata": {},
   "outputs": [],
   "source": [
    "jobs = execute(get_config('size_10_configs/multi_fashion_mnist/single_task_2.yaml'), seeds)"
   ]
  },
  {
   "cell_type": "markdown",
   "id": "0c7fc2a8",
   "metadata": {},
   "source": [
    "## Results\n",
    "#### Loss 0.5"
   ]
  },
  {
   "cell_type": "code",
   "execution_count": 13,
   "id": "81725d33",
   "metadata": {},
   "outputs": [
    {
     "name": "stdout",
     "output_type": "stream",
     "text": [
      "loaded data for multi_mnist\n",
      "loaded data for multi_fashion\n",
      "loaded data for multi_fashion_mnist\n",
      "success. See size_0.5.pdf\n"
     ]
    }
   ],
   "source": [
    "results = load_data(dirname='results_size_0.5', custom_metric=True)\n",
    "plot_row(results, prefix='size_0.5')\n",
    "generate_table(results, name='tab-size_0.5')"
   ]
  },
  {
   "cell_type": "markdown",
   "id": "fa5ed294",
   "metadata": {},
   "source": [
    "#### Loss 10"
   ]
  },
  {
   "cell_type": "code",
   "execution_count": 14,
   "id": "940b4176",
   "metadata": {},
   "outputs": [
    {
     "name": "stdout",
     "output_type": "stream",
     "text": [
      "loaded data for multi_mnist\n",
      "loaded data for multi_fashion\n",
      "loaded data for multi_fashion_mnist\n",
      "success. See size_10.pdf\n"
     ]
    }
   ],
   "source": [
    "results = load_data(dirname='results_size_10', custom_metric=True)\n",
    "plot_row(results, prefix='size_10')\n",
    "generate_table(results, name='tab-size_10')"
   ]
  },
  {
   "cell_type": "markdown",
   "id": "1d68d077",
   "metadata": {},
   "source": [
    "#### Loss 50"
   ]
  },
  {
   "cell_type": "code",
   "execution_count": 28,
   "id": "098d65fe",
   "metadata": {},
   "outputs": [
    {
     "name": "stdout",
     "output_type": "stream",
     "text": [
      "loaded data for multi_mnist\n",
      "loaded data for multi_fashion\n",
      "loaded data for multi_fashion_mnist\n",
      "success. See size_50.pdf\n"
     ]
    }
   ],
   "source": [
    "results = load_data(dirname='results_size_50', custom_metric=True)\n",
    "plot_row(results, prefix='size_50')\n",
    "generate_table(results, name='tab-size_50')"
   ]
  },
  {
   "cell_type": "markdown",
   "id": "68e7aa1b",
   "metadata": {},
   "source": [
    "# Grid search"
   ]
  },
  {
   "cell_type": "code",
   "execution_count": 11,
   "id": "f2911993",
   "metadata": {},
   "outputs": [],
   "source": [
    "jobs = execute(get_config('grid_configs/multi_fashion/uniform.yaml'), seeds)"
   ]
  },
  {
   "cell_type": "code",
   "execution_count": 12,
   "id": "a6538a78",
   "metadata": {},
   "outputs": [],
   "source": [
    "jobs = execute(get_config('grid_configs/multi_fashion/single_task_1.yaml'), seeds)\n",
    "jobs = execute(get_config('grid_configs/multi_fashion/single_task_2.yaml'), seeds)"
   ]
  },
  {
   "cell_type": "code",
   "execution_count": 13,
   "id": "583c2a47",
   "metadata": {},
   "outputs": [],
   "source": [
    "jobs = execute(get_config('grid_configs/multi_fashion_mnist/uniform.yaml'), seeds)"
   ]
  },
  {
   "cell_type": "code",
   "execution_count": 14,
   "id": "5c39e89e",
   "metadata": {},
   "outputs": [],
   "source": [
    "jobs = execute(get_config('grid_configs/multi_fashion_mnist/single_task_1.yaml'), seeds)\n",
    "jobs = execute(get_config('grid_configs/multi_fashion_mnist/single_task_2.yaml'), seeds)"
   ]
  },
  {
   "cell_type": "code",
   "execution_count": 15,
   "id": "5d416d88",
   "metadata": {},
   "outputs": [],
   "source": [
    "jobs = execute(get_config('grid_configs/multi_mnist/uniform.yaml'), seeds)"
   ]
  },
  {
   "cell_type": "code",
   "execution_count": 16,
   "id": "0531a8df",
   "metadata": {},
   "outputs": [],
   "source": [
    "jobs = execute(get_config('grid_configs/multi_mnist/single_task_1.yaml'), seeds)\n",
    "jobs = execute(get_config('grid_configs/multi_mnist/single_task_2.yaml'), seeds)"
   ]
  },
  {
   "cell_type": "markdown",
   "id": "8abdba7e",
   "metadata": {},
   "source": [
    "## Results\n",
    "#### Loss"
   ]
  },
  {
   "cell_type": "code",
   "execution_count": 11,
   "id": "c2cc30ed",
   "metadata": {},
   "outputs": [
    {
     "name": "stdout",
     "output_type": "stream",
     "text": [
      "loaded data for multi_mnist\n",
      "loaded data for multi_fashion\n",
      "loaded data for multi_fashion_mnist\n",
      "success. See grid-mcr.pdf\n"
     ]
    }
   ],
   "source": [
    "results = load_data(dirname='results_grid', custom_metric=True)\n",
    "plot_row(results, prefix='grid-mcr')\n",
    "generate_table(results, name='tab-grid')"
   ]
  },
  {
   "cell_type": "code",
   "execution_count": null,
   "id": "aed5aa95",
   "metadata": {},
   "outputs": [],
   "source": []
  },
  {
   "cell_type": "code",
   "execution_count": null,
   "id": "d9c271c6",
   "metadata": {},
   "outputs": [],
   "source": []
  }
 ],
 "metadata": {
  "kernelspec": {
   "display_name": "Python 3 (ipykernel)",
   "language": "python",
   "name": "python3"
  },
  "language_info": {
   "codemirror_mode": {
    "name": "ipython",
    "version": 3
   },
   "file_extension": ".py",
   "mimetype": "text/x-python",
   "name": "python",
   "nbconvert_exporter": "python",
   "pygments_lexer": "ipython3",
   "version": "3.9.9"
  }
 },
 "nbformat": 4,
 "nbformat_minor": 5
}
