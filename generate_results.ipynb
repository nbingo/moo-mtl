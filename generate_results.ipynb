{
 "cells": [
  {
   "cell_type": "code",
   "execution_count": 17,
   "id": "3a787343",
   "metadata": {},
   "outputs": [],
   "source": [
    "import submitit\n",
    "\n",
    "import torch\n",
    "import random\n",
    "import numpy as np\n",
    "\n",
    "import pickle\n",
    "import itertools\n",
    "import argparse\n",
    "import logging\n",
    "import os\n",
    "import pathlib\n",
    "import time\n",
    "import json\n",
    "import math\n",
    "import matplotlib.pyplot as plt\n",
    "from torch.utils import data\n",
    "from fvcore.common.config import CfgNode\n",
    "from submitit.core.utils import FailedJobError\n",
    "from itertools import cycle\n",
    "from time import sleep\n",
    "from multi_objective.main import main, get_config"
   ]
  },
  {
   "cell_type": "code",
   "execution_count": 26,
   "id": "ac8fe1dd",
   "metadata": {},
   "outputs": [],
   "source": [
    "executor = submitit.AutoExecutor(folder=\"tmp/submitit\")\n",
    "seeds = [0, 1, 2, 3, 4, 5, 6, 7, 8, 9]"
   ]
  },
  {
   "cell_type": "code",
   "execution_count": 19,
   "id": "7ec20f41",
   "metadata": {},
   "outputs": [],
   "source": [
    "executor.update_parameters(timeout_min=20, slurm_partition=\"testdlc_gpu-rtx2080\", name='results', gpus_per_node=1)\n",
    "executor.update_parameters(slurm_array_parallelism=100)"
   ]
  },
  {
   "cell_type": "code",
   "execution_count": 23,
   "id": "696dad87",
   "metadata": {},
   "outputs": [],
   "source": [
    "def percent_finished(jobs):\n",
    "    if len(jobs):\n",
    "        return sum(job.done() for job in jobs) / len(jobs)\n",
    "\n",
    "def execute(config, seeds):\n",
    "    cfg = config.clone()\n",
    "    cfg.eval_every = 1   # early stopping\n",
    "    \n",
    "    cfgs = []\n",
    "    for seed in seeds:\n",
    "        cfg = cfg.clone()\n",
    "        cfg.merge_from_list(['seed', seed])\n",
    "        cfgs.append(cfg)\n",
    "    \n",
    "    tags = [f\"result_{s :2d}\" for s in seeds]\n",
    "    \n",
    "    # func, rank, world_size, cfg, tag\n",
    "    return executor.map_array(main, cycle([0]), cycle([1]), cfgs, tags)"
   ]
  },
  {
   "cell_type": "markdown",
   "id": "eb0a8772",
   "metadata": {},
   "source": [
    "#### cosmos"
   ]
  },
  {
   "cell_type": "code",
   "execution_count": 24,
   "id": "68b86297",
   "metadata": {},
   "outputs": [
    {
     "data": {
      "text/plain": [
       "[SlurmJob<job_id=6285833_0, task_id=0, state=\"UNKNOWN\">,\n",
       " SlurmJob<job_id=6285833_1, task_id=0, state=\"UNKNOWN\">,\n",
       " SlurmJob<job_id=6285833_2, task_id=0, state=\"UNKNOWN\">,\n",
       " SlurmJob<job_id=6285833_3, task_id=0, state=\"UNKNOWN\">,\n",
       " SlurmJob<job_id=6285833_4, task_id=0, state=\"UNKNOWN\">]"
      ]
     },
     "execution_count": 24,
     "metadata": {},
     "output_type": "execute_result"
    }
   ],
   "source": [
    "jobs = execute(get_config('configs/multi_mnist/cosmos.yaml'), seeds)"
   ]
  },
  {
   "cell_type": "code",
   "execution_count": null,
   "id": "e8c21083",
   "metadata": {},
   "outputs": [],
   "source": [
    "jobs = execute(get_config('configs/multi_fashion/cosmos.yaml'), seeds)"
   ]
  },
  {
   "cell_type": "code",
   "execution_count": null,
   "id": "0c722187",
   "metadata": {},
   "outputs": [],
   "source": [
    "jobs = execute(get_config('configs/multi_fashion_mnist/cosmos.yaml'), seeds)"
   ]
  },
  {
   "cell_type": "markdown",
   "id": "3b0006ed",
   "metadata": {},
   "source": [
    "#### uniform"
   ]
  },
  {
   "cell_type": "code",
   "execution_count": 25,
   "id": "8e4c5da3",
   "metadata": {},
   "outputs": [],
   "source": [
    "jobs = execute(get_config('configs/multi_mnist/uniform.yaml'), seeds)"
   ]
  },
  {
   "cell_type": "code",
   "execution_count": null,
   "id": "4ae5c9dc",
   "metadata": {},
   "outputs": [],
   "source": []
  },
  {
   "cell_type": "code",
   "execution_count": null,
   "id": "57bf7656",
   "metadata": {},
   "outputs": [],
   "source": []
  }
 ],
 "metadata": {
  "kernelspec": {
   "display_name": "Python 3",
   "language": "python",
   "name": "python3"
  },
  "language_info": {
   "codemirror_mode": {
    "name": "ipython",
    "version": 3
   },
   "file_extension": ".py",
   "mimetype": "text/x-python",
   "name": "python",
   "nbconvert_exporter": "python",
   "pygments_lexer": "ipython3",
   "version": "3.8.5"
  }
 },
 "nbformat": 4,
 "nbformat_minor": 5
}
