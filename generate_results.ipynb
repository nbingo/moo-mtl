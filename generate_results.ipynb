{
 "cells": [
  {
   "cell_type": "code",
   "execution_count": 1,
   "id": "9b0ff256",
   "metadata": {},
   "outputs": [],
   "source": [
    "import submitit\n",
    "\n",
    "import torch\n",
    "import random\n",
    "import numpy as np\n",
    "\n",
    "import pickle\n",
    "import itertools\n",
    "import argparse\n",
    "import logging\n",
    "import os\n",
    "import pathlib\n",
    "import time\n",
    "import json\n",
    "import math\n",
    "import matplotlib.pyplot as plt\n",
    "from torch.utils import data\n",
    "from fvcore.common.config import CfgNode\n",
    "from submitit.core.utils import FailedJobError\n",
    "from itertools import cycle\n",
    "from time import sleep\n",
    "from multi_objective.main import main, get_config\n",
    "from plotting.plotting import load_data, plot_row, generate_table, generate_table_taskwise"
   ]
  },
  {
   "cell_type": "code",
   "execution_count": 2,
   "id": "7f8d2b09",
   "metadata": {},
   "outputs": [],
   "source": [
    "executor = submitit.AutoExecutor(folder=\"tmp/submitit\")\n",
    "seeds = [0, 1, 2, 3, 4, 5, 6, 7, 8, 9]"
   ]
  },
  {
   "cell_type": "code",
   "execution_count": 3,
   "id": "c42d82f9",
   "metadata": {},
   "outputs": [],
   "source": [
    "executor.update_parameters(timeout_min=120, slurm_partition=\"alldlc_gpu-rtx2080\", name='results', gpus_per_node=1)\n",
    "executor.update_parameters(slurm_array_parallelism=100)"
   ]
  },
  {
   "cell_type": "code",
   "execution_count": 4,
   "id": "af5ec1c4",
   "metadata": {},
   "outputs": [],
   "source": [
    "def percent_finished(jobs):\n",
    "    if len(jobs):\n",
    "        return sum(job.done() for job in jobs) / len(jobs)\n",
    "\n",
    "def execute(config, seeds):\n",
    "    cfg = config.clone()\n",
    "    cfg.eval_every = 100\n",
    "    cfg.test_eval_every = 100  # generate test results\n",
    "    cfg.metrics = ['mcr', 'mcr']\n",
    "    \n",
    "    cfgs = []\n",
    "    for seed in seeds:\n",
    "        cfg = cfg.clone()\n",
    "        cfg.merge_from_list(['seed', seed])\n",
    "        cfgs.append(cfg)\n",
    "    \n",
    "    tags = [f\"result_{s :02d}\" for s in seeds]\n",
    "    \n",
    "    # func, rank, world_size, cfg, tag\n",
    "    return executor.map_array(main, cycle([0]), cycle([1]), cfgs, tags)"
   ]
  },
  {
   "cell_type": "markdown",
   "id": "983567b9",
   "metadata": {},
   "source": [
    "# Baselines"
   ]
  },
  {
   "cell_type": "markdown",
   "id": "a3862938",
   "metadata": {},
   "source": [
    "#### cosmos"
   ]
  },
  {
   "cell_type": "code",
   "execution_count": 6,
   "id": "03dd2be3",
   "metadata": {},
   "outputs": [],
   "source": [
    "jobs = execute(get_config('configs/multi_mnist/cosmos.yaml'), seeds)"
   ]
  },
  {
   "cell_type": "code",
   "execution_count": 35,
   "id": "99563900",
   "metadata": {},
   "outputs": [],
   "source": [
    "jobs = execute(get_config('configs/multi_fashion/cosmos.yaml'), seeds)"
   ]
  },
  {
   "cell_type": "code",
   "execution_count": 36,
   "id": "de755f5e",
   "metadata": {},
   "outputs": [],
   "source": [
    "jobs = execute(get_config('configs/multi_fashion_mnist/cosmos.yaml'), seeds)"
   ]
  },
  {
   "cell_type": "code",
   "execution_count": 7,
   "id": "7464df59",
   "metadata": {},
   "outputs": [],
   "source": [
    "jobs = execute(get_config('configs/multi_mnist/cosmos_orig.yaml'), seeds)"
   ]
  },
  {
   "cell_type": "code",
   "execution_count": 38,
   "id": "44ae2ec3",
   "metadata": {},
   "outputs": [],
   "source": [
    "jobs = execute(get_config('configs/multi_fashion/cosmos_orig.yaml'), seeds)"
   ]
  },
  {
   "cell_type": "code",
   "execution_count": 39,
   "id": "4ee4c8a7",
   "metadata": {},
   "outputs": [],
   "source": [
    "jobs = execute(get_config('configs/multi_fashion_mnist/cosmos_orig.yaml'), seeds)"
   ]
  },
  {
   "cell_type": "markdown",
   "id": "4f55aabe",
   "metadata": {},
   "source": [
    "#### mgda"
   ]
  },
  {
   "cell_type": "code",
   "execution_count": 40,
   "id": "abac03ff",
   "metadata": {},
   "outputs": [],
   "source": [
    "jobs = execute(get_config('configs/multi_mnist/mgda.yaml'), seeds)"
   ]
  },
  {
   "cell_type": "code",
   "execution_count": 41,
   "id": "c1a5215e",
   "metadata": {},
   "outputs": [],
   "source": [
    "jobs = execute(get_config('configs/multi_fashion/mgda.yaml'), seeds)"
   ]
  },
  {
   "cell_type": "code",
   "execution_count": 42,
   "id": "9ae40260",
   "metadata": {},
   "outputs": [],
   "source": [
    "jobs = execute(get_config('configs/multi_fashion_mnist/mgda.yaml'), seeds)"
   ]
  },
  {
   "cell_type": "markdown",
   "id": "78e43d71",
   "metadata": {},
   "source": [
    "#### phn"
   ]
  },
  {
   "cell_type": "code",
   "execution_count": 43,
   "id": "d8f184f9",
   "metadata": {},
   "outputs": [],
   "source": [
    "jobs = execute(get_config('configs/multi_mnist/phn.yaml'), seeds)"
   ]
  },
  {
   "cell_type": "code",
   "execution_count": 44,
   "id": "cb908bea",
   "metadata": {},
   "outputs": [],
   "source": [
    "jobs = execute(get_config('configs/multi_fashion/phn.yaml'), seeds)"
   ]
  },
  {
   "cell_type": "code",
   "execution_count": 45,
   "id": "ec22f7d7",
   "metadata": {},
   "outputs": [],
   "source": [
    "jobs = execute(get_config('configs/multi_fashion_mnist/phn.yaml'), seeds)"
   ]
  },
  {
   "cell_type": "code",
   "execution_count": 46,
   "id": "b5a40afe",
   "metadata": {},
   "outputs": [],
   "source": [
    "jobs = execute(get_config('configs/multi_mnist/phn_orig.yaml'), seeds)"
   ]
  },
  {
   "cell_type": "code",
   "execution_count": 47,
   "id": "2aa26910",
   "metadata": {},
   "outputs": [],
   "source": [
    "jobs = execute(get_config('configs/multi_fashion/phn_orig.yaml'), seeds)"
   ]
  },
  {
   "cell_type": "code",
   "execution_count": 48,
   "id": "78aee4aa",
   "metadata": {},
   "outputs": [],
   "source": [
    "jobs = execute(get_config('configs/multi_fashion_mnist/phn_orig.yaml'), seeds)"
   ]
  },
  {
   "cell_type": "markdown",
   "id": "6ad87ead",
   "metadata": {},
   "source": [
    "#### pmtl"
   ]
  },
  {
   "cell_type": "code",
   "execution_count": 49,
   "id": "c60603fa",
   "metadata": {},
   "outputs": [],
   "source": [
    "jobs = execute(get_config('configs/multi_mnist/pmtl.yaml'), seeds)"
   ]
  },
  {
   "cell_type": "code",
   "execution_count": 50,
   "id": "1868a742",
   "metadata": {},
   "outputs": [],
   "source": [
    "jobs = execute(get_config('configs/multi_fashion/pmtl.yaml'), seeds)"
   ]
  },
  {
   "cell_type": "code",
   "execution_count": 51,
   "id": "5d11b823",
   "metadata": {},
   "outputs": [],
   "source": [
    "jobs = execute(get_config('configs/multi_fashion_mnist/pmtl.yaml'), seeds)"
   ]
  },
  {
   "cell_type": "markdown",
   "id": "138b6b30",
   "metadata": {},
   "source": [
    "#### single task"
   ]
  },
  {
   "cell_type": "code",
   "execution_count": 52,
   "id": "181f983a",
   "metadata": {},
   "outputs": [],
   "source": [
    "jobs = execute(get_config('configs/multi_mnist/single_task_1.yaml'), seeds)\n",
    "jobs = execute(get_config('configs/multi_mnist/single_task_2.yaml'), seeds)"
   ]
  },
  {
   "cell_type": "code",
   "execution_count": 53,
   "id": "8f2aae39",
   "metadata": {},
   "outputs": [],
   "source": [
    "jobs = execute(get_config('configs/multi_fashion/single_task_1.yaml'), seeds)\n",
    "jobs = execute(get_config('configs/multi_fashion/single_task_2.yaml'), seeds)"
   ]
  },
  {
   "cell_type": "code",
   "execution_count": 54,
   "id": "510227e9",
   "metadata": {},
   "outputs": [],
   "source": [
    "jobs = execute(get_config('configs/multi_fashion_mnist/single_task_1.yaml'), seeds)\n",
    "jobs = execute(get_config('configs/multi_fashion_mnist/single_task_2.yaml'), seeds)"
   ]
  },
  {
   "cell_type": "markdown",
   "id": "48907e88",
   "metadata": {},
   "source": [
    "#### uniform"
   ]
  },
  {
   "cell_type": "code",
   "execution_count": 55,
   "id": "89a79255",
   "metadata": {},
   "outputs": [],
   "source": [
    "jobs = execute(get_config('configs/multi_mnist/uniform.yaml'), seeds)"
   ]
  },
  {
   "cell_type": "code",
   "execution_count": 56,
   "id": "24a7a461",
   "metadata": {},
   "outputs": [],
   "source": [
    "jobs = execute(get_config('configs/multi_fashion/uniform.yaml'), seeds)"
   ]
  },
  {
   "cell_type": "code",
   "execution_count": 57,
   "id": "f9e6dd0b",
   "metadata": {},
   "outputs": [],
   "source": [
    "jobs = execute(get_config('configs/multi_fashion_mnist/uniform.yaml'), seeds)"
   ]
  },
  {
   "cell_type": "markdown",
   "id": "64d80948",
   "metadata": {},
   "source": [
    "## Results\n",
    "#### Loss"
   ]
  },
  {
   "cell_type": "code",
   "execution_count": 5,
   "id": "012eed5c",
   "metadata": {},
   "outputs": [
    {
     "name": "stdout",
     "output_type": "stream",
     "text": [
      "loaded data for multi_mnist\n",
      "loaded data for multi_fashion\n",
      "loaded data for multi_fashion_mnist\n",
      "success. See baselines.pdf\n"
     ]
    }
   ],
   "source": [
    "results = load_data(dirname='results')\n",
    "plot_row(results, prefix='baselines')\n",
    "generate_table(results, name='tab-baselines_loss')\n",
    "generate_table_taskwise(results, name='tab-baselines_loss_tw')"
   ]
  },
  {
   "cell_type": "markdown",
   "id": "fbe659a5",
   "metadata": {},
   "source": [
    "#### MCR"
   ]
  },
  {
   "cell_type": "code",
   "execution_count": 6,
   "id": "9e7d7cb7",
   "metadata": {},
   "outputs": [
    {
     "name": "stdout",
     "output_type": "stream",
     "text": [
      "loaded data for multi_mnist\n",
      "loaded data for multi_fashion\n",
      "loaded data for multi_fashion_mnist\n",
      "success. See baselines_mcr.pdf\n"
     ]
    }
   ],
   "source": [
    "results = load_data(dirname='results', custom_metric=True)\n",
    "plot_row(results, prefix='baselines_mcr')\n",
    "generate_table(results, name='tab-baselines_mcr')\n",
    "generate_table_taskwise(results, name='tab-baselines_mcr_tw')"
   ]
  },
  {
   "cell_type": "markdown",
   "id": "96d4dd32",
   "metadata": {},
   "source": [
    "# Different sizes"
   ]
  },
  {
   "cell_type": "code",
   "execution_count": 25,
   "id": "83df19e6",
   "metadata": {},
   "outputs": [],
   "source": [
    "executor.update_parameters(timeout_min=400)"
   ]
  },
  {
   "cell_type": "markdown",
   "id": "0843d948",
   "metadata": {},
   "source": [
    "#### size 50"
   ]
  },
  {
   "cell_type": "code",
   "execution_count": 18,
   "id": "e72cd264",
   "metadata": {},
   "outputs": [],
   "source": [
    "jobs = execute(get_config('size_50_configs/multi_fashion/uniform.yaml'), seeds)"
   ]
  },
  {
   "cell_type": "code",
   "execution_count": 19,
   "id": "85c562ec",
   "metadata": {},
   "outputs": [],
   "source": [
    "jobs = execute(get_config('size_50_configs/multi_fashion/single_task_1.yaml'), seeds)\n",
    "jobs = execute(get_config('size_50_configs/multi_fashion/single_task_2.yaml'), seeds)"
   ]
  },
  {
   "cell_type": "code",
   "execution_count": 20,
   "id": "02339e06",
   "metadata": {},
   "outputs": [],
   "source": [
    "jobs = execute(get_config('size_50_configs/multi_fashion_mnist/uniform.yaml'), seeds)"
   ]
  },
  {
   "cell_type": "code",
   "execution_count": 21,
   "id": "03062353",
   "metadata": {},
   "outputs": [],
   "source": [
    "jobs = execute(get_config('size_50_configs/multi_fashion_mnist/single_task_1.yaml'), seeds)\n",
    "jobs = execute(get_config('size_50_configs/multi_fashion_mnist/single_task_2.yaml'), seeds)"
   ]
  },
  {
   "cell_type": "code",
   "execution_count": 26,
   "id": "7ac1d8ac",
   "metadata": {},
   "outputs": [],
   "source": [
    "jobs = execute(get_config('size_50_configs/multi_mnist/uniform.yaml'), seeds)"
   ]
  },
  {
   "cell_type": "code",
   "execution_count": 27,
   "id": "2302d540",
   "metadata": {},
   "outputs": [],
   "source": [
    "jobs = execute(get_config('size_50_configs/multi_mnist/single_task_1.yaml'), seeds)\n",
    "jobs = execute(get_config('size_50_configs/multi_mnist/single_task_2.yaml'), seeds)"
   ]
  },
  {
   "cell_type": "markdown",
   "id": "694628ca",
   "metadata": {},
   "source": [
    "#### size 10"
   ]
  },
  {
   "cell_type": "code",
   "execution_count": 22,
   "id": "6df6b4d8",
   "metadata": {},
   "outputs": [],
   "source": [
    "jobs = execute(get_config('size_10_configs/multi_fashion/uniform.yaml'), seeds)"
   ]
  },
  {
   "cell_type": "code",
   "execution_count": 23,
   "id": "602d49d2",
   "metadata": {},
   "outputs": [],
   "source": [
    "jobs = execute(get_config('size_10_configs/multi_fashion/single_task_1.yaml'), seeds)\n",
    "jobs = execute(get_config('size_10_configs/multi_fashion/single_task_2.yaml'), seeds)"
   ]
  },
  {
   "cell_type": "code",
   "execution_count": 10,
   "id": "d73afa15",
   "metadata": {},
   "outputs": [],
   "source": [
    "jobs = execute(get_config('size_10_configs/multi_fashion_mnist/uniform.yaml'), seeds)"
   ]
  },
  {
   "cell_type": "code",
   "execution_count": 25,
   "id": "f2886bd7",
   "metadata": {},
   "outputs": [],
   "source": [
    "jobs = execute(get_config('size_10_configs/multi_fashion_mnist/single_task_1.yaml'), seeds)\n",
    "jobs = execute(get_config('size_10_configs/multi_fashion_mnist/single_task_2.yaml'), seeds)"
   ]
  },
  {
   "cell_type": "code",
   "execution_count": 26,
   "id": "12cd67cd",
   "metadata": {},
   "outputs": [],
   "source": [
    "jobs = execute(get_config('size_10_configs/multi_mnist/uniform.yaml'), seeds)"
   ]
  },
  {
   "cell_type": "code",
   "execution_count": 27,
   "id": "26c551ac",
   "metadata": {},
   "outputs": [],
   "source": [
    "jobs = execute(get_config('size_10_configs/multi_mnist/single_task_1.yaml'), seeds)\n",
    "jobs = execute(get_config('size_10_configs/multi_mnist/single_task_2.yaml'), seeds)"
   ]
  },
  {
   "cell_type": "markdown",
   "id": "5b5c54cd",
   "metadata": {},
   "source": [
    "#### size 0.5"
   ]
  },
  {
   "cell_type": "code",
   "execution_count": 28,
   "id": "1cbc6db1",
   "metadata": {},
   "outputs": [],
   "source": [
    "jobs = execute(get_config('size_0.5_configs/multi_fashion/uniform.yaml'), seeds)"
   ]
  },
  {
   "cell_type": "code",
   "execution_count": 29,
   "id": "fc1defc4",
   "metadata": {},
   "outputs": [],
   "source": [
    "jobs = execute(get_config('size_0.5_configs/multi_fashion/single_task_1.yaml'), seeds)\n",
    "jobs = execute(get_config('size_0.5_configs/multi_fashion/single_task_2.yaml'), seeds)"
   ]
  },
  {
   "cell_type": "code",
   "execution_count": 30,
   "id": "a27d6724",
   "metadata": {},
   "outputs": [],
   "source": [
    "jobs = execute(get_config('size_0.5_configs/multi_fashion_mnist/uniform.yaml'), seeds)"
   ]
  },
  {
   "cell_type": "code",
   "execution_count": 31,
   "id": "b0937ff9",
   "metadata": {},
   "outputs": [],
   "source": [
    "jobs = execute(get_config('size_0.5_configs/multi_fashion_mnist/single_task_1.yaml'), seeds)\n",
    "jobs = execute(get_config('size_0.5_configs/multi_fashion_mnist/single_task_2.yaml'), seeds)"
   ]
  },
  {
   "cell_type": "code",
   "execution_count": 32,
   "id": "b9d5945c",
   "metadata": {},
   "outputs": [],
   "source": [
    "jobs = execute(get_config('size_0.5_configs/multi_mnist/uniform.yaml'), seeds)"
   ]
  },
  {
   "cell_type": "code",
   "execution_count": 33,
   "id": "d67bde07",
   "metadata": {},
   "outputs": [],
   "source": [
    "jobs = execute(get_config('size_0.5_configs/multi_mnist/single_task_1.yaml'), seeds)\n",
    "jobs = execute(get_config('size_0.5_configs/multi_mnist/single_task_2.yaml'), seeds)"
   ]
  },
  {
   "cell_type": "code",
   "execution_count": 9,
   "id": "0dd6d451",
   "metadata": {},
   "outputs": [],
   "source": [
    "jobs = execute(get_config('size_10_configs/multi_fashion_mnist/single_task_2.yaml'), seeds)"
   ]
  },
  {
   "cell_type": "markdown",
   "id": "0c7fc2a8",
   "metadata": {},
   "source": [
    "## Results\n",
    "#### Loss 0.5"
   ]
  },
  {
   "cell_type": "code",
   "execution_count": 13,
   "id": "81725d33",
   "metadata": {},
   "outputs": [
    {
     "name": "stdout",
     "output_type": "stream",
     "text": [
      "loaded data for multi_mnist\n",
      "loaded data for multi_fashion\n",
      "loaded data for multi_fashion_mnist\n",
      "success. See size_0.5.pdf\n"
     ]
    }
   ],
   "source": [
    "results = load_data(dirname='results_size_0.5', custom_metric=True)\n",
    "plot_row(results, prefix='size_0.5')\n",
    "generate_table(results, name='tab-size_0.5')"
   ]
  },
  {
   "cell_type": "markdown",
   "id": "fa5ed294",
   "metadata": {},
   "source": [
    "#### Loss 10"
   ]
  },
  {
   "cell_type": "code",
   "execution_count": 14,
   "id": "940b4176",
   "metadata": {},
   "outputs": [
    {
     "name": "stdout",
     "output_type": "stream",
     "text": [
      "loaded data for multi_mnist\n",
      "loaded data for multi_fashion\n",
      "loaded data for multi_fashion_mnist\n",
      "success. See size_10.pdf\n"
     ]
    }
   ],
   "source": [
    "results = load_data(dirname='results_size_10', custom_metric=True)\n",
    "plot_row(results, prefix='size_10')\n",
    "generate_table(results, name='tab-size_10')"
   ]
  },
  {
   "cell_type": "markdown",
   "id": "1d68d077",
   "metadata": {},
   "source": [
    "#### Loss 50"
   ]
  },
  {
   "cell_type": "code",
   "execution_count": 28,
   "id": "098d65fe",
   "metadata": {},
   "outputs": [
    {
     "name": "stdout",
     "output_type": "stream",
     "text": [
      "loaded data for multi_mnist\n",
      "loaded data for multi_fashion\n",
      "loaded data for multi_fashion_mnist\n",
      "success. See size_50.pdf\n"
     ]
    }
   ],
   "source": [
    "results = load_data(dirname='results_size_50', custom_metric=True)\n",
    "plot_row(results, prefix='size_50')\n",
    "generate_table(results, name='tab-size_50')"
   ]
  },
  {
   "cell_type": "markdown",
   "id": "68e7aa1b",
   "metadata": {},
   "source": [
    "# Grid search"
   ]
  },
  {
   "cell_type": "code",
   "execution_count": 11,
   "id": "f2911993",
   "metadata": {},
   "outputs": [],
   "source": [
    "jobs = execute(get_config('grid_configs/multi_fashion/uniform.yaml'), seeds)"
   ]
  },
  {
   "cell_type": "code",
   "execution_count": 12,
   "id": "a6538a78",
   "metadata": {},
   "outputs": [],
   "source": [
    "jobs = execute(get_config('grid_configs/multi_fashion/single_task_1.yaml'), seeds)\n",
    "jobs = execute(get_config('grid_configs/multi_fashion/single_task_2.yaml'), seeds)"
   ]
  },
  {
   "cell_type": "code",
   "execution_count": 13,
   "id": "583c2a47",
   "metadata": {},
   "outputs": [],
   "source": [
    "jobs = execute(get_config('grid_configs/multi_fashion_mnist/uniform.yaml'), seeds)"
   ]
  },
  {
   "cell_type": "code",
   "execution_count": 14,
   "id": "5c39e89e",
   "metadata": {},
   "outputs": [],
   "source": [
    "jobs = execute(get_config('grid_configs/multi_fashion_mnist/single_task_1.yaml'), seeds)\n",
    "jobs = execute(get_config('grid_configs/multi_fashion_mnist/single_task_2.yaml'), seeds)"
   ]
  },
  {
   "cell_type": "code",
   "execution_count": 15,
   "id": "5d416d88",
   "metadata": {},
   "outputs": [],
   "source": [
    "jobs = execute(get_config('grid_configs/multi_mnist/uniform.yaml'), seeds)"
   ]
  },
  {
   "cell_type": "code",
   "execution_count": 16,
   "id": "0531a8df",
   "metadata": {},
   "outputs": [],
   "source": [
    "jobs = execute(get_config('grid_configs/multi_mnist/single_task_1.yaml'), seeds)\n",
    "jobs = execute(get_config('grid_configs/multi_mnist/single_task_2.yaml'), seeds)"
   ]
  },
  {
   "cell_type": "markdown",
   "id": "8abdba7e",
   "metadata": {},
   "source": [
    "## Results\n",
    "#### Loss"
   ]
  },
  {
   "cell_type": "code",
   "execution_count": 11,
   "id": "c2cc30ed",
   "metadata": {},
   "outputs": [
    {
     "name": "stdout",
     "output_type": "stream",
     "text": [
      "loaded data for multi_mnist\n",
      "loaded data for multi_fashion\n",
      "loaded data for multi_fashion_mnist\n",
      "success. See grid-mcr.pdf\n"
     ]
    }
   ],
   "source": [
    "results = load_data(dirname='results_grid', custom_metric=True)\n",
    "plot_row(results, prefix='grid-mcr')\n",
    "generate_table(results, name='tab-grid')"
   ]
  },
  {
   "cell_type": "code",
   "execution_count": null,
   "id": "aed5aa95",
   "metadata": {},
   "outputs": [],
   "source": []
  },
  {
   "cell_type": "code",
   "execution_count": null,
   "id": "d9c271c6",
   "metadata": {},
   "outputs": [],
   "source": []
  }
 ],
 "metadata": {
  "kernelspec": {
   "display_name": "Python 3",
   "language": "python",
   "name": "python3"
  },
  "language_info": {
   "codemirror_mode": {
    "name": "ipython",
    "version": 3
   },
   "file_extension": ".py",
   "mimetype": "text/x-python",
   "name": "python",
   "nbconvert_exporter": "python",
   "pygments_lexer": "ipython3",
   "version": "3.8.10"
  }
 },
 "nbformat": 4,
 "nbformat_minor": 5
}
