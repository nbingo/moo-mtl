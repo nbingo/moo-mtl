{
 "cells": [
  {
   "cell_type": "code",
   "execution_count": 1,
   "id": "6395b840",
   "metadata": {},
   "outputs": [],
   "source": [
    "import submitit\n",
    "\n",
    "import torch\n",
    "import random\n",
    "import numpy as np\n",
    "\n",
    "import pickle\n",
    "import itertools\n",
    "import argparse\n",
    "import logging\n",
    "import os\n",
    "import pathlib\n",
    "import time\n",
    "import json\n",
    "import math\n",
    "import matplotlib.pyplot as plt\n",
    "from torch.utils import data\n",
    "from fvcore.common.config import CfgNode\n",
    "from submitit.core.utils import FailedJobError"
   ]
  },
  {
   "cell_type": "code",
   "execution_count": 2,
   "id": "e3e7f060",
   "metadata": {},
   "outputs": [],
   "source": [
    "from multi_objective.main import main, get_config"
   ]
  },
  {
   "cell_type": "code",
   "execution_count": 3,
   "id": "d27d2cc2",
   "metadata": {},
   "outputs": [],
   "source": [
    "executor = submitit.AutoExecutor(folder=\"tmp/submitit_hpo\")"
   ]
  },
  {
   "cell_type": "markdown",
   "id": "fe760f76",
   "metadata": {},
   "source": [
    "# Prepare the globals"
   ]
  },
  {
   "cell_type": "code",
   "execution_count": 61,
   "id": "e85e5b25",
   "metadata": {},
   "outputs": [],
   "source": [
    "adult_cfg = get_config('configs/adult.yaml')\n",
    "compass_cfg = get_config('configs/compass.yaml')\n",
    "credit_cfg = get_config('configs/credit.yaml')\n",
    "mm_cfg = get_config('configs/multi_mnist.yaml')\n",
    "mf_cfg = get_config('configs/multi_fashion.yaml')\n",
    "mfm_cfg = get_config('configs/multi_fashion_mnist.yaml')\n",
    "\n",
    "methods = ['cosmos', 'mgda']\n",
    "WORLDSIZE = 1\n",
    "\n",
    "num_evaluations = 100\n",
    "J = 2\n",
    "\n",
    "max_dist = {\n",
    "    'adult': 0.7,\n",
    "    'compass': 0.7,\n",
    "    'credit': 1.,\n",
    "    'mm': 0.005\n",
    "}\n",
    "\n",
    "epochs_tabular = 20\n",
    "epochs_mnist = 50"
   ]
  },
  {
   "cell_type": "code",
   "execution_count": 8,
   "id": "8beab615",
   "metadata": {},
   "outputs": [],
   "source": [
    "# log transform for lr \n",
    "lr_range = (np.log(1e-4), np.log(1e-2))\n",
    "lamda_range = (np.log(0.00001), np.log(10))\n",
    "alpha_range = (np.log(.2), np.log(5))\n",
    "cosmos_norm_choice = [True, False]\n",
    "scheduler_choice = ['none', 'MultiStep', 'CosineAnnealing']\n",
    "mgda_norm_choice = ['none', 'l2', 'loss', 'loss+']\n",
    "phn_solver = ['linear', 'epo']"
   ]
  },
  {
   "cell_type": "markdown",
   "id": "021fce52",
   "metadata": {},
   "source": [
    "Sample the hyperparameters"
   ]
  },
  {
   "cell_type": "code",
   "execution_count": 9,
   "id": "9850fc58",
   "metadata": {},
   "outputs": [
    {
     "name": "stdout",
     "output_type": "stream",
     "text": [
      "Num evals: 100\n"
     ]
    }
   ],
   "source": [
    "# sampling\n",
    "np.random.seed(1)\n",
    "\n",
    "learning_rates = np.exp(np.random.uniform(*lr_range ,[num_evaluations]))\n",
    "lamdas = np.exp(np.random.uniform(*lamda_range ,[num_evaluations]))\n",
    "alphas = np.exp(np.random.uniform(*alpha_range ,[num_evaluations, J]))\n",
    "cosmos_norms = np.random.choice(cosmos_norm_choice, num_evaluations)\n",
    "schedulers = np.random.choice(scheduler_choice, num_evaluations)\n",
    "mgda_norms = np.random.choice(mgda_norm_choice, num_evaluations)\n",
    "phn_solvers = np.random.choice(phn_solver, num_evaluations)\n",
    "                     \n",
    "print(f\"Num evals: {len(learning_rates)}\")"
   ]
  },
  {
   "cell_type": "code",
   "execution_count": 10,
   "id": "dcb670dd",
   "metadata": {},
   "outputs": [],
   "source": [
    "def convert_hp(array, arg, dtype):\n",
    "    n = len(array)\n",
    "    array = [[dtype(a_i) for a_i in a] if isinstance(a, np.ndarray) else dtype(a) for a in array]\n",
    "    args = list(itertools.repeat(arg, n))\n",
    "    return args, array"
   ]
  },
  {
   "cell_type": "code",
   "execution_count": 11,
   "id": "7f276532",
   "metadata": {},
   "outputs": [],
   "source": [
    "cosmos_lrs = convert_hp(learning_rates, 'cosmos.lr', float)\n",
    "cosmos_scheds = convert_hp(schedulers, 'cosmos.lr_scheduler', str)\n",
    "cosmos_lamdas = convert_hp(lamdas, 'cosmos.lamda', float)\n",
    "cosmos_alphas = convert_hp(alphas, 'cosmos.alpha', float)\n",
    "cosmos_norm = convert_hp(cosmos_norms, 'cosmos.normalize', bool)\n",
    "\n",
    "mgda_lrs = convert_hp(learning_rates, 'mgda.lr', float)\n",
    "mgda_scheds = convert_hp(schedulers, 'mgda.lr_scheduler', str)\n",
    "mgda_norms = convert_hp(mgda_norms, 'mgda.normalization_type', str)\n",
    "\n",
    "pmtl_lrs = convert_hp(learning_rates, 'pmtl.lr', float)\n",
    "pmtl_scheds = convert_hp(schedulers, 'pmtl.lr_scheduler', str)\n",
    "\n"
   ]
  },
  {
   "cell_type": "code",
   "execution_count": 24,
   "id": "ffb56d03",
   "metadata": {},
   "outputs": [],
   "source": [
    "def percent_finished(jobs):\n",
    "    return sum(job.done() for job in jobs) / len(jobs)\n",
    "\n",
    "\n",
    "def save_jobs(method, dataset, jobs, tag='hpo'):\n",
    "    with open(f'pickles/{method}_{dataset}_{tag}.pickle', 'wb') as f:\n",
    "        pickle.dump(jobs, f)\n",
    "\n",
    "        \n",
    "def load_jobs(method, dataset, tag='hpo'):\n",
    "    with open(f'pickles/{method}_{dataset}_{tag}.pickle', 'rb') as f:\n",
    "        return pickle.load(f)\n",
    "\n",
    "\n",
    "def jobs_failed(jobs):\n",
    "    idxs = []\n",
    "    for i, job in enumerate(jobs):\n",
    "        if job.state == 'FAILED':\n",
    "            idxs.append(i)\n",
    "    return idxs\n",
    "\n",
    "\n",
    "def results_exist(method, dataset, tag='hpo'):\n",
    "    exist = os.path.exists(f'pickles/{method}_{dataset}_{tag}.pickle')\n",
    "    if exist:\n",
    "        print('skipping.')\n",
    "    return exist\n",
    "\n",
    "def get_optimal_cfg(jobs, max_dist=None):\n",
    "    idx_best = None\n",
    "    hv_best = 0\n",
    "    \n",
    "    for i, job in enumerate(jobs):\n",
    "        try:\n",
    "            hv, dist = job.result()\n",
    "        except FailedJobError:\n",
    "            continue\n",
    "        if max_dist is not None and dist > max_dist:\n",
    "            continue\n",
    "        \n",
    "        if hv > hv_best:\n",
    "            print(hv, dist, job.job_id)\n",
    "            hv_best = hv\n",
    "            idx_best = i\n",
    "    assert idx_best is not None, \"No optimal cfg found\"\n",
    "    print(f'Best job: {jobs[idx_best].job_id}')\n",
    "    return jobs[idx_best].submission().kwargs['cfg']"
   ]
  },
  {
   "cell_type": "code",
   "execution_count": 13,
   "id": "f63f412e",
   "metadata": {},
   "outputs": [],
   "source": [
    "executor.update_parameters(timeout_min=20, slurm_partition=\"ml_gpu-rtx2080\", name='hpo', gpus_per_node=1)\n",
    "executor.update_parameters(slurm_array_parallelism=35)"
   ]
  },
  {
   "cell_type": "code",
   "execution_count": 19,
   "id": "161e8835",
   "metadata": {},
   "outputs": [],
   "source": [
    "executor.update_parameters(slurm_exclude='mlgpu05')"
   ]
  },
  {
   "cell_type": "markdown",
   "id": "e062bc37",
   "metadata": {},
   "source": [
    "## COSMOS"
   ]
  },
  {
   "cell_type": "code",
   "execution_count": 15,
   "id": "91925df6",
   "metadata": {},
   "outputs": [],
   "source": [
    "hpo_cosmos = list(zip(*cosmos_lrs, *cosmos_alphas, *cosmos_norm))   # lamda=0\n",
    "method = 'cosmos'"
   ]
  },
  {
   "cell_type": "code",
   "execution_count": null,
   "id": "511b1da9",
   "metadata": {},
   "outputs": [],
   "source": []
  },
  {
   "cell_type": "markdown",
   "id": "61416279",
   "metadata": {},
   "source": [
    "#### Adult"
   ]
  },
  {
   "cell_type": "code",
   "execution_count": 16,
   "id": "b506ddfb",
   "metadata": {},
   "outputs": [],
   "source": [
    "cfg = adult_cfg.clone()\n",
    "cfg.epochs = epochs_tabular\n",
    "cfg.eval_every = epochs_tabular\n",
    "dataset = 'adult'\n",
    "hpos = hpo_cosmos"
   ]
  },
  {
   "cell_type": "markdown",
   "id": "960371c7",
   "metadata": {},
   "source": [
    "Runs the search"
   ]
  },
  {
   "cell_type": "code",
   "execution_count": 20,
   "id": "277d3dbf",
   "metadata": {},
   "outputs": [],
   "source": [
    "if not results_exist(method, dataset):\n",
    "    jobs = []\n",
    "    with executor.batch():\n",
    "        for args in hpos:\n",
    "            cfg = cfg.clone()\n",
    "            cfg.merge_from_list(args)\n",
    "            job = executor.submit(main, rank=0, world_size=1, method_name=method, cfg=cfg, tag='hpo')\n",
    "            jobs.append(job)"
   ]
  },
  {
   "cell_type": "code",
   "execution_count": 26,
   "id": "98519aa0",
   "metadata": {},
   "outputs": [
    {
     "name": "stdout",
     "output_type": "stream",
     "text": [
      "1.0\n"
     ]
    }
   ],
   "source": [
    "print(percent_finished(jobs))\n",
    "jobs_failed(jobs)"
   ]
  },
  {
   "cell_type": "code",
   "execution_count": 27,
   "id": "3a15527d",
   "metadata": {},
   "outputs": [],
   "source": [
    "if not results_exist(method, dataset):\n",
    "    save_jobs(method, dataset, jobs)"
   ]
  },
  {
   "cell_type": "code",
   "execution_count": 30,
   "id": "5831bc1d",
   "metadata": {},
   "outputs": [
    {
     "name": "stdout",
     "output_type": "stream",
     "text": [
      "3.325317963661113 0.6643087703627651 5842949_0\n",
      "3.32860757027072 0.6664323006000586 5842949_16\n",
      "3.3319845076147216 0.6774339598285042 5842949_33\n",
      "3.3371375879367178 0.6668008493196068 5842949_48\n",
      "3.3388226971885597 0.6733755906510289 5842949_84\n",
      "Best job: 5842949_84\n"
     ]
    },
    {
     "data": {
      "text/plain": [
       "CfgNode({'dataset': 'adult', 'dim': (88,), 'objectives': ['BinaryCrossEntropyLoss', 'ddp'], 'task_ids': [], 'ignore_index': -100, 'epochs': 20, 'num_workers': 4, 'checkpoint_every': 0, 'lr_scheduler': 'none', 'lr': 0.001, 'batch_size': 256, 'pmtl': CfgNode({'num_starts': 5, 'lr_scheduler': 'none', 'lr': 0.001}), 'mgda': CfgNode({'approximate_norm_solution': False, 'normalization_type': 'loss', 'lr_scheduler': 'none', 'lr': 0.001}), 'phn': CfgNode({'alpha': 0.2, 'internal_solver': 'linear', 'lr_scheduler': 'none', 'lr': 0.001}), 'single_task': CfgNode({'task_id': None, 'lr_scheduler': 'none', 'lr': 0.001}), 'cosmos': CfgNode({'alpha': [1.0887843512723165, 0.3092787487483168], 'lamda': 0.0, 'normalize': True, 'instances': False, 'lr_scheduler': 'none', 'lr': 0.00034662172842139723}), 'seed': 1, 'logdir': 'results', 'n_partitions': 24, 'eval_every': 20, 'train_eval_every': 0, 'reference_point': [2, 2], 'device': 'cuda', 'metrics': None})"
      ]
     },
     "execution_count": 30,
     "metadata": {},
     "output_type": "execute_result"
    }
   ],
   "source": [
    "jobs = load_jobs(method, dataset)\n",
    "get_optimal_cfg(jobs, max_dist[dataset])"
   ]
  },
  {
   "cell_type": "markdown",
   "id": "8e3a7ce5",
   "metadata": {},
   "source": [
    "#### Compass"
   ]
  },
  {
   "cell_type": "code",
   "execution_count": 31,
   "id": "e8c1fe48",
   "metadata": {},
   "outputs": [],
   "source": [
    "cfg = compass_cfg.clone()\n",
    "cfg.epochs = epochs_tabular\n",
    "cfg.eval_every = epochs_tabular\n",
    "dataset = 'compass'\n",
    "hpos = hpo_cosmos"
   ]
  },
  {
   "cell_type": "code",
   "execution_count": 33,
   "id": "6a873535",
   "metadata": {},
   "outputs": [],
   "source": [
    "if not results_exist(method, dataset):\n",
    "    jobs = []\n",
    "    with executor.batch():\n",
    "        for args in hpos:\n",
    "            cfg = cfg.clone()\n",
    "            cfg.merge_from_list(args)\n",
    "            job = executor.submit(main, rank=0, world_size=1, method_name=method, cfg=cfg, tag='hpo')\n",
    "            jobs.append(job)"
   ]
  },
  {
   "cell_type": "code",
   "execution_count": 36,
   "id": "dec519be",
   "metadata": {},
   "outputs": [
    {
     "name": "stdout",
     "output_type": "stream",
     "text": [
      "1.0\n"
     ]
    },
    {
     "data": {
      "text/plain": [
       "[]"
      ]
     },
     "execution_count": 36,
     "metadata": {},
     "output_type": "execute_result"
    }
   ],
   "source": [
    "print(percent_finished(jobs))\n",
    "jobs_failed(jobs)"
   ]
  },
  {
   "cell_type": "code",
   "execution_count": 37,
   "id": "eea81fe9",
   "metadata": {},
   "outputs": [],
   "source": [
    "if not results_exist(method, dataset):\n",
    "    save_jobs(method, dataset, jobs)"
   ]
  },
  {
   "cell_type": "code",
   "execution_count": 50,
   "id": "d8f85d18",
   "metadata": {},
   "outputs": [
    {
     "name": "stdout",
     "output_type": "stream",
     "text": [
      "3.1536010422661493 0.5258129107968698 5843785_0\n",
      "3.154472635262012 0.5275914213931486 5843785_1\n",
      "3.16375872914587 0.5347681938254868 5843785_21\n",
      "3.2447071564995342 0.5677434719156779 5843785_76\n",
      "3.3910956813849893 0.6618628130080276 5843785_80\n",
      "Best job: 5843785_80\n"
     ]
    },
    {
     "data": {
      "text/plain": [
       "CfgNode({'dataset': 'compass', 'dim': (20,), 'objectives': ['BinaryCrossEntropyLoss', 'ddp'], 'task_ids': [], 'ignore_index': -100, 'epochs': 20, 'num_workers': 4, 'checkpoint_every': 0, 'lr_scheduler': 'none', 'lr': 0.001, 'batch_size': 256, 'pmtl': CfgNode({'num_starts': 5, 'lr_scheduler': 'none', 'lr': 0.001}), 'mgda': CfgNode({'approximate_norm_solution': False, 'normalization_type': 'loss', 'lr_scheduler': 'none', 'lr': 0.001}), 'phn': CfgNode({'alpha': 0.2, 'internal_solver': 'linear', 'lr_scheduler': 'none', 'lr': 0.001}), 'single_task': CfgNode({'task_id': None, 'lr_scheduler': 'none', 'lr': 0.001}), 'cosmos': CfgNode({'alpha': [0.5257256444318705, 0.3169155612008374], 'lamda': 0.0, 'normalize': False, 'instances': False, 'lr_scheduler': 'none', 'lr': 0.005842681096339225}), 'seed': 1, 'logdir': 'results', 'n_partitions': 24, 'eval_every': 20, 'train_eval_every': 0, 'reference_point': [2, 2], 'device': 'cuda', 'metrics': None})"
      ]
     },
     "execution_count": 50,
     "metadata": {},
     "output_type": "execute_result"
    }
   ],
   "source": [
    "jobs = load_jobs(method, dataset)\n",
    "get_optimal_cfg(jobs, max_dist[dataset])"
   ]
  },
  {
   "cell_type": "markdown",
   "id": "df0b1ae0",
   "metadata": {},
   "source": [
    "#### Credit"
   ]
  },
  {
   "cell_type": "code",
   "execution_count": 62,
   "id": "c1fd7557",
   "metadata": {},
   "outputs": [],
   "source": [
    "cfg = credit_cfg.clone()\n",
    "cfg.epochs = epochs_tabular\n",
    "cfg.eval_every = epochs_tabular\n",
    "dataset = 'credit'\n",
    "hpos = hpo_cosmos"
   ]
  },
  {
   "cell_type": "code",
   "execution_count": 64,
   "id": "fbe930cc",
   "metadata": {},
   "outputs": [],
   "source": [
    "if not results_exist(method, dataset):\n",
    "    jobs = []\n",
    "    with executor.batch():\n",
    "        for args in hpos:\n",
    "            cfg = cfg.clone()\n",
    "            cfg.merge_from_list(args)\n",
    "            job = executor.submit(main, rank=0, world_size=1, method_name=method, cfg=cfg, tag='hpo')\n",
    "            jobs.append(job)"
   ]
  },
  {
   "cell_type": "code",
   "execution_count": 66,
   "id": "e8de8415",
   "metadata": {},
   "outputs": [
    {
     "name": "stdout",
     "output_type": "stream",
     "text": [
      "1.0\n"
     ]
    },
    {
     "data": {
      "text/plain": [
       "[]"
      ]
     },
     "execution_count": 66,
     "metadata": {},
     "output_type": "execute_result"
    }
   ],
   "source": [
    "print(percent_finished(jobs))\n",
    "jobs_failed(jobs)"
   ]
  },
  {
   "cell_type": "code",
   "execution_count": 67,
   "id": "66402140",
   "metadata": {},
   "outputs": [],
   "source": [
    "if not results_exist(method, dataset):\n",
    "    save_jobs(method, dataset, jobs)"
   ]
  },
  {
   "cell_type": "code",
   "execution_count": 69,
   "id": "991ac09f",
   "metadata": {},
   "outputs": [
    {
     "name": "stdout",
     "output_type": "stream",
     "text": [
      "3.1319100380976765 0.6987541223870782 5844367_0\n",
      "3.1356159286184395 0.7085256784660161 5844367_10\n",
      "3.140301658808066 0.7033411714036643 5844367_13\n",
      "3.1478612104709147 0.7112588979654137 5844367_34\n",
      "3.1484955621693826 0.7270503770037596 5844367_66\n",
      "3.154545607583958 0.7136027191485462 5844367_76\n",
      "Best job: 5844367_76\n"
     ]
    },
    {
     "data": {
      "text/plain": [
       "CfgNode({'dataset': 'credit', 'dim': (90,), 'objectives': ['BinaryCrossEntropyLoss', 'ddp'], 'task_ids': [], 'ignore_index': -100, 'epochs': 20, 'num_workers': 4, 'checkpoint_every': 0, 'lr_scheduler': 'none', 'lr': 0.001, 'batch_size': 256, 'pmtl': CfgNode({'num_starts': 5, 'lr_scheduler': 'none', 'lr': 0.001}), 'mgda': CfgNode({'approximate_norm_solution': False, 'normalization_type': 'loss', 'lr_scheduler': 'none', 'lr': 0.001}), 'phn': CfgNode({'alpha': 0.2, 'internal_solver': 'linear', 'lr_scheduler': 'none', 'lr': 0.001}), 'single_task': CfgNode({'task_id': None, 'lr_scheduler': 'none', 'lr': 0.001}), 'cosmos': CfgNode({'alpha': [0.461394878836116, 0.4575066947045334], 'lamda': 0.0, 'normalize': False, 'instances': False, 'lr_scheduler': 'none', 'lr': 0.007161717085944733}), 'seed': 1, 'logdir': 'results', 'n_partitions': 24, 'eval_every': 20, 'train_eval_every': 0, 'reference_point': [2, 2], 'device': 'cuda', 'metrics': None})"
      ]
     },
     "execution_count": 69,
     "metadata": {},
     "output_type": "execute_result"
    }
   ],
   "source": [
    "jobs = load_jobs(method, dataset)\n",
    "get_optimal_cfg(jobs, max_dist[dataset])"
   ]
  },
  {
   "cell_type": "code",
   "execution_count": null,
   "id": "8b2f69ff",
   "metadata": {},
   "outputs": [],
   "source": []
  },
  {
   "cell_type": "code",
   "execution_count": null,
   "id": "5fd989d7",
   "metadata": {},
   "outputs": [],
   "source": []
  },
  {
   "cell_type": "markdown",
   "id": "4a88b0f6",
   "metadata": {},
   "source": [
    "#### Multi MNIST"
   ]
  },
  {
   "cell_type": "code",
   "execution_count": 75,
   "id": "4974628c",
   "metadata": {},
   "outputs": [],
   "source": [
    "cfg = mm_cfg.clone()\n",
    "cfg.epochs = epochs_mnist\n",
    "cfg.eval_every = epochs_mnist\n",
    "\n",
    "hpo_cosmos = list(zip(*cosmos_lrs, *cosmos_lamdas, *cosmos_alphas, *cosmos_scheds, *cosmos_norm))\n",
    "hpo_cosmos = list(zip(*cosmos_lrs, *cosmos_alphas, *cosmos_scheds, *cosmos_norm))\n",
    "method = 'cosmos'\n",
    "dataset = 'mm'\n",
    "hpos = hpo_cosmos"
   ]
  },
  {
   "cell_type": "code",
   "execution_count": 50,
   "id": "2d4fc36b",
   "metadata": {},
   "outputs": [],
   "source": [
    "if not results_exist(method, dataset):\n",
    "    jobs = []\n",
    "    with executor.batch():\n",
    "        for args in hpos:\n",
    "            cfg = cfg.clone()\n",
    "            cfg.merge_from_list(args)\n",
    "            job = executor.submit(main, method, cfg, 'hpo')\n",
    "            jobs.append(job)"
   ]
  },
  {
   "cell_type": "code",
   "execution_count": 86,
   "id": "d1154442",
   "metadata": {},
   "outputs": [
    {
     "name": "stdout",
     "output_type": "stream",
     "text": [
      "1.0\n"
     ]
    }
   ],
   "source": [
    "print(percent_finished(jobs))"
   ]
  },
  {
   "cell_type": "code",
   "execution_count": 57,
   "id": "cc845eb5",
   "metadata": {},
   "outputs": [],
   "source": [
    "if not results_exist(method, dataset):\n",
    "    save_jobs(method, dataset, jobs)"
   ]
  },
  {
   "cell_type": "code",
   "execution_count": 58,
   "id": "a40db653",
   "metadata": {},
   "outputs": [],
   "source": [
    "cosmos_mm_jobs = load_jobs(method, dataset)"
   ]
  },
  {
   "cell_type": "code",
   "execution_count": null,
   "id": "728210c3",
   "metadata": {},
   "outputs": [],
   "source": []
  },
  {
   "cell_type": "code",
   "execution_count": null,
   "id": "895440a7",
   "metadata": {},
   "outputs": [],
   "source": []
  },
  {
   "cell_type": "code",
   "execution_count": null,
   "id": "38878f22",
   "metadata": {},
   "outputs": [],
   "source": []
  },
  {
   "cell_type": "code",
   "execution_count": null,
   "id": "3e7a2b51",
   "metadata": {},
   "outputs": [],
   "source": []
  },
  {
   "cell_type": "code",
   "execution_count": null,
   "id": "2ff03c1e",
   "metadata": {},
   "outputs": [],
   "source": []
  },
  {
   "cell_type": "code",
   "execution_count": null,
   "id": "b6b6a12d",
   "metadata": {},
   "outputs": [],
   "source": []
  },
  {
   "cell_type": "code",
   "execution_count": 41,
   "id": "88ecdcfd",
   "metadata": {},
   "outputs": [],
   "source": []
  },
  {
   "cell_type": "code",
   "execution_count": 35,
   "id": "38603a4b",
   "metadata": {},
   "outputs": [
    {
     "data": {
      "text/plain": [
       "[]"
      ]
     },
     "execution_count": 35,
     "metadata": {},
     "output_type": "execute_result"
    }
   ],
   "source": [
    "jobs_failed(jobs)"
   ]
  },
  {
   "cell_type": "code",
   "execution_count": null,
   "id": "0b2ed8e3",
   "metadata": {},
   "outputs": [],
   "source": []
  },
  {
   "cell_type": "code",
   "execution_count": null,
   "id": "f367fc0a",
   "metadata": {},
   "outputs": [],
   "source": []
  },
  {
   "cell_type": "code",
   "execution_count": 38,
   "id": "d3dacb8a",
   "metadata": {},
   "outputs": [
    {
     "ename": "FailedJobError",
     "evalue": "Job (task=0) failed during processing with trace:\n----------------------\nTraceback (most recent call last):\n  File \"/home/ruchtem/dev/venvs/base/lib/python3.8/site-packages/submitit/core/submission.py\", line 53, in process_job\n    result = delayed.result()\n  File \"/home/ruchtem/dev/venvs/base/lib/python3.8/site-packages/submitit/core/utils.py\", line 128, in result\n    self._result = self.function(*self.args, **self.kwargs)\n  File \"/home/ruchtem/dev/moo/multi_objective/main.py\", line 192, in main\n    torch.cuda.set_device(rank)\n  File \"/home/ruchtem/dev/venvs/base/lib/python3.8/site-packages/torch/cuda/__init__.py\", line 263, in set_device\n    torch._C._cuda_setDevice(device)\n  File \"/home/ruchtem/dev/venvs/base/lib/python3.8/site-packages/torch/cuda/__init__.py\", line 172, in _lazy_init\n    torch._C._cuda_init()\nRuntimeError: CUDA driver initialization failed, you might not have a CUDA gpu.\n\n----------------------\nYou can check full logs with 'job.stderr(0)' and 'job.stdout(0)'or at paths:\n  - /home/ruchtem/dev/moo/tmp/submitit_hpo/5840962_53_0_log.err\n  - /home/ruchtem/dev/moo/tmp/submitit_hpo/5840962_53_0_log.out",
     "output_type": "error",
     "traceback": [
      "\u001b[0;31m---------------------------------------------------------------------------\u001b[0m",
      "\u001b[0;31mFailedJobError\u001b[0m                            Traceback (most recent call last)",
      "\u001b[0;32m<ipython-input-38-13f1161e05c0>\u001b[0m in \u001b[0;36m<module>\u001b[0;34m\u001b[0m\n\u001b[0;32m----> 1\u001b[0;31m \u001b[0mjobs\u001b[0m\u001b[0;34m[\u001b[0m\u001b[0;36m53\u001b[0m\u001b[0;34m]\u001b[0m\u001b[0;34m.\u001b[0m\u001b[0mresult\u001b[0m\u001b[0;34m(\u001b[0m\u001b[0;34m)\u001b[0m\u001b[0;34m\u001b[0m\u001b[0;34m\u001b[0m\u001b[0m\n\u001b[0m",
      "\u001b[0;32m~/dev/venvs/base/lib/python3.8/site-packages/submitit/core/core.py\u001b[0m in \u001b[0;36mresult\u001b[0;34m(self)\u001b[0m\n\u001b[1;32m    259\u001b[0m \u001b[0;34m\u001b[0m\u001b[0m\n\u001b[1;32m    260\u001b[0m     \u001b[0;32mdef\u001b[0m \u001b[0mresult\u001b[0m\u001b[0;34m(\u001b[0m\u001b[0mself\u001b[0m\u001b[0;34m)\u001b[0m \u001b[0;34m->\u001b[0m \u001b[0mR\u001b[0m\u001b[0;34m:\u001b[0m\u001b[0;34m\u001b[0m\u001b[0;34m\u001b[0m\u001b[0m\n\u001b[0;32m--> 261\u001b[0;31m         \u001b[0mr\u001b[0m \u001b[0;34m=\u001b[0m \u001b[0mself\u001b[0m\u001b[0;34m.\u001b[0m\u001b[0mresults\u001b[0m\u001b[0;34m(\u001b[0m\u001b[0;34m)\u001b[0m\u001b[0;34m\u001b[0m\u001b[0;34m\u001b[0m\u001b[0m\n\u001b[0m\u001b[1;32m    262\u001b[0m         \u001b[0;32massert\u001b[0m \u001b[0;32mnot\u001b[0m \u001b[0mself\u001b[0m\u001b[0;34m.\u001b[0m\u001b[0m_sub_jobs\u001b[0m\u001b[0;34m,\u001b[0m \u001b[0;34m\"You should use `results()` if your job has subtasks.\"\u001b[0m\u001b[0;34m\u001b[0m\u001b[0;34m\u001b[0m\u001b[0m\n\u001b[1;32m    263\u001b[0m         \u001b[0;32mreturn\u001b[0m \u001b[0mr\u001b[0m\u001b[0;34m[\u001b[0m\u001b[0;36m0\u001b[0m\u001b[0;34m]\u001b[0m\u001b[0;34m\u001b[0m\u001b[0;34m\u001b[0m\u001b[0m\n",
      "\u001b[0;32m~/dev/venvs/base/lib/python3.8/site-packages/submitit/core/core.py\u001b[0m in \u001b[0;36mresults\u001b[0;34m(self)\u001b[0m\n\u001b[1;32m    287\u001b[0m             \u001b[0;32mif\u001b[0m \u001b[0mjob_exception\u001b[0m \u001b[0;32mis\u001b[0m \u001b[0;32mNone\u001b[0m\u001b[0;34m:\u001b[0m\u001b[0;34m\u001b[0m\u001b[0;34m\u001b[0m\u001b[0m\n\u001b[1;32m    288\u001b[0m                 \u001b[0;32mraise\u001b[0m \u001b[0mRuntimeError\u001b[0m\u001b[0;34m(\u001b[0m\u001b[0;34m\"Unknown job exception\"\u001b[0m\u001b[0;34m)\u001b[0m\u001b[0;34m\u001b[0m\u001b[0;34m\u001b[0m\u001b[0m\n\u001b[0;32m--> 289\u001b[0;31m             \u001b[0;32mraise\u001b[0m \u001b[0mjob_exception\u001b[0m  \u001b[0;31m# pylint: disable=raising-bad-type\u001b[0m\u001b[0;34m\u001b[0m\u001b[0;34m\u001b[0m\u001b[0m\n\u001b[0m\u001b[1;32m    290\u001b[0m         \u001b[0;32mreturn\u001b[0m \u001b[0;34m[\u001b[0m\u001b[0mresult\u001b[0m\u001b[0;34m]\u001b[0m\u001b[0;34m\u001b[0m\u001b[0;34m\u001b[0m\u001b[0m\n\u001b[1;32m    291\u001b[0m \u001b[0;34m\u001b[0m\u001b[0m\n",
      "\u001b[0;31mFailedJobError\u001b[0m: Job (task=0) failed during processing with trace:\n----------------------\nTraceback (most recent call last):\n  File \"/home/ruchtem/dev/venvs/base/lib/python3.8/site-packages/submitit/core/submission.py\", line 53, in process_job\n    result = delayed.result()\n  File \"/home/ruchtem/dev/venvs/base/lib/python3.8/site-packages/submitit/core/utils.py\", line 128, in result\n    self._result = self.function(*self.args, **self.kwargs)\n  File \"/home/ruchtem/dev/moo/multi_objective/main.py\", line 192, in main\n    torch.cuda.set_device(rank)\n  File \"/home/ruchtem/dev/venvs/base/lib/python3.8/site-packages/torch/cuda/__init__.py\", line 263, in set_device\n    torch._C._cuda_setDevice(device)\n  File \"/home/ruchtem/dev/venvs/base/lib/python3.8/site-packages/torch/cuda/__init__.py\", line 172, in _lazy_init\n    torch._C._cuda_init()\nRuntimeError: CUDA driver initialization failed, you might not have a CUDA gpu.\n\n----------------------\nYou can check full logs with 'job.stderr(0)' and 'job.stdout(0)'or at paths:\n  - /home/ruchtem/dev/moo/tmp/submitit_hpo/5840962_53_0_log.err\n  - /home/ruchtem/dev/moo/tmp/submitit_hpo/5840962_53_0_log.out"
     ]
    }
   ],
   "source": [
    "jobs[53].result()"
   ]
  },
  {
   "cell_type": "code",
   "execution_count": null,
   "id": "8a54b787",
   "metadata": {},
   "outputs": [],
   "source": []
  },
  {
   "cell_type": "code",
   "execution_count": null,
   "id": "bda7d2c7",
   "metadata": {},
   "outputs": [],
   "source": []
  },
  {
   "cell_type": "code",
   "execution_count": null,
   "id": "ed9be4dc",
   "metadata": {},
   "outputs": [],
   "source": []
  },
  {
   "cell_type": "code",
   "execution_count": null,
   "id": "cec55e80",
   "metadata": {},
   "outputs": [],
   "source": []
  },
  {
   "cell_type": "code",
   "execution_count": null,
   "id": "d7cfc605",
   "metadata": {},
   "outputs": [],
   "source": []
  },
  {
   "cell_type": "code",
   "execution_count": 136,
   "id": "41bd65be",
   "metadata": {},
   "outputs": [],
   "source": []
  },
  {
   "cell_type": "code",
   "execution_count": null,
   "id": "c5d8e52b",
   "metadata": {},
   "outputs": [],
   "source": []
  },
  {
   "cell_type": "code",
   "execution_count": null,
   "id": "516e62db",
   "metadata": {},
   "outputs": [],
   "source": []
  },
  {
   "cell_type": "code",
   "execution_count": 137,
   "id": "618c8801",
   "metadata": {},
   "outputs": [
    {
     "name": "stdout",
     "output_type": "stream",
     "text": [
      "3.3448198535973948 0.6927948936538749 5792962_0\n",
      "3.3507989340281177 0.6999448141847925 5792962_16\n",
      "3.353983636374194 0.6528753636249982 5792962_80\n",
      "Best job: 5792962_80\n"
     ]
    },
    {
     "data": {
      "text/plain": [
       "CfgNode({'dataset': 'adult', 'dim': (88,), 'objectives': ['BinaryCrossEntropyLoss', 'ddp'], 'task_ids': [], 'ignore_index': -100, 'epochs': 20, 'num_workers': 4, 'checkpoint_every': 0, 'lr_scheduler': 'none', 'lr': 0.001, 'batch_size': 256, 'pmtl': CfgNode({'num_starts': 5, 'lr_scheduler': 'none', 'lr': 0.001}), 'mgda': CfgNode({'approximate_norm_solution': False, 'normalization_type': 'loss', 'lr_scheduler': 'none', 'lr': 0.001}), 'phn': CfgNode({'alpha': 0.2, 'internal_solver': 'linear', 'lr_scheduler': 'none', 'lr': 0.001}), 'single_task': CfgNode({'task_id': None, 'lr_scheduler': 'none', 'lr': 0.001}), 'cosmos': CfgNode({'alpha': [0.5257256444318705, 0.3169155612008374], 'lamda': 0.0, 'normalize': False, 'instances': True, 'lr_scheduler': 'none', 'lr': 0.005842681096339225}), 'seed': 1, 'logdir': 'results', 'n_partitions': 24, 'eval_every': 20, 'train_eval_every': 0, 'reference_point': [2, 2], 'device': 'cuda', 'metrics': None})"
      ]
     },
     "execution_count": 137,
     "metadata": {},
     "output_type": "execute_result"
    }
   ],
   "source": [
    "get_optimal_cfg(jobs, 0.7)"
   ]
  },
  {
   "cell_type": "code",
   "execution_count": null,
   "id": "0c5b62a7",
   "metadata": {},
   "outputs": [],
   "source": []
  },
  {
   "cell_type": "code",
   "execution_count": 104,
   "id": "6971b79d",
   "metadata": {},
   "outputs": [
    {
     "data": {
      "text/plain": [
       "CfgNode({'dataset': 'adult', 'dim': (88,), 'objectives': ['BinaryCrossEntropyLoss', 'ddp'], 'task_ids': [], 'ignore_index': -100, 'epochs': 20, 'num_workers': 4, 'checkpoint_every': 0, 'lr_scheduler': 'none', 'lr': 0.001, 'batch_size': 256, 'pmtl': CfgNode({'num_starts': 5, 'lr_scheduler': 'none', 'lr': 0.001}), 'mgda': CfgNode({'approximate_norm_solution': False, 'normalization_type': 'loss', 'lr_scheduler': 'none', 'lr': 0.001}), 'phn': CfgNode({'alpha': 0.2, 'internal_solver': 'linear', 'lr_scheduler': 'none', 'lr': 0.001}), 'single_task': CfgNode({'task_id': None, 'lr_scheduler': 'none', 'lr': 0.001}), 'cosmos': CfgNode({'alpha': [1.7328161368791897, 0.853738192417888], 'lamda': 0.0, 'normalize': False, 'instances': False, 'lr_scheduler': 'none', 'lr': 0.0011650124592172252}), 'seed': 1, 'logdir': 'results', 'n_partitions': 24, 'eval_every': 20, 'train_eval_every': 0, 'reference_point': [2, 2], 'device': 'cuda', 'metrics': None})"
      ]
     },
     "execution_count": 104,
     "metadata": {},
     "output_type": "execute_result"
    }
   ],
   "source": [
    "jobs[33].submission().kwargs['cfg']"
   ]
  },
  {
   "cell_type": "code",
   "execution_count": null,
   "id": "60a11b89",
   "metadata": {},
   "outputs": [],
   "source": []
  },
  {
   "cell_type": "code",
   "execution_count": null,
   "id": "e9de0270",
   "metadata": {},
   "outputs": [],
   "source": []
  },
  {
   "cell_type": "code",
   "execution_count": 32,
   "id": "6fd67b42",
   "metadata": {},
   "outputs": [
    {
     "data": {
      "text/plain": [
       "(3.02712881565094, 0)"
      ]
     },
     "execution_count": 32,
     "metadata": {},
     "output_type": "execute_result"
    }
   ],
   "source": [
    "jobs_l[0].result()"
   ]
  },
  {
   "cell_type": "code",
   "execution_count": 13,
   "id": "afa6786b",
   "metadata": {},
   "outputs": [],
   "source": [
    "def add(a, b):\n",
    "    return a + b"
   ]
  },
  {
   "cell_type": "code",
   "execution_count": 14,
   "id": "f30f39e9",
   "metadata": {},
   "outputs": [],
   "source": [
    "job = executor.submit(add, 5, 7)  # will compute add(5, 7)"
   ]
  },
  {
   "cell_type": "code",
   "execution_count": 15,
   "id": "80f55b55",
   "metadata": {},
   "outputs": [
    {
     "name": "stdout",
     "output_type": "stream",
     "text": [
      "5359691\n"
     ]
    }
   ],
   "source": [
    "print(job.job_id)  # ID of your job"
   ]
  },
  {
   "cell_type": "code",
   "execution_count": 16,
   "id": "aa59ddc9",
   "metadata": {},
   "outputs": [],
   "source": [
    "job.result()"
   ]
  },
  {
   "cell_type": "code",
   "execution_count": 17,
   "id": "4cbe25a9",
   "metadata": {},
   "outputs": [
    {
     "data": {
      "text/plain": [
       "12"
      ]
     },
     "execution_count": 17,
     "metadata": {},
     "output_type": "execute_result"
    }
   ],
   "source": [
    "job.submission().args"
   ]
  },
  {
   "cell_type": "code",
   "execution_count": null,
   "id": "d01c7b64",
   "metadata": {},
   "outputs": [],
   "source": []
  }
 ],
 "metadata": {
  "kernelspec": {
   "display_name": "Python 3",
   "language": "python",
   "name": "python3"
  },
  "language_info": {
   "codemirror_mode": {
    "name": "ipython",
    "version": 3
   },
   "file_extension": ".py",
   "mimetype": "text/x-python",
   "name": "python",
   "nbconvert_exporter": "python",
   "pygments_lexer": "ipython3",
   "version": "3.8.5"
  }
 },
 "nbformat": 4,
 "nbformat_minor": 5
}
