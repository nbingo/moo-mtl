{
 "cells": [
  {
   "cell_type": "code",
   "execution_count": 112,
   "id": "6395b840",
   "metadata": {},
   "outputs": [],
   "source": [
    "import submitit\n",
    "\n",
    "import torch\n",
    "import random\n",
    "import numpy as np\n",
    "\n",
    "import pickle\n",
    "import itertools\n",
    "import argparse\n",
    "import logging\n",
    "import os\n",
    "import pathlib\n",
    "import time\n",
    "import json\n",
    "import math\n",
    "import matplotlib.pyplot as plt\n",
    "from torch.utils import data\n",
    "from fvcore.common.config import CfgNode\n",
    "from submitit.core.utils import FailedJobError\n",
    "from itertools import cycle"
   ]
  },
  {
   "cell_type": "code",
   "execution_count": 71,
   "id": "e3e7f060",
   "metadata": {},
   "outputs": [],
   "source": [
    "from multi_objective.main import main, get_config"
   ]
  },
  {
   "cell_type": "code",
   "execution_count": 72,
   "id": "d27d2cc2",
   "metadata": {},
   "outputs": [],
   "source": [
    "executor = submitit.AutoExecutor(folder=\"tmp/submitit_hpo\")"
   ]
  },
  {
   "cell_type": "markdown",
   "id": "fe760f76",
   "metadata": {},
   "source": [
    "# Prepare the globals"
   ]
  },
  {
   "cell_type": "code",
   "execution_count": 182,
   "id": "e85e5b25",
   "metadata": {},
   "outputs": [],
   "source": [
    "configs = {\n",
    "    'adult': get_config('configs/adult.yaml'),\n",
    "    'compass': get_config('configs/compass.yaml'),\n",
    "    'credit': get_config('configs/credit.yaml'),\n",
    "    'mm': get_config('configs/multi_mnist.yaml'),\n",
    "    'mf': get_config('configs/multi_fashion.yaml'),\n",
    "    'mfm': get_config('configs/multi_fashion_mnist.yaml')\n",
    "}\n",
    "\n",
    "num_evaluations = 100\n",
    "J = 2\n",
    "\n",
    "max_dist = {\n",
    "    'adult': 0.7,\n",
    "    'compass': 0.7,\n",
    "    'credit': 1.,\n",
    "    'mm': 0.2,\n",
    "    'mf': 0.2,\n",
    "    'mfm': 0.2,\n",
    "}\n",
    "\n",
    "epochs_tabular = 20\n",
    "epochs_mnist = 50"
   ]
  },
  {
   "cell_type": "code",
   "execution_count": 183,
   "id": "8beab615",
   "metadata": {},
   "outputs": [],
   "source": [
    "# log transform for lr \n",
    "lr_range = (np.log(1e-4), np.log(1e-2))\n",
    "lamda_range = (np.log(0.00001), np.log(10))\n",
    "alpha_range = (np.log(.2), np.log(5))\n",
    "cosmos_norm_choice = [True, False]\n",
    "scheduler_choice = ['none', 'MultiStep', 'CosineAnnealing']\n",
    "mgda_norm_choice = ['none', 'l2', 'loss', 'loss+']\n",
    "phn_solver = ['linear', 'epo']"
   ]
  },
  {
   "cell_type": "markdown",
   "id": "021fce52",
   "metadata": {},
   "source": [
    "Sample the hyperparameters"
   ]
  },
  {
   "cell_type": "code",
   "execution_count": 184,
   "id": "9850fc58",
   "metadata": {},
   "outputs": [
    {
     "name": "stdout",
     "output_type": "stream",
     "text": [
      "Num evals: 100\n"
     ]
    }
   ],
   "source": [
    "# sampling\n",
    "np.random.seed(1)\n",
    "\n",
    "learning_rates = np.exp(np.random.uniform(*lr_range ,[num_evaluations]))\n",
    "lamdas = np.exp(np.random.uniform(*lamda_range ,[num_evaluations]))\n",
    "alphas = np.exp(np.random.uniform(*alpha_range ,[num_evaluations, J]))\n",
    "cosmos_norms = np.random.choice(cosmos_norm_choice, num_evaluations)\n",
    "schedulers = np.random.choice(scheduler_choice, num_evaluations)\n",
    "mgda_norms = np.random.choice(mgda_norm_choice, num_evaluations)\n",
    "phn_solvers = np.random.choice(phn_solver, num_evaluations)\n",
    "                     \n",
    "print(f\"Num evals: {len(learning_rates)}\")"
   ]
  },
  {
   "cell_type": "code",
   "execution_count": 185,
   "id": "dcb670dd",
   "metadata": {},
   "outputs": [],
   "source": [
    "def convert_hp(array, arg, dtype):\n",
    "    n = len(array)\n",
    "    array = [[dtype(a_i) for a_i in a] if isinstance(a, np.ndarray) else dtype(a) for a in array]\n",
    "    args = list(itertools.repeat(arg, n))\n",
    "    return args, array"
   ]
  },
  {
   "cell_type": "code",
   "execution_count": 186,
   "id": "7f276532",
   "metadata": {},
   "outputs": [],
   "source": [
    "cosmos_lrs = convert_hp(learning_rates, 'cosmos.lr', float)\n",
    "cosmos_scheds = convert_hp(schedulers, 'cosmos.lr_scheduler', str)\n",
    "cosmos_lamdas = convert_hp(lamdas, 'cosmos.lamda', float)\n",
    "cosmos_alphas = convert_hp(alphas, 'cosmos.alpha', float)\n",
    "cosmos_norm = convert_hp(cosmos_norms, 'cosmos.normalize', bool)\n",
    "\n",
    "mgda_lrs = convert_hp(learning_rates, 'mgda.lr', float)\n",
    "mgda_scheds = convert_hp(schedulers, 'mgda.lr_scheduler', str)\n",
    "mgda_norms = convert_hp(mgda_norms, 'mgda.normalization_type', str)\n",
    "\n",
    "pmtl_lrs = convert_hp(learning_rates, 'pmtl.lr', float)\n",
    "pmtl_scheds = convert_hp(schedulers, 'pmtl.lr_scheduler', str)\n",
    "\n"
   ]
  },
  {
   "cell_type": "code",
   "execution_count": 187,
   "id": "24d75b55",
   "metadata": {},
   "outputs": [],
   "source": [
    "hpo_space = {\n",
    "    'cosmos': {\n",
    "        'adult':   list(zip(*cosmos_lrs, *cosmos_alphas)),    # lamda=0\n",
    "        'compass': list(zip(*cosmos_lrs, *cosmos_alphas)),    # lamda=0\n",
    "        'credit':  list(zip(*cosmos_lrs, *cosmos_alphas)),    # lamda=0\n",
    "        'mm':      list(zip(*cosmos_lrs, *cosmos_alphas, *cosmos_lamdas, *cosmos_scheds)),\n",
    "        'mf':      list(zip(*cosmos_lrs, *cosmos_alphas, *cosmos_lamdas, *cosmos_scheds)),\n",
    "        'mfm':     list(zip(*cosmos_lrs, *cosmos_alphas, *cosmos_lamdas, *cosmos_scheds)),\n",
    "    },\n",
    "    'mgda': {\n",
    "        'adult':   list(zip(*mgda_lrs, *mgda_norms)),\n",
    "        'compass': list(zip(*mgda_lrs, *mgda_norms)),\n",
    "        'credit':  list(zip(*mgda_lrs, *mgda_norms)),\n",
    "    }\n",
    "}"
   ]
  },
  {
   "cell_type": "code",
   "execution_count": 188,
   "id": "ffb56d03",
   "metadata": {},
   "outputs": [],
   "source": [
    "def percent_finished(jobs):\n",
    "    if len(jobs):\n",
    "        return sum(job.done() for job in jobs) / len(jobs)\n",
    "\n",
    "\n",
    "def save_jobs(method, dataset, jobs, tag='hpo', force=False):\n",
    "    if not results_exist(method, dataset) or force:\n",
    "        with open(f'pickles/{method}_{dataset}_{tag}.pickle', 'wb') as f:\n",
    "            pickle.dump(jobs, f)\n",
    "    else:\n",
    "        print('skipping')\n",
    "\n",
    "        \n",
    "def load_jobs(method, dataset, tag='hpo'):\n",
    "    with open(f'pickles/{method}_{dataset}_{tag}.pickle', 'rb') as f:\n",
    "        return pickle.load(f)\n",
    "\n",
    "\n",
    "def jobs_failed(jobs):\n",
    "    idxs = []\n",
    "    for i, job in enumerate(jobs):\n",
    "        if job.state == 'FAILED':\n",
    "            idxs.append(i)\n",
    "    return idxs\n",
    "\n",
    "\n",
    "def results_exist(method, dataset, tag='hpo'):\n",
    "    return os.path.exists(f'pickles/{method}_{dataset}_{tag}.pickle')\n",
    "\n",
    "\n",
    "def get_optimal_cfg(jobs, max_dist=None):\n",
    "    idx_best = None\n",
    "    hv_best = 0\n",
    "    \n",
    "    for i, job in enumerate(jobs):\n",
    "        try:\n",
    "            hv, dist = job.result()\n",
    "        except FailedJobError:\n",
    "            continue\n",
    "        if max_dist is not None and dist > max_dist:\n",
    "            continue\n",
    "        \n",
    "        if hv > hv_best:\n",
    "            print(hv, dist, job.job_id)\n",
    "            hv_best = hv\n",
    "            idx_best = i\n",
    "    assert idx_best is not None, \"No optimal cfg found\"\n",
    "    print(f'Best job: {jobs[idx_best].job_id}')\n",
    "    return jobs[idx_best].submission().args[3]"
   ]
  },
  {
   "cell_type": "code",
   "execution_count": 189,
   "id": "5b7b107f",
   "metadata": {},
   "outputs": [],
   "source": [
    "def execute(method, dataset, force=False):\n",
    "    if not force and results_exist(method, dataset):\n",
    "        print('skipping. Use force=True to enforce execution')\n",
    "        return []\n",
    "    \n",
    "    cfg = configs[dataset].clone()\n",
    "    if dataset in ['adult', 'compass', 'credit']:\n",
    "        cfg.epochs = epochs_tabular\n",
    "        cfg.eval_every = epochs_tabular\n",
    "    elif dataset in ['mm', 'mf', 'mfm']:\n",
    "        cfg.epochs = epochs_mnist\n",
    "        cfg.eval_every = epochs_mnist\n",
    "    \n",
    "    hpos = hpo_space[method][dataset]\n",
    "    \n",
    "    cfgs = []\n",
    "    for args in hpos:\n",
    "        cfg = cfg.clone()\n",
    "        cfg.merge_from_list(args)\n",
    "        cfgs.append(cfg)\n",
    "    \n",
    "    # func, rank, world_size, method_name, cfg, tag\n",
    "    return executor.map_array(main, cycle([0]), cycle([1]), cycle([method]), cfgs, cycle(['hpo']))"
   ]
  },
  {
   "cell_type": "code",
   "execution_count": 190,
   "id": "f63f412e",
   "metadata": {},
   "outputs": [],
   "source": [
    "executor.update_parameters(timeout_min=20, slurm_partition=\"alldlc_gpu-rtx2080\", name='hpo', gpus_per_node=1)\n",
    "executor.update_parameters(slurm_array_parallelism=100)"
   ]
  },
  {
   "cell_type": "markdown",
   "id": "e062bc37",
   "metadata": {},
   "source": [
    "## COSMOS"
   ]
  },
  {
   "cell_type": "markdown",
   "id": "61416279",
   "metadata": {},
   "source": [
    "#### Adult"
   ]
  },
  {
   "cell_type": "code",
   "execution_count": 191,
   "id": "277d3dbf",
   "metadata": {},
   "outputs": [],
   "source": [
    "method = 'cosmos'\n",
    "dataset = 'adult'\n",
    "jobs = execute('cosmos', 'adult', force=True)"
   ]
  },
  {
   "cell_type": "code",
   "execution_count": 193,
   "id": "98519aa0",
   "metadata": {},
   "outputs": [
    {
     "name": "stdout",
     "output_type": "stream",
     "text": [
      "1.0 []\n"
     ]
    }
   ],
   "source": [
    "print(percent_finished(jobs), jobs_failed(jobs))"
   ]
  },
  {
   "cell_type": "code",
   "execution_count": 27,
   "id": "3a15527d",
   "metadata": {},
   "outputs": [],
   "source": [
    "if not results_exist(method, dataset):\n",
    "    save_jobs(method, dataset, jobs)"
   ]
  },
  {
   "cell_type": "markdown",
   "id": "8e3a7ce5",
   "metadata": {},
   "source": [
    "#### Compass"
   ]
  },
  {
   "cell_type": "code",
   "execution_count": 33,
   "id": "6a873535",
   "metadata": {},
   "outputs": [],
   "source": [
    "jobs = execute('cosmos', 'compass')"
   ]
  },
  {
   "cell_type": "code",
   "execution_count": 36,
   "id": "dec519be",
   "metadata": {},
   "outputs": [
    {
     "name": "stdout",
     "output_type": "stream",
     "text": [
      "1.0\n"
     ]
    },
    {
     "data": {
      "text/plain": [
       "[]"
      ]
     },
     "execution_count": 36,
     "metadata": {},
     "output_type": "execute_result"
    }
   ],
   "source": [
    "print(percent_finished(jobs), jobs_failed(jobs))"
   ]
  },
  {
   "cell_type": "code",
   "execution_count": 37,
   "id": "eea81fe9",
   "metadata": {},
   "outputs": [],
   "source": [
    "save_jobs(method, dataset, jobs)"
   ]
  },
  {
   "cell_type": "markdown",
   "id": "df0b1ae0",
   "metadata": {},
   "source": [
    "#### Credit"
   ]
  },
  {
   "cell_type": "code",
   "execution_count": 64,
   "id": "fbe930cc",
   "metadata": {},
   "outputs": [],
   "source": [
    "jobs = execute('cosmos', 'credit')"
   ]
  },
  {
   "cell_type": "code",
   "execution_count": 66,
   "id": "e8de8415",
   "metadata": {},
   "outputs": [
    {
     "name": "stdout",
     "output_type": "stream",
     "text": [
      "1.0\n"
     ]
    },
    {
     "data": {
      "text/plain": [
       "[]"
      ]
     },
     "execution_count": 66,
     "metadata": {},
     "output_type": "execute_result"
    }
   ],
   "source": [
    "print(percent_finished(jobs))\n",
    "jobs_failed(jobs)"
   ]
  },
  {
   "cell_type": "code",
   "execution_count": 67,
   "id": "66402140",
   "metadata": {},
   "outputs": [],
   "source": [
    "save_jobs(method, dataset, jobs)"
   ]
  },
  {
   "cell_type": "markdown",
   "id": "4a88b0f6",
   "metadata": {},
   "source": [
    "#### Multi MNIST"
   ]
  },
  {
   "cell_type": "code",
   "execution_count": 149,
   "id": "4974628c",
   "metadata": {},
   "outputs": [
    {
     "name": "stdout",
     "output_type": "stream",
     "text": [
      "skipping. Use force=True to enforce execution\n"
     ]
    }
   ],
   "source": [
    "method = 'cosmos'\n",
    "dataset = 'mm'\n",
    "jobs = execute(method, dataset)"
   ]
  },
  {
   "cell_type": "code",
   "execution_count": 133,
   "id": "d1154442",
   "metadata": {},
   "outputs": [
    {
     "name": "stdout",
     "output_type": "stream",
     "text": [
      "None\n"
     ]
    },
    {
     "data": {
      "text/plain": [
       "[]"
      ]
     },
     "execution_count": 133,
     "metadata": {},
     "output_type": "execute_result"
    }
   ],
   "source": [
    "print(percent_finished(jobs), jobs_failed(jobs))"
   ]
  },
  {
   "cell_type": "code",
   "execution_count": 134,
   "id": "cc845eb5",
   "metadata": {},
   "outputs": [],
   "source": [
    "save_jobs(method, dataset, jobs)"
   ]
  },
  {
   "cell_type": "markdown",
   "id": "5b832bac",
   "metadata": {},
   "source": [
    "#### Multi Fashion"
   ]
  },
  {
   "cell_type": "code",
   "execution_count": 136,
   "id": "895440a7",
   "metadata": {},
   "outputs": [],
   "source": [
    "method = 'cosmos'\n",
    "dataset = 'mf'\n",
    "jobs = execute(method, dataset)"
   ]
  },
  {
   "cell_type": "code",
   "execution_count": 142,
   "id": "38878f22",
   "metadata": {},
   "outputs": [
    {
     "name": "stdout",
     "output_type": "stream",
     "text": [
      "1.0 []\n"
     ]
    }
   ],
   "source": [
    "print(percent_finished(jobs), jobs_failed(jobs))"
   ]
  },
  {
   "cell_type": "code",
   "execution_count": 143,
   "id": "3e7a2b51",
   "metadata": {},
   "outputs": [],
   "source": [
    "save_jobs(method, dataset, jobs)"
   ]
  },
  {
   "cell_type": "markdown",
   "id": "eede63fc",
   "metadata": {},
   "source": [
    "#### Multi Fastion+Mnist"
   ]
  },
  {
   "cell_type": "code",
   "execution_count": 151,
   "id": "86ab2fa4",
   "metadata": {},
   "outputs": [],
   "source": [
    "method = 'cosmos'\n",
    "dataset = 'mfm'\n",
    "jobs = execute(method, dataset)"
   ]
  },
  {
   "cell_type": "code",
   "execution_count": 153,
   "id": "0ea0c2a8",
   "metadata": {},
   "outputs": [
    {
     "name": "stdout",
     "output_type": "stream",
     "text": [
      "1.0 []\n"
     ]
    }
   ],
   "source": [
    "print(percent_finished(jobs), jobs_failed(jobs))"
   ]
  },
  {
   "cell_type": "code",
   "execution_count": 154,
   "id": "e169c31c",
   "metadata": {},
   "outputs": [],
   "source": [
    "save_jobs(method, dataset, jobs)"
   ]
  },
  {
   "cell_type": "code",
   "execution_count": null,
   "id": "bfdfc64d",
   "metadata": {},
   "outputs": [],
   "source": []
  },
  {
   "cell_type": "code",
   "execution_count": null,
   "id": "4f4c9c64",
   "metadata": {},
   "outputs": [],
   "source": []
  },
  {
   "cell_type": "code",
   "execution_count": null,
   "id": "667da4d7",
   "metadata": {},
   "outputs": [],
   "source": []
  },
  {
   "cell_type": "code",
   "execution_count": null,
   "id": "3f86799f",
   "metadata": {},
   "outputs": [],
   "source": []
  },
  {
   "cell_type": "code",
   "execution_count": 194,
   "id": "2ff03c1e",
   "metadata": {},
   "outputs": [
    {
     "name": "stdout",
     "output_type": "stream",
     "text": [
      "3.325317963661113 0.6643087703627651 5881654_0\n",
      "3.32860757027072 0.6664323006000586 5881654_16\n",
      "3.3319845076147216 0.6774339598285042 5881654_33\n",
      "3.3371375879367178 0.6668008493196068 5881654_48\n",
      "3.3388226971885597 0.6733755906510289 5881654_84\n",
      "Best job: 5881654_84\n"
     ]
    }
   ],
   "source": [
    "# jobs = load_jobs(method, dataset)\n",
    "cfg = get_optimal_cfg(jobs, max_dist[dataset])"
   ]
  },
  {
   "cell_type": "code",
   "execution_count": null,
   "id": "b6b6a12d",
   "metadata": {},
   "outputs": [],
   "source": []
  },
  {
   "cell_type": "code",
   "execution_count": 171,
   "id": "88ecdcfd",
   "metadata": {},
   "outputs": [],
   "source": [
    "method = 'cosmos'\n",
    "dataset = 'adult'"
   ]
  },
  {
   "cell_type": "code",
   "execution_count": null,
   "id": "38603a4b",
   "metadata": {},
   "outputs": [],
   "source": []
  },
  {
   "cell_type": "code",
   "execution_count": 195,
   "id": "0b2ed8e3",
   "metadata": {},
   "outputs": [
    {
     "data": {
      "text/plain": [
       "CfgNode({'dataset': 'adult', 'dim': (88,), 'objectives': ['BinaryCrossEntropyLoss', 'ddp'], 'task_ids': [], 'ignore_index': -100, 'epochs': 20, 'num_workers': 4, 'checkpoint_every': 0, 'lr_scheduler': 'none', 'lr': 0.001, 'batch_size': 256, 'pmtl': CfgNode({'num_starts': 5, 'lr_scheduler': 'none', 'lr': 0.001}), 'mgda': CfgNode({'approximate_norm_solution': False, 'normalization_type': 'loss', 'lr_scheduler': 'none', 'lr': 0.001}), 'phn': CfgNode({'alpha': 0.2, 'internal_solver': 'linear', 'lr_scheduler': 'none', 'lr': 0.001}), 'single_task': CfgNode({'task_id': None, 'lr_scheduler': 'none', 'lr': 0.001}), 'cosmos': CfgNode({'alpha': [1.0887843512723165, 0.3092787487483168], 'lamda': 0.0, 'normalize': False, 'instances': False, 'lr_scheduler': 'none', 'lr': 0.00034662172842139723}), 'seed': 1, 'logdir': 'results', 'n_partitions': 24, 'eval_every': 20, 'train_eval_every': 0, 'reference_point': [2, 2], 'device': 'cuda', 'metrics': None})"
      ]
     },
     "execution_count": 195,
     "metadata": {},
     "output_type": "execute_result"
    }
   ],
   "source": [
    "cfg"
   ]
  },
  {
   "cell_type": "code",
   "execution_count": null,
   "id": "f367fc0a",
   "metadata": {},
   "outputs": [],
   "source": []
  },
  {
   "cell_type": "code",
   "execution_count": null,
   "id": "c5d8e52b",
   "metadata": {},
   "outputs": [],
   "source": []
  },
  {
   "cell_type": "code",
   "execution_count": null,
   "id": "516e62db",
   "metadata": {},
   "outputs": [],
   "source": []
  },
  {
   "cell_type": "code",
   "execution_count": null,
   "id": "618c8801",
   "metadata": {},
   "outputs": [],
   "source": []
  },
  {
   "cell_type": "code",
   "execution_count": null,
   "id": "0c5b62a7",
   "metadata": {},
   "outputs": [],
   "source": []
  },
  {
   "cell_type": "code",
   "execution_count": 104,
   "id": "6971b79d",
   "metadata": {},
   "outputs": [
    {
     "data": {
      "text/plain": [
       "CfgNode({'dataset': 'adult', 'dim': (88,), 'objectives': ['BinaryCrossEntropyLoss', 'ddp'], 'task_ids': [], 'ignore_index': -100, 'epochs': 20, 'num_workers': 4, 'checkpoint_every': 0, 'lr_scheduler': 'none', 'lr': 0.001, 'batch_size': 256, 'pmtl': CfgNode({'num_starts': 5, 'lr_scheduler': 'none', 'lr': 0.001}), 'mgda': CfgNode({'approximate_norm_solution': False, 'normalization_type': 'loss', 'lr_scheduler': 'none', 'lr': 0.001}), 'phn': CfgNode({'alpha': 0.2, 'internal_solver': 'linear', 'lr_scheduler': 'none', 'lr': 0.001}), 'single_task': CfgNode({'task_id': None, 'lr_scheduler': 'none', 'lr': 0.001}), 'cosmos': CfgNode({'alpha': [1.7328161368791897, 0.853738192417888], 'lamda': 0.0, 'normalize': False, 'instances': False, 'lr_scheduler': 'none', 'lr': 0.0011650124592172252}), 'seed': 1, 'logdir': 'results', 'n_partitions': 24, 'eval_every': 20, 'train_eval_every': 0, 'reference_point': [2, 2], 'device': 'cuda', 'metrics': None})"
      ]
     },
     "execution_count": 104,
     "metadata": {},
     "output_type": "execute_result"
    }
   ],
   "source": [
    "jobs[33].submission().kwargs['cfg']"
   ]
  },
  {
   "cell_type": "code",
   "execution_count": null,
   "id": "60a11b89",
   "metadata": {},
   "outputs": [],
   "source": []
  },
  {
   "cell_type": "code",
   "execution_count": null,
   "id": "e9de0270",
   "metadata": {},
   "outputs": [],
   "source": []
  },
  {
   "cell_type": "code",
   "execution_count": 32,
   "id": "6fd67b42",
   "metadata": {},
   "outputs": [
    {
     "data": {
      "text/plain": [
       "(3.02712881565094, 0)"
      ]
     },
     "execution_count": 32,
     "metadata": {},
     "output_type": "execute_result"
    }
   ],
   "source": [
    "jobs_l[0].result()"
   ]
  },
  {
   "cell_type": "code",
   "execution_count": 13,
   "id": "afa6786b",
   "metadata": {},
   "outputs": [],
   "source": [
    "def add(a, b):\n",
    "    return a + b"
   ]
  },
  {
   "cell_type": "code",
   "execution_count": 14,
   "id": "f30f39e9",
   "metadata": {},
   "outputs": [],
   "source": [
    "job = executor.submit(add, 5, 7)  # will compute add(5, 7)"
   ]
  },
  {
   "cell_type": "code",
   "execution_count": 15,
   "id": "80f55b55",
   "metadata": {},
   "outputs": [
    {
     "name": "stdout",
     "output_type": "stream",
     "text": [
      "5359691\n"
     ]
    }
   ],
   "source": [
    "print(job.job_id)  # ID of your job"
   ]
  },
  {
   "cell_type": "code",
   "execution_count": 16,
   "id": "aa59ddc9",
   "metadata": {},
   "outputs": [],
   "source": [
    "job.result()"
   ]
  },
  {
   "cell_type": "code",
   "execution_count": 17,
   "id": "4cbe25a9",
   "metadata": {},
   "outputs": [
    {
     "data": {
      "text/plain": [
       "12"
      ]
     },
     "execution_count": 17,
     "metadata": {},
     "output_type": "execute_result"
    }
   ],
   "source": [
    "job.submission().args"
   ]
  },
  {
   "cell_type": "code",
   "execution_count": null,
   "id": "d01c7b64",
   "metadata": {},
   "outputs": [],
   "source": []
  }
 ],
 "metadata": {
  "kernelspec": {
   "display_name": "Python 3",
   "language": "python",
   "name": "python3"
  },
  "language_info": {
   "codemirror_mode": {
    "name": "ipython",
    "version": 3
   },
   "file_extension": ".py",
   "mimetype": "text/x-python",
   "name": "python",
   "nbconvert_exporter": "python",
   "pygments_lexer": "ipython3",
   "version": "3.8.5"
  }
 },
 "nbformat": 4,
 "nbformat_minor": 5
}
