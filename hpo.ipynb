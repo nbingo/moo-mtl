{
 "cells": [
  {
   "cell_type": "code",
   "execution_count": 1,
   "id": "6395b840",
   "metadata": {},
   "outputs": [],
   "source": [
    "import submitit\n",
    "\n",
    "import torch\n",
    "import random\n",
    "import numpy as np\n",
    "\n",
    "import pickle\n",
    "import itertools\n",
    "import argparse\n",
    "import logging\n",
    "import os\n",
    "import pathlib\n",
    "import time\n",
    "import json\n",
    "import math\n",
    "import matplotlib.pyplot as plt\n",
    "from torch.utils import data\n",
    "from fvcore.common.config import CfgNode\n",
    "from submitit.core.utils import FailedJobError, UncompletedJobError\n",
    "from itertools import cycle\n",
    "from time import sleep\n",
    "\n",
    "random.seed(1)"
   ]
  },
  {
   "cell_type": "code",
   "execution_count": 2,
   "id": "e3e7f060",
   "metadata": {},
   "outputs": [],
   "source": [
    "from multi_objective.main import main, get_config"
   ]
  },
  {
   "cell_type": "code",
   "execution_count": 3,
   "id": "d27d2cc2",
   "metadata": {},
   "outputs": [],
   "source": [
    "executor = submitit.AutoExecutor(folder=\"tmp/submitit_hpo\")"
   ]
  },
  {
   "cell_type": "markdown",
   "id": "fe760f76",
   "metadata": {},
   "source": [
    "# Prepare the globals"
   ]
  },
  {
   "cell_type": "code",
   "execution_count": 4,
   "id": "e85e5b25",
   "metadata": {},
   "outputs": [],
   "source": [
    "num_evaluations = 150"
   ]
  },
  {
   "cell_type": "code",
   "execution_count": 5,
   "id": "8beab615",
   "metadata": {},
   "outputs": [],
   "source": [
    "lr           = {'lr': [0.01, 0.0075, 0.005, 0.0025, 0.001, 0.00075, 0.0005, 0.00025, 0.0001]}\n",
    "weight_decay = {'weight_decay': [0.1, 0.25, 0.05, 0.075, 0.01, 0.0075, 0.005, 0.0025, 0.001, 0.00075, 0.0005, 0.00025, 0.0001]}\n",
    "scheduler    = {'lr_scheduler': ['none', 'MultiStep', 'CosineAnnealing']}\n",
    "\n",
    "# phn\n",
    "solver = {'internal_solver_phn': ['linear', 'epo']}\n",
    "\n",
    "# mgda\n",
    "norm = {'normalization_type': ['none', 'loss', 'loss+', 'l2']}\n",
    "\n",
    "# pmtl & cosmos\n",
    "mildening = [0.8, 0.5, 0.3, 0.]\n",
    "\n",
    "# cosmos\n",
    "clipping  = [10., 5., 2., 1., 0.5]\n",
    "dampening = [0.1, 0.01, 0.001, 0.0001, 0]"
   ]
  },
  {
   "cell_type": "code",
   "execution_count": 6,
   "id": "ffb56d03",
   "metadata": {},
   "outputs": [],
   "source": [
    "def percent_finished(jobs):\n",
    "    if len(jobs):\n",
    "        return sum(job.done() for job in jobs) / len(jobs)\n",
    "\n",
    "\n",
    "def save_jobs(method, dataset, jobs, tag='hpo', force=False):\n",
    "    if not results_exist(method, dataset, tag) or force:\n",
    "        with open(f'pickles/{method}_{dataset}_{tag}.pickle', 'wb') as f:\n",
    "            pickle.dump(jobs, f)\n",
    "    else:\n",
    "        print('skipping')\n",
    "\n",
    "        \n",
    "def load_jobs(method, dataset, tag='hpo'):\n",
    "    with open(f'pickles/{method}_{dataset}_{tag}.pickle', 'rb') as f:\n",
    "        return pickle.load(f)\n",
    "\n",
    "\n",
    "def jobs_failed(jobs):\n",
    "    idxs = []\n",
    "    for i, job in enumerate(jobs):\n",
    "        if job.state == 'FAILED':\n",
    "            idxs.append(i)\n",
    "    return idxs\n",
    "\n",
    "\n",
    "def results_exist(method, dataset, tag='hpo'):\n",
    "    return os.path.exists(f'pickles/{method}_{dataset}_{tag}.pickle')\n",
    "\n",
    "\n",
    "def get_optimal_cfg(jobs, max_dist=None):\n",
    "    idx_best = None\n",
    "    hv_best = 0\n",
    "    \n",
    "    for i, job in enumerate(jobs):\n",
    "        if job.state == 'FAILED' or job.state == 'TIMEOUT':\n",
    "            continue\n",
    "\n",
    "        hv, dist = job.result()\n",
    "        \n",
    "        if max_dist is not None and dist > max_dist:\n",
    "            continue\n",
    "        \n",
    "        if hv > hv_best:\n",
    "            print(hv, dist, job.job_id)\n",
    "            hv_best = hv\n",
    "            idx_best = i\n",
    "    assert idx_best is not None, \"No optimal cfg found\"\n",
    "    print(f'Best job: {jobs[idx_best].job_id}')\n",
    "    cfg = jobs[idx_best].submission().args[2]\n",
    "    return {\n",
    "        'lr': cfg.lr,\n",
    "        'weight_decay': cfg.weight_decay,\n",
    "        'scheduler': cfg.lr_scheduler,\n",
    "        'solver': cfg.internal_solver_phn,\n",
    "        'norm': cfg.normalization_type,\n",
    "        'mildening': cfg.train_ray_mildening,\n",
    "        'clipping': cfg.lambda_clipping,\n",
    "        'dampening': cfg.dampening,\n",
    "    }"
   ]
  },
  {
   "cell_type": "code",
   "execution_count": 7,
   "id": "5b7b107f",
   "metadata": {},
   "outputs": [],
   "source": [
    "def execute(config, hp_spaces, force=False, tag='hpo'):\n",
    "    if not force and results_exist(config.method, config.dataset, tag):\n",
    "        print('skipping. Use force=True to enforce execution')\n",
    "        return []\n",
    "    \n",
    "    cfg = config.clone()\n",
    "    cfg.eval_every = 1   # early stopping\n",
    "    \n",
    "    cartesian_product = list(itertools.product(*(list(hp.values())[0] for hp in hp_spaces)))\n",
    "    \n",
    "    configurations = []\n",
    "    for c in cartesian_product:\n",
    "        hp_with_names = [(list(name.keys())[0], value) for name, value in zip(hp_spaces, c)]\n",
    "        flattened = [item for sublist in hp_with_names for item in sublist]\n",
    "        configurations.append(flattened)\n",
    "    \n",
    "    configurations = random.sample(configurations, num_evaluations)\n",
    "    \n",
    "    cfgs = []\n",
    "    for args in configurations:\n",
    "        cfg = cfg.clone()\n",
    "        cfg.merge_from_list(args)\n",
    "        cfgs.append(cfg)\n",
    "    \n",
    "    tags = [f\"{tag}_{i :03d}\" for i in range(len(cfgs))]\n",
    "    \n",
    "    # func, rank, world_size, cfg, tag\n",
    "    return executor.map_array(main, cycle([0]), cycle([1]), cfgs, tags)"
   ]
  },
  {
   "cell_type": "code",
   "execution_count": 8,
   "id": "769da299",
   "metadata": {},
   "outputs": [],
   "source": [
    "def execute_and_save(config, hp_spaces, force=False, tag='hpo'):\n",
    "    jobs = execute(config, hp_spaces, force, tag)\n",
    "    done = len(jobs) == 0\n",
    "    while not done:\n",
    "        done = percent_finished(jobs) == 1\n",
    "        sleep(10)\n",
    "    \n",
    "    method_name = config.method + \"_\" + config.task_id if config.method == 'single_task' else config.method\n",
    "    \n",
    "    save_jobs(method_name, config.dataset, jobs, force=force, tag=tag)\n",
    "    return jobs"
   ]
  },
  {
   "cell_type": "code",
   "execution_count": 24,
   "id": "f63f412e",
   "metadata": {},
   "outputs": [],
   "source": [
    "executor.update_parameters(timeout_min=120, slurm_partition=\"alldlc_gpu-rtx2080\", name='hpo', gpus_per_node=1)\n",
    "executor.update_parameters(slurm_array_parallelism=150)"
   ]
  },
  {
   "cell_type": "code",
   "execution_count": 10,
   "id": "0181ebb2",
   "metadata": {},
   "outputs": [],
   "source": [
    "executor.update_parameters(slurm_exclude='dlcgpu12')"
   ]
  },
  {
   "cell_type": "markdown",
   "id": "dd3e22e1",
   "metadata": {},
   "source": [
    "## Analyze"
   ]
  },
  {
   "cell_type": "code",
   "execution_count": null,
   "id": "20996fb4",
   "metadata": {},
   "outputs": [],
   "source": []
  },
  {
   "cell_type": "code",
   "execution_count": null,
   "id": "4a4119bc",
   "metadata": {},
   "outputs": [],
   "source": []
  },
  {
   "cell_type": "code",
   "execution_count": null,
   "id": "e05dfa6d",
   "metadata": {},
   "outputs": [],
   "source": []
  },
  {
   "cell_type": "code",
   "execution_count": 19,
   "id": "20775361",
   "metadata": {},
   "outputs": [],
   "source": [
    "jobs = load_jobs('pmtl', 'multi_mnist', 'hpo')"
   ]
  },
  {
   "cell_type": "code",
   "execution_count": null,
   "id": "036b8631",
   "metadata": {},
   "outputs": [],
   "source": []
  },
  {
   "cell_type": "code",
   "execution_count": 20,
   "id": "83602e05",
   "metadata": {},
   "outputs": [
    {
     "name": "stdout",
     "output_type": "stream",
     "text": [
      "0.5054907642862094 99 7085549_0\n",
      "0.5156304269139014 99 7085549_94\n",
      "Best job: 7085549_94\n"
     ]
    },
    {
     "data": {
      "text/plain": [
       "{'lr': 0.00075,\n",
       " 'weight_decay': 0.05,\n",
       " 'scheduler': 'CosineAnnealing',\n",
       " 'solver': 'linear',\n",
       " 'norm': 'none',\n",
       " 'mildening': 0.5,\n",
       " 'clipping': 5.0,\n",
       " 'dampening': 0.2}"
      ]
     },
     "execution_count": 20,
     "metadata": {},
     "output_type": "execute_result"
    }
   ],
   "source": [
    "get_optimal_cfg(jobs)"
   ]
  },
  {
   "cell_type": "markdown",
   "id": "e062bc37",
   "metadata": {},
   "source": [
    "## COSMOS"
   ]
  },
  {
   "cell_type": "code",
   "execution_count": null,
   "id": "2168e2ca",
   "metadata": {},
   "outputs": [],
   "source": [
    "jobs = execute_and_save(\n",
    "    get_config('configs/multi_mnist/cosmos.yaml'), \n",
    "    hp_samples=[\n",
    "        lr_samples, \n",
    "        weight_decay_samples, \n",
    "        scheduler_samples,\n",
    "        mildening_samples,\n",
    "        clipping_samples,\n",
    "        dampening_samples,\n",
    "    ])"
   ]
  },
  {
   "cell_type": "code",
   "execution_count": 61,
   "id": "a27c32bb",
   "metadata": {},
   "outputs": [],
   "source": [
    "jobs = execute_and_save(\n",
    "    get_config('configs/multi_fashion/cosmos.yaml'), \n",
    "    hp_samples=[\n",
    "        lr_samples, \n",
    "        weight_decay_samples, \n",
    "        scheduler_samples,\n",
    "        mildening_samples,\n",
    "        clipping_samples,\n",
    "        dampening_samples,\n",
    "    ])"
   ]
  },
  {
   "cell_type": "code",
   "execution_count": 64,
   "id": "a7ce282e",
   "metadata": {},
   "outputs": [],
   "source": [
    "jobs = execute_and_save(\n",
    "    get_config('configs/multi_fashion_mnist/cosmos.yaml'), \n",
    "    hp_samples=[\n",
    "        lr_samples, \n",
    "        weight_decay_samples, \n",
    "        scheduler_samples,\n",
    "        mildening_samples,\n",
    "        clipping_samples,\n",
    "        dampening_samples,\n",
    "    ])"
   ]
  },
  {
   "cell_type": "markdown",
   "id": "e1c06581",
   "metadata": {},
   "source": [
    "## mgda"
   ]
  },
  {
   "cell_type": "code",
   "execution_count": 26,
   "id": "580624ae",
   "metadata": {},
   "outputs": [],
   "source": [
    "jobs = execute_and_save(\n",
    "    get_config('configs/multi_mnist/mgda.yaml'), \n",
    "    hp_spaces=[\n",
    "        lr, \n",
    "        weight_decay, \n",
    "        scheduler,\n",
    "        norm,\n",
    "    ])"
   ]
  },
  {
   "cell_type": "code",
   "execution_count": 28,
   "id": "69c4ff94",
   "metadata": {},
   "outputs": [],
   "source": [
    "jobs = execute_and_save(\n",
    "    get_config('configs/multi_fashion/mgda.yaml'), \n",
    "    hp_spaces=[\n",
    "        lr, \n",
    "        weight_decay, \n",
    "        scheduler,\n",
    "        norm,\n",
    "    ])"
   ]
  },
  {
   "cell_type": "code",
   "execution_count": 30,
   "id": "5ba62b21",
   "metadata": {},
   "outputs": [],
   "source": [
    "jobs = execute_and_save(\n",
    "    get_config('configs/multi_fashion_mnist/mgda.yaml'), \n",
    "    hp_spaces=[\n",
    "        lr, \n",
    "        weight_decay, \n",
    "        scheduler,\n",
    "        norm,\n",
    "    ])"
   ]
  },
  {
   "cell_type": "markdown",
   "id": "4ac82fcd",
   "metadata": {},
   "source": [
    "## phn"
   ]
  },
  {
   "cell_type": "code",
   "execution_count": 12,
   "id": "d55ada4a",
   "metadata": {},
   "outputs": [],
   "source": [
    "jobs = execute_and_save(\n",
    "    get_config('configs/multi_mnist/phn.yaml'), \n",
    "    hp_spaces=[\n",
    "        lr, \n",
    "        weight_decay, \n",
    "        scheduler,\n",
    "        solver,\n",
    "    ])"
   ]
  },
  {
   "cell_type": "code",
   "execution_count": 13,
   "id": "a9ee57e4",
   "metadata": {},
   "outputs": [],
   "source": [
    "jobs = execute_and_save(\n",
    "    get_config('configs/multi_fashion/phn.yaml'), \n",
    "    hp_spaces=[\n",
    "        lr, \n",
    "        weight_decay, \n",
    "        scheduler,\n",
    "        solver,\n",
    "    ])"
   ]
  },
  {
   "cell_type": "code",
   "execution_count": 14,
   "id": "be8f457a",
   "metadata": {},
   "outputs": [],
   "source": [
    "jobs = execute_and_save(\n",
    "    get_config('configs/multi_fashion_mnist/phn.yaml'), \n",
    "    hp_spaces=[\n",
    "        lr, \n",
    "        weight_decay, \n",
    "        scheduler,\n",
    "        solver,\n",
    "    ])"
   ]
  },
  {
   "cell_type": "markdown",
   "id": "6b12f1a3",
   "metadata": {},
   "source": [
    "## pmtl"
   ]
  },
  {
   "cell_type": "code",
   "execution_count": 25,
   "id": "9ea34eba",
   "metadata": {},
   "outputs": [],
   "source": [
    "jobs = execute_and_save(\n",
    "    get_config('configs/multi_mnist/pmtl.yaml'), \n",
    "    hp_spaces=[\n",
    "        lr, \n",
    "        weight_decay, \n",
    "        scheduler,\n",
    "    ])"
   ]
  },
  {
   "cell_type": "code",
   "execution_count": 26,
   "id": "72841371",
   "metadata": {},
   "outputs": [],
   "source": [
    "jobs = execute_and_save(\n",
    "    get_config('configs/multi_fashion/pmtl.yaml'), \n",
    "    hp_spaces=[\n",
    "        lr, \n",
    "        weight_decay, \n",
    "        scheduler,\n",
    "    ])"
   ]
  },
  {
   "cell_type": "code",
   "execution_count": null,
   "id": "fd7ea2b7",
   "metadata": {},
   "outputs": [],
   "source": [
    "jobs = execute_and_save(\n",
    "    get_config('configs/multi_fashion_mnist/pmtl.yaml'), \n",
    "    hp_spaces=[\n",
    "        lr, \n",
    "        weight_decay, \n",
    "        scheduler,\n",
    "    ])"
   ]
  },
  {
   "cell_type": "markdown",
   "id": "5ccc59c0",
   "metadata": {},
   "source": [
    "## Single task"
   ]
  },
  {
   "cell_type": "code",
   "execution_count": 26,
   "id": "d66a4b6a",
   "metadata": {},
   "outputs": [],
   "source": [
    "jobs = execute_and_save(\n",
    "    get_config('configs/multi_mnist/single_task_1.yaml'), \n",
    "    hp_spaces=[\n",
    "        lr, \n",
    "        weight_decay, \n",
    "        scheduler,\n",
    "    ])"
   ]
  },
  {
   "cell_type": "code",
   "execution_count": 19,
   "id": "d2323188",
   "metadata": {},
   "outputs": [],
   "source": [
    "jobs = execute_and_save(\n",
    "    get_config('configs/multi_mnist/single_task_2.yaml'), \n",
    "    hp_spaces=[\n",
    "        lr, \n",
    "        weight_decay, \n",
    "        scheduler,\n",
    "    ])"
   ]
  },
  {
   "cell_type": "code",
   "execution_count": 28,
   "id": "1a4bc739",
   "metadata": {},
   "outputs": [],
   "source": [
    "jobs = execute_and_save(\n",
    "    get_config('configs/multi_fashion/single_task_1.yaml'), \n",
    "    hp_spaces=[\n",
    "        lr, \n",
    "        weight_decay, \n",
    "        scheduler,\n",
    "    ])"
   ]
  },
  {
   "cell_type": "code",
   "execution_count": 11,
   "id": "1122e322",
   "metadata": {},
   "outputs": [],
   "source": [
    "jobs = execute_and_save(\n",
    "    get_config('configs/multi_fashion/single_task_2.yaml'), \n",
    "    hp_spaces=[\n",
    "        lr, \n",
    "        weight_decay, \n",
    "        scheduler,\n",
    "    ])"
   ]
  },
  {
   "cell_type": "code",
   "execution_count": 13,
   "id": "6a0e0285",
   "metadata": {},
   "outputs": [],
   "source": [
    "jobs = execute_and_save(\n",
    "    get_config('configs/multi_fashion_mnist/single_task_1.yaml'), \n",
    "    hp_spaces=[\n",
    "        lr, \n",
    "        weight_decay, \n",
    "        scheduler,\n",
    "    ])"
   ]
  },
  {
   "cell_type": "code",
   "execution_count": 16,
   "id": "879ae981",
   "metadata": {},
   "outputs": [],
   "source": [
    "jobs = execute_and_save(\n",
    "    get_config('configs/multi_fashion_mnist/single_task_2.yaml'), \n",
    "    hp_spaces=[\n",
    "        lr, \n",
    "        weight_decay, \n",
    "        scheduler,\n",
    "    ])"
   ]
  },
  {
   "cell_type": "markdown",
   "id": "257d8a08",
   "metadata": {},
   "source": [
    "## Uniform"
   ]
  },
  {
   "cell_type": "code",
   "execution_count": 25,
   "id": "32028a6d",
   "metadata": {},
   "outputs": [],
   "source": [
    "jobs = execute_and_save(\n",
    "    get_config('configs/multi_mnist/uniform.yaml'), \n",
    "    hp_spaces=[\n",
    "        lr, \n",
    "        weight_decay, \n",
    "        scheduler,\n",
    "    ])"
   ]
  },
  {
   "cell_type": "code",
   "execution_count": 18,
   "id": "66011967",
   "metadata": {},
   "outputs": [],
   "source": [
    "jobs = execute_and_save(\n",
    "    get_config('configs/multi_fashion/uniform.yaml'), \n",
    "    hp_spaces=[\n",
    "        lr, \n",
    "        weight_decay, \n",
    "        scheduler,\n",
    "    ])"
   ]
  },
  {
   "cell_type": "code",
   "execution_count": 22,
   "id": "183aa041",
   "metadata": {},
   "outputs": [],
   "source": [
    "jobs = execute_and_save(\n",
    "    get_config('configs/multi_fashion_mnist/uniform.yaml'), \n",
    "    hp_spaces=[\n",
    "        lr, \n",
    "        weight_decay, \n",
    "        scheduler,\n",
    "    ])"
   ]
  },
  {
   "cell_type": "markdown",
   "id": "1f414455",
   "metadata": {},
   "source": [
    "# Different size"
   ]
  },
  {
   "cell_type": "markdown",
   "id": "da7a9b85",
   "metadata": {},
   "source": [
    "#### single task"
   ]
  },
  {
   "cell_type": "code",
   "execution_count": 26,
   "id": "06c97569",
   "metadata": {},
   "outputs": [],
   "source": [
    "jobs = execute_and_save(\n",
    "    get_config('size_2_configs/multi_mnist/single_task_1.yaml'), \n",
    "    hp_spaces=[\n",
    "        lr, \n",
    "        weight_decay, \n",
    "        scheduler,\n",
    "    ])"
   ]
  },
  {
   "cell_type": "code",
   "execution_count": 19,
   "id": "5775d1b0",
   "metadata": {},
   "outputs": [],
   "source": [
    "jobs = execute_and_save(\n",
    "    get_config('size_2_configs/multi_mnist/single_task_2.yaml'), \n",
    "    hp_spaces=[\n",
    "        lr, \n",
    "        weight_decay, \n",
    "        scheduler,\n",
    "    ])"
   ]
  },
  {
   "cell_type": "code",
   "execution_count": 28,
   "id": "8f14dac9",
   "metadata": {},
   "outputs": [],
   "source": [
    "jobs = execute_and_save(\n",
    "    get_config('size_2_configs/multi_fashion/single_task_1.yaml'), \n",
    "    hp_spaces=[\n",
    "        lr, \n",
    "        weight_decay, \n",
    "        scheduler,\n",
    "    ])"
   ]
  },
  {
   "cell_type": "code",
   "execution_count": 11,
   "id": "602871b4",
   "metadata": {},
   "outputs": [],
   "source": [
    "jobs = execute_and_save(\n",
    "    get_config('size_2_configs/multi_fashion/single_task_2.yaml'), \n",
    "    hp_spaces=[\n",
    "        lr, \n",
    "        weight_decay, \n",
    "        scheduler,\n",
    "    ])"
   ]
  },
  {
   "cell_type": "code",
   "execution_count": 13,
   "id": "bef4b93b",
   "metadata": {},
   "outputs": [],
   "source": [
    "jobs = execute_and_save(\n",
    "    get_config('size_2_configs/multi_fashion_mnist/single_task_1.yaml'), \n",
    "    hp_spaces=[\n",
    "        lr, \n",
    "        weight_decay, \n",
    "        scheduler,\n",
    "    ])"
   ]
  },
  {
   "cell_type": "code",
   "execution_count": 16,
   "id": "b042e2e4",
   "metadata": {},
   "outputs": [],
   "source": [
    "jobs = execute_and_save(\n",
    "    get_config('size_2_configs/multi_fashion_mnist/single_task_2.yaml'), \n",
    "    hp_spaces=[\n",
    "        lr, \n",
    "        weight_decay, \n",
    "        scheduler,\n",
    "    ])"
   ]
  },
  {
   "cell_type": "markdown",
   "id": "6c166217",
   "metadata": {},
   "source": [
    "#### Uniform"
   ]
  },
  {
   "cell_type": "code",
   "execution_count": 25,
   "id": "07c2adfb",
   "metadata": {},
   "outputs": [],
   "source": [
    "jobs = execute_and_save(\n",
    "    get_config('size_2_configs/multi_mnist/uniform.yaml'), \n",
    "    hp_spaces=[\n",
    "        lr, \n",
    "        weight_decay, \n",
    "        scheduler,\n",
    "    ])"
   ]
  },
  {
   "cell_type": "code",
   "execution_count": 18,
   "id": "e28d55b7",
   "metadata": {},
   "outputs": [],
   "source": [
    "jobs = execute_and_save(\n",
    "    get_config('size_2_configs/multi_fashion/uniform.yaml'), \n",
    "    hp_spaces=[\n",
    "        lr, \n",
    "        weight_decay, \n",
    "        scheduler,\n",
    "    ])"
   ]
  },
  {
   "cell_type": "code",
   "execution_count": 22,
   "id": "70036b13",
   "metadata": {},
   "outputs": [],
   "source": [
    "jobs = execute_and_save(\n",
    "    get_config('size_2_configs/multi_fashion_mnist/uniform.yaml'), \n",
    "    hp_spaces=[\n",
    "        lr, \n",
    "        weight_decay, \n",
    "        scheduler,\n",
    "    ])"
   ]
  },
  {
   "cell_type": "code",
   "execution_count": null,
   "id": "55e8cd7f",
   "metadata": {},
   "outputs": [],
   "source": []
  },
  {
   "cell_type": "code",
   "execution_count": null,
   "id": "7eeb8d0d",
   "metadata": {},
   "outputs": [],
   "source": []
  },
  {
   "cell_type": "code",
   "execution_count": null,
   "id": "57e9591c",
   "metadata": {},
   "outputs": [],
   "source": []
  },
  {
   "cell_type": "code",
   "execution_count": null,
   "id": "fe0db4d4",
   "metadata": {},
   "outputs": [],
   "source": []
  },
  {
   "cell_type": "code",
   "execution_count": null,
   "id": "d01c7b64",
   "metadata": {},
   "outputs": [],
   "source": []
  }
 ],
 "metadata": {
  "kernelspec": {
   "display_name": "Python 3",
   "language": "python",
   "name": "python3"
  },
  "language_info": {
   "codemirror_mode": {
    "name": "ipython",
    "version": 3
   },
   "file_extension": ".py",
   "mimetype": "text/x-python",
   "name": "python",
   "nbconvert_exporter": "python",
   "pygments_lexer": "ipython3",
   "version": "3.8.5"
  }
 },
 "nbformat": 4,
 "nbformat_minor": 5
}
