{
 "cells": [
  {
   "cell_type": "code",
   "execution_count": 1,
   "id": "6395b840",
   "metadata": {},
   "outputs": [],
   "source": [
    "import submitit\n",
    "\n",
    "import torch\n",
    "import random\n",
    "import numpy as np\n",
    "\n",
    "import pickle\n",
    "import itertools\n",
    "import argparse\n",
    "import logging\n",
    "import os\n",
    "import pathlib\n",
    "import time\n",
    "import json\n",
    "import math\n",
    "import matplotlib.pyplot as plt\n",
    "from torch.utils import data\n",
    "from fvcore.common.config import CfgNode\n",
    "from submitit.core.utils import FailedJobError, UncompletedJobError\n",
    "from itertools import cycle\n",
    "from time import sleep"
   ]
  },
  {
   "cell_type": "code",
   "execution_count": 2,
   "id": "e3e7f060",
   "metadata": {},
   "outputs": [],
   "source": [
    "from multi_objective.main import main, get_config"
   ]
  },
  {
   "cell_type": "code",
   "execution_count": 3,
   "id": "d27d2cc2",
   "metadata": {},
   "outputs": [],
   "source": [
    "executor = submitit.AutoExecutor(folder=\"tmp/submitit_hpo\")"
   ]
  },
  {
   "cell_type": "markdown",
   "id": "fe760f76",
   "metadata": {},
   "source": [
    "# Prepare the globals"
   ]
  },
  {
   "cell_type": "code",
   "execution_count": 4,
   "id": "e85e5b25",
   "metadata": {},
   "outputs": [],
   "source": [
    "num_evaluations = 150"
   ]
  },
  {
   "cell_type": "code",
   "execution_count": 6,
   "id": "8beab615",
   "metadata": {},
   "outputs": [],
   "source": [
    "lr           = [0.01, 0.0075, 0.005, 0.0025, 0.001, 0.00075, 0.0005, 0.00025, 0.0001]\n",
    "weight_decay = [0.1, 0.25, 0.05, 0.075, 0.01, 0.0075, 0.005, 0.0025, 0.001, 0.00075, 0.0005, 0.00025, 0.0001]\n",
    "scheduler    = ['none', 'MultiStep', 'CosineAnnealing']\n",
    "\n",
    "# phn\n",
    "solver = ['linear', 'epo']\n",
    "\n",
    "# mgda\n",
    "norm = ['none', 'loss', 'loss+', 'l2']\n",
    "\n",
    "# pmtl & cosmos\n",
    "mildening = [0.8, 0.5, 0.3, 0.]\n",
    "\n",
    "# cosmos\n",
    "clipping  = [10., 5., 2., 1., 0.5]\n",
    "dampening = [0.1, 0.01, 0.001, 0.0001, 0]"
   ]
  },
  {
   "cell_type": "markdown",
   "id": "021fce52",
   "metadata": {},
   "source": [
    "Sample the hyperparameters"
   ]
  },
  {
   "cell_type": "code",
   "execution_count": 9,
   "id": "9850fc58",
   "metadata": {},
   "outputs": [],
   "source": [
    "np.random.seed(1)\n",
    "\n",
    "lr_samples = {'lr': np.random.choice(lr, num_evaluations)}\n",
    "weight_decay_samples = {'weight_decay': np.random.choice(weight_decay, num_evaluations)}\n",
    "scheduler_samples = {'lr_scheduler': np.random.choice(scheduler, num_evaluations)}\n",
    "solver_samples = {'internal_solver_phn': np.random.choice(solver, num_evaluations)}\n",
    "norm_samples = {'normalization_type': np.random.choice(norm, num_evaluations)}\n",
    "mildening_samples = {'train_ray_mildening': np.random.choice(mildening, num_evaluations)}\n",
    "clipping_samples = {'lambda_clipping': np.random.choice(clipping, num_evaluations)}\n",
    "dampening_samples = {'dampening': np.random.choice(dampening, num_evaluations)}"
   ]
  },
  {
   "cell_type": "code",
   "execution_count": 20,
   "id": "ffb56d03",
   "metadata": {},
   "outputs": [],
   "source": [
    "def percent_finished(jobs):\n",
    "    if len(jobs):\n",
    "        return sum(job.done() for job in jobs) / len(jobs)\n",
    "\n",
    "\n",
    "def save_jobs(method, dataset, jobs, tag='hpo', force=False):\n",
    "    if not results_exist(method, dataset, tag) or force:\n",
    "        with open(f'pickles/{method}_{dataset}_{tag}.pickle', 'wb') as f:\n",
    "            pickle.dump(jobs, f)\n",
    "    else:\n",
    "        print('skipping')\n",
    "\n",
    "        \n",
    "def load_jobs(method, dataset, tag='hpo'):\n",
    "    with open(f'pickles/{method}_{dataset}_{tag}.pickle', 'rb') as f:\n",
    "        return pickle.load(f)\n",
    "\n",
    "\n",
    "def jobs_failed(jobs):\n",
    "    idxs = []\n",
    "    for i, job in enumerate(jobs):\n",
    "        if job.state == 'FAILED':\n",
    "            idxs.append(i)\n",
    "    return idxs\n",
    "\n",
    "\n",
    "def results_exist(method, dataset, tag='hpo'):\n",
    "    return os.path.exists(f'pickles/{method}_{dataset}_{tag}.pickle')\n",
    "\n",
    "\n",
    "def get_optimal_cfg(jobs, max_dist=None):\n",
    "    idx_best = None\n",
    "    hv_best = 0\n",
    "    \n",
    "    for i, job in enumerate(jobs):\n",
    "        if job.state == 'FAILED' or job.state == 'TIMEOUT':\n",
    "            continue\n",
    "\n",
    "        hv, dist = job.result()\n",
    "        \n",
    "        if max_dist is not None and dist > max_dist:\n",
    "            continue\n",
    "        \n",
    "        if hv > hv_best:\n",
    "            print(hv, dist, job.job_id)\n",
    "            hv_best = hv\n",
    "            idx_best = i\n",
    "    assert idx_best is not None, \"No optimal cfg found\"\n",
    "    print(f'Best job: {jobs[idx_best].job_id}')\n",
    "    cfg = jobs[idx_best].submission().args[2]\n",
    "    return {\n",
    "        'lr': cfg.lr,\n",
    "        'weight_decay': cfg.weight_decay,\n",
    "        'scheduler': cfg.lr_scheduler,\n",
    "        'solver': cfg.internal_solver_phn,\n",
    "        'norm': cfg.normalization_type,\n",
    "        'mildening': cfg.train_ray_mildening,\n",
    "        'clipping': cfg.lambda_clipping,\n",
    "        'dampening': cfg.dampening,\n",
    "    }"
   ]
  },
  {
   "cell_type": "code",
   "execution_count": 22,
   "id": "5b7b107f",
   "metadata": {},
   "outputs": [],
   "source": [
    "def execute(config, hp_samples, force=False, tag='hpo'):\n",
    "    if not force and results_exist(config.method, config.dataset, tag):\n",
    "        print('skipping. Use force=True to enforce execution')\n",
    "        return []\n",
    "    \n",
    "    \n",
    "    cfg = config.clone()\n",
    "    cfg.eval_every = 1   # early stopping\n",
    "    hpos = [list(zip(cycle(s.keys()), list(s.values())[0])) for s in hp_samples]\n",
    "    hpos = np.hstack(hpos).tolist()\n",
    "    \n",
    "    cfgs = []\n",
    "    for args in hpos:\n",
    "        cfg = cfg.clone()\n",
    "        cfg.merge_from_list(args)\n",
    "        cfgs.append(cfg)\n",
    "    \n",
    "    tags = [f\"{tag}_{i :02d}\" for i in range(len(cfgs))]\n",
    "    \n",
    "    # func, rank, world_size, cfg, tag\n",
    "    return executor.map_array(main, cycle([0]), cycle([1]), cfgs, tags)"
   ]
  },
  {
   "cell_type": "code",
   "execution_count": 27,
   "id": "769da299",
   "metadata": {},
   "outputs": [],
   "source": [
    "def execute_and_save(config, hp_samples, force=False, tag='hpo'):\n",
    "    jobs = execute(config, hp_samples, force, tag)\n",
    "    done = len(jobs) == 0\n",
    "    while not done:\n",
    "        done = percent_finished(jobs) == 1\n",
    "        sleep(10)\n",
    "    \n",
    "    method_name = config.method + \"_\" + config.task_id if config.method == 'single_task' else config.method\n",
    "    \n",
    "    save_jobs(method_name, config.dataset, jobs, force=force, tag=tag)\n",
    "    return jobs"
   ]
  },
  {
   "cell_type": "code",
   "execution_count": 28,
   "id": "f63f412e",
   "metadata": {},
   "outputs": [],
   "source": [
    "executor.update_parameters(timeout_min=20, slurm_partition=\"alldlc_gpu-rtx2080\", name='hpo', gpus_per_node=1)\n",
    "executor.update_parameters(slurm_array_parallelism=150)"
   ]
  },
  {
   "cell_type": "code",
   "execution_count": 29,
   "id": "0181ebb2",
   "metadata": {},
   "outputs": [],
   "source": [
    "executor.update_parameters(slurm_exclude='dlcgpu12')"
   ]
  },
  {
   "cell_type": "markdown",
   "id": "dd3e22e1",
   "metadata": {},
   "source": [
    "## Analyze"
   ]
  },
  {
   "cell_type": "code",
   "execution_count": null,
   "id": "20996fb4",
   "metadata": {},
   "outputs": [],
   "source": [
    "jobs = execute_and_save(\n",
    "    get_config('configs/multi_fashion_mnist/cosmos.yaml'), \n",
    "    hp_samples=[\n",
    "        lr_samples, \n",
    "        weight_decay_samples, \n",
    "        scheduler_samples,\n",
    "        mildening_samples,\n",
    "        clipping_samples,\n",
    "        dampening_samples,\n",
    "    ],\n",
    "    tag='hpo_capacity', force=True)"
   ]
  },
  {
   "cell_type": "code",
   "execution_count": null,
   "id": "4a4119bc",
   "metadata": {},
   "outputs": [],
   "source": [
    "jobs = execute_and_save(\n",
    "    get_config('configs/multi_fashion_mnist/single_task.yaml'), \n",
    "    hp_samples=[\n",
    "        lr_samples, \n",
    "        weight_decay_samples, \n",
    "        scheduler_samples,\n",
    "        mildening_samples,\n",
    "        clipping_samples,\n",
    "        dampening_samples,\n",
    "    ],\n",
    "    tag='hpo_capacity', force=True)"
   ]
  },
  {
   "cell_type": "code",
   "execution_count": null,
   "id": "e05dfa6d",
   "metadata": {},
   "outputs": [],
   "source": []
  },
  {
   "cell_type": "code",
   "execution_count": 20,
   "id": "20775361",
   "metadata": {},
   "outputs": [],
   "source": [
    "jobs = load_jobs('single_task', 'multi_fashion_mnist', 'hpo_capacity')"
   ]
  },
  {
   "cell_type": "code",
   "execution_count": null,
   "id": "036b8631",
   "metadata": {},
   "outputs": [],
   "source": []
  },
  {
   "cell_type": "code",
   "execution_count": 34,
   "id": "83602e05",
   "metadata": {},
   "outputs": [
    {
     "name": "stdout",
     "output_type": "stream",
     "text": [
      "0.5008392256130811 16 6835378_0\n",
      "0.5790844750420077 98 6835378_6\n",
      "Best job: 6835378_6\n"
     ]
    },
    {
     "data": {
      "text/plain": [
       "{'lr': 0.00025,\n",
       " 'weight_decay': 0.05,\n",
       " 'scheduler': 'CosineAnnealing',\n",
       " 'solver': 'linear',\n",
       " 'norm': 'none',\n",
       " 'mildening': 0.5,\n",
       " 'clipping': 5.0,\n",
       " 'dampening': 0.2}"
      ]
     },
     "execution_count": 34,
     "metadata": {},
     "output_type": "execute_result"
    }
   ],
   "source": [
    "get_optimal_cfg(jobs)"
   ]
  },
  {
   "cell_type": "markdown",
   "id": "e062bc37",
   "metadata": {},
   "source": [
    "## COSMOS"
   ]
  },
  {
   "cell_type": "code",
   "execution_count": null,
   "id": "2168e2ca",
   "metadata": {},
   "outputs": [],
   "source": [
    "jobs = execute_and_save(\n",
    "    get_config('configs/multi_mnist/cosmos.yaml'), \n",
    "    hp_samples=[\n",
    "        lr_samples, \n",
    "        weight_decay_samples, \n",
    "        scheduler_samples,\n",
    "        mildening_samples,\n",
    "        clipping_samples,\n",
    "        dampening_samples,\n",
    "    ])"
   ]
  },
  {
   "cell_type": "code",
   "execution_count": 61,
   "id": "a27c32bb",
   "metadata": {},
   "outputs": [],
   "source": [
    "jobs = execute_and_save(\n",
    "    get_config('configs/multi_fashion/cosmos.yaml'), \n",
    "    hp_samples=[\n",
    "        lr_samples, \n",
    "        weight_decay_samples, \n",
    "        scheduler_samples,\n",
    "        mildening_samples,\n",
    "        clipping_samples,\n",
    "        dampening_samples,\n",
    "    ])"
   ]
  },
  {
   "cell_type": "code",
   "execution_count": 64,
   "id": "a7ce282e",
   "metadata": {},
   "outputs": [],
   "source": [
    "jobs = execute_and_save(\n",
    "    get_config('configs/multi_fashion_mnist/cosmos.yaml'), \n",
    "    hp_samples=[\n",
    "        lr_samples, \n",
    "        weight_decay_samples, \n",
    "        scheduler_samples,\n",
    "        mildening_samples,\n",
    "        clipping_samples,\n",
    "        dampening_samples,\n",
    "    ])"
   ]
  },
  {
   "cell_type": "markdown",
   "id": "e1c06581",
   "metadata": {},
   "source": [
    "## mgda"
   ]
  },
  {
   "cell_type": "code",
   "execution_count": 78,
   "id": "580624ae",
   "metadata": {},
   "outputs": [],
   "source": [
    "jobs = execute_and_save(\n",
    "    get_config('configs/multi_mnist/mgda.yaml'), \n",
    "    hp_samples=[\n",
    "        lr_samples, \n",
    "        weight_decay_samples, \n",
    "        scheduler_samples,\n",
    "        norm_samples,\n",
    "    ])"
   ]
  },
  {
   "cell_type": "code",
   "execution_count": 79,
   "id": "69c4ff94",
   "metadata": {},
   "outputs": [],
   "source": [
    "jobs = execute_and_save(\n",
    "    get_config('configs/multi_fashion/mgda.yaml'), \n",
    "    hp_samples=[\n",
    "        lr_samples, \n",
    "        weight_decay_samples, \n",
    "        scheduler_samples,\n",
    "        norm_samples,\n",
    "    ])"
   ]
  },
  {
   "cell_type": "code",
   "execution_count": 80,
   "id": "5ba62b21",
   "metadata": {},
   "outputs": [],
   "source": [
    "jobs = execute_and_save(\n",
    "    get_config('configs/multi_fashion_mnist/mgda.yaml'), \n",
    "    hp_samples=[\n",
    "        lr_samples, \n",
    "        weight_decay_samples, \n",
    "        scheduler_samples,\n",
    "        norm_samples,\n",
    "    ])"
   ]
  },
  {
   "cell_type": "markdown",
   "id": "4ac82fcd",
   "metadata": {},
   "source": [
    "## phn"
   ]
  },
  {
   "cell_type": "code",
   "execution_count": 75,
   "id": "d55ada4a",
   "metadata": {},
   "outputs": [],
   "source": [
    "jobs = execute_and_save(\n",
    "    get_config('configs/multi_mnist/phn.yaml'), \n",
    "    hp_samples=[\n",
    "        lr_samples, \n",
    "        weight_decay_samples, \n",
    "        scheduler_samples,\n",
    "        alpha_samples,\n",
    "        solver_samples,\n",
    "    ])"
   ]
  },
  {
   "cell_type": "code",
   "execution_count": 76,
   "id": "a9ee57e4",
   "metadata": {},
   "outputs": [],
   "source": [
    "jobs = execute_and_save(\n",
    "    get_config('configs/multi_fashion/phn.yaml'), \n",
    "    hp_samples=[\n",
    "        lr_samples, \n",
    "        weight_decay_samples, \n",
    "        scheduler_samples,\n",
    "        alpha_samples,\n",
    "        solver_samples,\n",
    "    ])"
   ]
  },
  {
   "cell_type": "code",
   "execution_count": 77,
   "id": "be8f457a",
   "metadata": {},
   "outputs": [],
   "source": [
    "jobs = execute_and_save(\n",
    "    get_config('configs/multi_fashion_mnist/phn.yaml'), \n",
    "    hp_samples=[\n",
    "        lr_samples, \n",
    "        weight_decay_samples, \n",
    "        scheduler_samples,\n",
    "        alpha_samples,\n",
    "        solver_samples,\n",
    "    ])"
   ]
  },
  {
   "cell_type": "markdown",
   "id": "6b12f1a3",
   "metadata": {},
   "source": [
    "## pmtl"
   ]
  },
  {
   "cell_type": "code",
   "execution_count": 144,
   "id": "9ea34eba",
   "metadata": {},
   "outputs": [],
   "source": [
    "jobs = execute_and_save(\n",
    "    get_config('configs/multi_mnist/pmtl.yaml'), \n",
    "    hp_samples=[\n",
    "        lr_samples, \n",
    "        weight_decay_samples, \n",
    "        scheduler_samples,\n",
    "        mildening_samples,\n",
    "    ])"
   ]
  },
  {
   "cell_type": "code",
   "execution_count": null,
   "id": "72841371",
   "metadata": {},
   "outputs": [],
   "source": [
    "jobs = execute_and_save(\n",
    "    get_config('configs/multi_fashion/pmtl.yaml'), \n",
    "    hp_samples=[\n",
    "        lr_samples, \n",
    "        weight_decay_samples, \n",
    "        scheduler_samples,\n",
    "        mildening_samples,\n",
    "    ])"
   ]
  },
  {
   "cell_type": "code",
   "execution_count": null,
   "id": "fd7ea2b7",
   "metadata": {},
   "outputs": [],
   "source": [
    "jobs = execute_and_save(\n",
    "    get_config('configs/multi_fashion_mnist/pmtl.yaml'), \n",
    "    hp_samples=[\n",
    "        lr_samples, \n",
    "        weight_decay_samples, \n",
    "        scheduler_samples,\n",
    "        mildening_samples,\n",
    "    ])"
   ]
  },
  {
   "cell_type": "markdown",
   "id": "5ccc59c0",
   "metadata": {},
   "source": [
    "## Single task"
   ]
  },
  {
   "cell_type": "code",
   "execution_count": 31,
   "id": "d66a4b6a",
   "metadata": {},
   "outputs": [],
   "source": [
    "jobs = execute_and_save(\n",
    "    get_config('configs/multi_mnist/single_task_1.yaml'), \n",
    "    hp_samples=[\n",
    "        lr_samples, \n",
    "        weight_decay_samples, \n",
    "        scheduler_samples,\n",
    "    ])"
   ]
  },
  {
   "cell_type": "code",
   "execution_count": 33,
   "id": "280a633e",
   "metadata": {},
   "outputs": [],
   "source": [
    "jobs = execute_and_save(\n",
    "    get_config('configs/multi_mnist/single_task_2.yaml'), \n",
    "    hp_samples=[\n",
    "        lr_samples, \n",
    "        weight_decay_samples, \n",
    "        scheduler_samples,\n",
    "    ])"
   ]
  },
  {
   "cell_type": "code",
   "execution_count": 65,
   "id": "1a4bc739",
   "metadata": {},
   "outputs": [],
   "source": [
    "jobs = execute_and_save(\n",
    "    get_config('configs/multi_fashion/single_task.yaml'), \n",
    "    hp_samples=[\n",
    "        lr_samples, \n",
    "        weight_decay_samples, \n",
    "        scheduler_samples,\n",
    "    ])"
   ]
  },
  {
   "cell_type": "code",
   "execution_count": 70,
   "id": "6a0e0285",
   "metadata": {},
   "outputs": [],
   "source": [
    "jobs = execute_and_save(\n",
    "    get_config('configs/multi_fashion_mnist/single_task.yaml'), \n",
    "    hp_samples=[\n",
    "        lr_samples, \n",
    "        weight_decay_samples, \n",
    "        scheduler_samples,\n",
    "    ])"
   ]
  },
  {
   "cell_type": "markdown",
   "id": "257d8a08",
   "metadata": {},
   "source": [
    "## Uniform"
   ]
  },
  {
   "cell_type": "code",
   "execution_count": 67,
   "id": "32028a6d",
   "metadata": {},
   "outputs": [],
   "source": [
    "jobs = execute_and_save(\n",
    "    get_config('configs/multi_mnist/uniform.yaml'), \n",
    "    hp_samples=[\n",
    "        lr_samples, \n",
    "        weight_decay_samples, \n",
    "        scheduler_samples,\n",
    "    ])"
   ]
  },
  {
   "cell_type": "code",
   "execution_count": 68,
   "id": "66011967",
   "metadata": {},
   "outputs": [],
   "source": [
    "jobs = execute_and_save(\n",
    "    get_config('configs/multi_fashion/uniform.yaml'), \n",
    "    hp_samples=[\n",
    "        lr_samples, \n",
    "        weight_decay_samples, \n",
    "        scheduler_samples,\n",
    "    ])"
   ]
  },
  {
   "cell_type": "code",
   "execution_count": 69,
   "id": "183aa041",
   "metadata": {},
   "outputs": [],
   "source": [
    "jobs = execute_and_save(\n",
    "    get_config('configs/multi_fashion_mnist/uniform.yaml'), \n",
    "    hp_samples=[\n",
    "        lr_samples, \n",
    "        weight_decay_samples, \n",
    "        scheduler_samples,\n",
    "    ])"
   ]
  },
  {
   "cell_type": "code",
   "execution_count": null,
   "id": "3c627211",
   "metadata": {},
   "outputs": [],
   "source": []
  },
  {
   "cell_type": "markdown",
   "id": "61416279",
   "metadata": {},
   "source": [
    "#### Adult"
   ]
  },
  {
   "cell_type": "code",
   "execution_count": 191,
   "id": "277d3dbf",
   "metadata": {},
   "outputs": [],
   "source": [
    "method = 'cosmos'\n",
    "dataset = 'adult'\n",
    "jobs = execute('cosmos', 'adult', force=True)"
   ]
  },
  {
   "cell_type": "code",
   "execution_count": 193,
   "id": "98519aa0",
   "metadata": {},
   "outputs": [
    {
     "name": "stdout",
     "output_type": "stream",
     "text": [
      "1.0 []\n"
     ]
    }
   ],
   "source": [
    "print(percent_finished(jobs), jobs_failed(jobs))"
   ]
  },
  {
   "cell_type": "code",
   "execution_count": 27,
   "id": "3a15527d",
   "metadata": {},
   "outputs": [],
   "source": [
    "if not results_exist(method, dataset):\n",
    "    save_jobs(method, dataset, jobs)"
   ]
  },
  {
   "cell_type": "markdown",
   "id": "8e3a7ce5",
   "metadata": {},
   "source": [
    "#### Compass"
   ]
  },
  {
   "cell_type": "code",
   "execution_count": 33,
   "id": "6a873535",
   "metadata": {},
   "outputs": [],
   "source": [
    "jobs = execute('cosmos', 'compass')"
   ]
  },
  {
   "cell_type": "code",
   "execution_count": 36,
   "id": "dec519be",
   "metadata": {},
   "outputs": [
    {
     "name": "stdout",
     "output_type": "stream",
     "text": [
      "1.0\n"
     ]
    },
    {
     "data": {
      "text/plain": [
       "[]"
      ]
     },
     "execution_count": 36,
     "metadata": {},
     "output_type": "execute_result"
    }
   ],
   "source": [
    "print(percent_finished(jobs), jobs_failed(jobs))"
   ]
  },
  {
   "cell_type": "code",
   "execution_count": 37,
   "id": "eea81fe9",
   "metadata": {},
   "outputs": [],
   "source": [
    "save_jobs(method, dataset, jobs)"
   ]
  },
  {
   "cell_type": "markdown",
   "id": "df0b1ae0",
   "metadata": {},
   "source": [
    "#### Credit"
   ]
  },
  {
   "cell_type": "code",
   "execution_count": 64,
   "id": "fbe930cc",
   "metadata": {},
   "outputs": [],
   "source": [
    "jobs = execute('cosmos', 'credit')"
   ]
  },
  {
   "cell_type": "code",
   "execution_count": 66,
   "id": "e8de8415",
   "metadata": {},
   "outputs": [
    {
     "name": "stdout",
     "output_type": "stream",
     "text": [
      "1.0\n"
     ]
    },
    {
     "data": {
      "text/plain": [
       "[]"
      ]
     },
     "execution_count": 66,
     "metadata": {},
     "output_type": "execute_result"
    }
   ],
   "source": [
    "print(percent_finished(jobs))\n",
    "jobs_failed(jobs)"
   ]
  },
  {
   "cell_type": "code",
   "execution_count": 67,
   "id": "66402140",
   "metadata": {},
   "outputs": [],
   "source": [
    "save_jobs(method, dataset, jobs)"
   ]
  },
  {
   "cell_type": "markdown",
   "id": "4a88b0f6",
   "metadata": {},
   "source": [
    "#### Multi MNIST"
   ]
  },
  {
   "cell_type": "code",
   "execution_count": 149,
   "id": "4974628c",
   "metadata": {},
   "outputs": [
    {
     "name": "stdout",
     "output_type": "stream",
     "text": [
      "skipping. Use force=True to enforce execution\n"
     ]
    }
   ],
   "source": [
    "method = 'cosmos'\n",
    "dataset = 'mm'\n",
    "jobs = execute(method, dataset)"
   ]
  },
  {
   "cell_type": "code",
   "execution_count": 133,
   "id": "d1154442",
   "metadata": {},
   "outputs": [
    {
     "name": "stdout",
     "output_type": "stream",
     "text": [
      "None\n"
     ]
    },
    {
     "data": {
      "text/plain": [
       "[]"
      ]
     },
     "execution_count": 133,
     "metadata": {},
     "output_type": "execute_result"
    }
   ],
   "source": [
    "print(percent_finished(jobs), jobs_failed(jobs))"
   ]
  },
  {
   "cell_type": "code",
   "execution_count": 134,
   "id": "cc845eb5",
   "metadata": {},
   "outputs": [],
   "source": [
    "save_jobs(method, dataset, jobs)"
   ]
  },
  {
   "cell_type": "markdown",
   "id": "5b832bac",
   "metadata": {},
   "source": [
    "#### Multi Fashion"
   ]
  },
  {
   "cell_type": "code",
   "execution_count": 136,
   "id": "895440a7",
   "metadata": {},
   "outputs": [],
   "source": [
    "method = 'cosmos'\n",
    "dataset = 'mf'\n",
    "jobs = execute(method, dataset)"
   ]
  },
  {
   "cell_type": "code",
   "execution_count": 142,
   "id": "38878f22",
   "metadata": {},
   "outputs": [
    {
     "name": "stdout",
     "output_type": "stream",
     "text": [
      "1.0 []\n"
     ]
    }
   ],
   "source": [
    "print(percent_finished(jobs), jobs_failed(jobs))"
   ]
  },
  {
   "cell_type": "code",
   "execution_count": 143,
   "id": "3e7a2b51",
   "metadata": {},
   "outputs": [],
   "source": [
    "save_jobs(method, dataset, jobs)"
   ]
  },
  {
   "cell_type": "markdown",
   "id": "eede63fc",
   "metadata": {},
   "source": [
    "#### Multi Fastion+Mnist"
   ]
  },
  {
   "cell_type": "code",
   "execution_count": 151,
   "id": "86ab2fa4",
   "metadata": {},
   "outputs": [],
   "source": [
    "method = 'cosmos'\n",
    "dataset = 'mfm'\n",
    "jobs = execute(method, dataset)"
   ]
  },
  {
   "cell_type": "code",
   "execution_count": 153,
   "id": "0ea0c2a8",
   "metadata": {},
   "outputs": [
    {
     "name": "stdout",
     "output_type": "stream",
     "text": [
      "1.0 []\n"
     ]
    }
   ],
   "source": [
    "print(percent_finished(jobs), jobs_failed(jobs))"
   ]
  },
  {
   "cell_type": "code",
   "execution_count": 154,
   "id": "e169c31c",
   "metadata": {},
   "outputs": [],
   "source": [
    "save_jobs(method, dataset, jobs)"
   ]
  },
  {
   "cell_type": "code",
   "execution_count": null,
   "id": "bfdfc64d",
   "metadata": {},
   "outputs": [],
   "source": []
  },
  {
   "cell_type": "code",
   "execution_count": null,
   "id": "4f4c9c64",
   "metadata": {},
   "outputs": [],
   "source": []
  },
  {
   "cell_type": "code",
   "execution_count": null,
   "id": "667da4d7",
   "metadata": {},
   "outputs": [],
   "source": []
  },
  {
   "cell_type": "code",
   "execution_count": null,
   "id": "3f86799f",
   "metadata": {},
   "outputs": [],
   "source": []
  },
  {
   "cell_type": "code",
   "execution_count": 194,
   "id": "2ff03c1e",
   "metadata": {},
   "outputs": [
    {
     "name": "stdout",
     "output_type": "stream",
     "text": [
      "3.325317963661113 0.6643087703627651 5881654_0\n",
      "3.32860757027072 0.6664323006000586 5881654_16\n",
      "3.3319845076147216 0.6774339598285042 5881654_33\n",
      "3.3371375879367178 0.6668008493196068 5881654_48\n",
      "3.3388226971885597 0.6733755906510289 5881654_84\n",
      "Best job: 5881654_84\n"
     ]
    }
   ],
   "source": [
    "# jobs = load_jobs(method, dataset)\n",
    "cfg = get_optimal_cfg(jobs, max_dist[dataset])"
   ]
  },
  {
   "cell_type": "code",
   "execution_count": null,
   "id": "b6b6a12d",
   "metadata": {},
   "outputs": [],
   "source": []
  },
  {
   "cell_type": "code",
   "execution_count": 171,
   "id": "88ecdcfd",
   "metadata": {},
   "outputs": [],
   "source": [
    "method = 'cosmos'\n",
    "dataset = 'adult'"
   ]
  },
  {
   "cell_type": "code",
   "execution_count": null,
   "id": "38603a4b",
   "metadata": {},
   "outputs": [],
   "source": []
  },
  {
   "cell_type": "code",
   "execution_count": 195,
   "id": "0b2ed8e3",
   "metadata": {},
   "outputs": [
    {
     "data": {
      "text/plain": [
       "CfgNode({'dataset': 'adult', 'dim': (88,), 'objectives': ['BinaryCrossEntropyLoss', 'ddp'], 'task_ids': [], 'ignore_index': -100, 'epochs': 20, 'num_workers': 4, 'checkpoint_every': 0, 'lr_scheduler': 'none', 'lr': 0.001, 'batch_size': 256, 'pmtl': CfgNode({'num_starts': 5, 'lr_scheduler': 'none', 'lr': 0.001}), 'mgda': CfgNode({'approximate_norm_solution': False, 'normalization_type': 'loss', 'lr_scheduler': 'none', 'lr': 0.001}), 'phn': CfgNode({'alpha': 0.2, 'internal_solver': 'linear', 'lr_scheduler': 'none', 'lr': 0.001}), 'single_task': CfgNode({'task_id': None, 'lr_scheduler': 'none', 'lr': 0.001}), 'cosmos': CfgNode({'alpha': [1.0887843512723165, 0.3092787487483168], 'lamda': 0.0, 'normalize': False, 'instances': False, 'lr_scheduler': 'none', 'lr': 0.00034662172842139723}), 'seed': 1, 'logdir': 'results', 'n_partitions': 24, 'eval_every': 20, 'train_eval_every': 0, 'reference_point': [2, 2], 'device': 'cuda', 'metrics': None})"
      ]
     },
     "execution_count": 195,
     "metadata": {},
     "output_type": "execute_result"
    }
   ],
   "source": [
    "cfg"
   ]
  },
  {
   "cell_type": "code",
   "execution_count": null,
   "id": "f367fc0a",
   "metadata": {},
   "outputs": [],
   "source": []
  },
  {
   "cell_type": "code",
   "execution_count": null,
   "id": "c5d8e52b",
   "metadata": {},
   "outputs": [],
   "source": []
  },
  {
   "cell_type": "code",
   "execution_count": null,
   "id": "516e62db",
   "metadata": {},
   "outputs": [],
   "source": []
  },
  {
   "cell_type": "code",
   "execution_count": null,
   "id": "618c8801",
   "metadata": {},
   "outputs": [],
   "source": []
  },
  {
   "cell_type": "code",
   "execution_count": null,
   "id": "0c5b62a7",
   "metadata": {},
   "outputs": [],
   "source": []
  },
  {
   "cell_type": "code",
   "execution_count": 104,
   "id": "6971b79d",
   "metadata": {},
   "outputs": [
    {
     "data": {
      "text/plain": [
       "CfgNode({'dataset': 'adult', 'dim': (88,), 'objectives': ['BinaryCrossEntropyLoss', 'ddp'], 'task_ids': [], 'ignore_index': -100, 'epochs': 20, 'num_workers': 4, 'checkpoint_every': 0, 'lr_scheduler': 'none', 'lr': 0.001, 'batch_size': 256, 'pmtl': CfgNode({'num_starts': 5, 'lr_scheduler': 'none', 'lr': 0.001}), 'mgda': CfgNode({'approximate_norm_solution': False, 'normalization_type': 'loss', 'lr_scheduler': 'none', 'lr': 0.001}), 'phn': CfgNode({'alpha': 0.2, 'internal_solver': 'linear', 'lr_scheduler': 'none', 'lr': 0.001}), 'single_task': CfgNode({'task_id': None, 'lr_scheduler': 'none', 'lr': 0.001}), 'cosmos': CfgNode({'alpha': [1.7328161368791897, 0.853738192417888], 'lamda': 0.0, 'normalize': False, 'instances': False, 'lr_scheduler': 'none', 'lr': 0.0011650124592172252}), 'seed': 1, 'logdir': 'results', 'n_partitions': 24, 'eval_every': 20, 'train_eval_every': 0, 'reference_point': [2, 2], 'device': 'cuda', 'metrics': None})"
      ]
     },
     "execution_count": 104,
     "metadata": {},
     "output_type": "execute_result"
    }
   ],
   "source": [
    "jobs[33].submission().kwargs['cfg']"
   ]
  },
  {
   "cell_type": "code",
   "execution_count": null,
   "id": "60a11b89",
   "metadata": {},
   "outputs": [],
   "source": []
  },
  {
   "cell_type": "code",
   "execution_count": null,
   "id": "e9de0270",
   "metadata": {},
   "outputs": [],
   "source": []
  },
  {
   "cell_type": "code",
   "execution_count": 32,
   "id": "6fd67b42",
   "metadata": {},
   "outputs": [
    {
     "data": {
      "text/plain": [
       "(3.02712881565094, 0)"
      ]
     },
     "execution_count": 32,
     "metadata": {},
     "output_type": "execute_result"
    }
   ],
   "source": [
    "jobs_l[0].result()"
   ]
  },
  {
   "cell_type": "code",
   "execution_count": 13,
   "id": "afa6786b",
   "metadata": {},
   "outputs": [],
   "source": [
    "def add(a, b):\n",
    "    return a + b"
   ]
  },
  {
   "cell_type": "code",
   "execution_count": 14,
   "id": "f30f39e9",
   "metadata": {},
   "outputs": [],
   "source": [
    "job = executor.submit(add, 5, 7)  # will compute add(5, 7)"
   ]
  },
  {
   "cell_type": "code",
   "execution_count": 15,
   "id": "80f55b55",
   "metadata": {},
   "outputs": [
    {
     "name": "stdout",
     "output_type": "stream",
     "text": [
      "5359691\n"
     ]
    }
   ],
   "source": [
    "print(job.job_id)  # ID of your job"
   ]
  },
  {
   "cell_type": "code",
   "execution_count": 16,
   "id": "aa59ddc9",
   "metadata": {},
   "outputs": [],
   "source": [
    "job.result()"
   ]
  },
  {
   "cell_type": "code",
   "execution_count": 17,
   "id": "4cbe25a9",
   "metadata": {},
   "outputs": [
    {
     "data": {
      "text/plain": [
       "12"
      ]
     },
     "execution_count": 17,
     "metadata": {},
     "output_type": "execute_result"
    }
   ],
   "source": [
    "job.submission().args"
   ]
  },
  {
   "cell_type": "code",
   "execution_count": null,
   "id": "d01c7b64",
   "metadata": {},
   "outputs": [],
   "source": []
  }
 ],
 "metadata": {
  "kernelspec": {
   "display_name": "Python 3",
   "language": "python",
   "name": "python3"
  },
  "language_info": {
   "codemirror_mode": {
    "name": "ipython",
    "version": 3
   },
   "file_extension": ".py",
   "mimetype": "text/x-python",
   "name": "python",
   "nbconvert_exporter": "python",
   "pygments_lexer": "ipython3",
   "version": "3.8.5"
  }
 },
 "nbformat": 4,
 "nbformat_minor": 5
}
