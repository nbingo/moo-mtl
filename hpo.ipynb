{
 "cells": [
  {
   "cell_type": "code",
   "execution_count": 31,
   "id": "6395b840",
   "metadata": {},
   "outputs": [],
   "source": [
    "import submitit\n",
    "\n",
    "import torch\n",
    "import random\n",
    "import numpy as np\n",
    "\n",
    "import pickle\n",
    "import itertools\n",
    "import argparse\n",
    "import logging\n",
    "import os\n",
    "import pathlib\n",
    "import time\n",
    "import json\n",
    "import math\n",
    "import matplotlib.pyplot as plt\n",
    "from torch.utils import data\n",
    "from fvcore.common.config import CfgNode\n",
    "from submitit.core.utils import FailedJobError, UncompletedJobError\n",
    "from itertools import cycle\n",
    "from time import sleep\n",
    "\n",
    "random.seed(1)"
   ]
  },
  {
   "cell_type": "code",
   "execution_count": 32,
   "id": "e3e7f060",
   "metadata": {},
   "outputs": [],
   "source": [
    "from multi_objective.main import main, get_config"
   ]
  },
  {
   "cell_type": "code",
   "execution_count": 33,
   "id": "d27d2cc2",
   "metadata": {},
   "outputs": [],
   "source": [
    "executor = submitit.AutoExecutor(folder=\"tmp/submitit_hpo\")"
   ]
  },
  {
   "cell_type": "markdown",
   "id": "fe760f76",
   "metadata": {},
   "source": [
    "# Prepare the globals"
   ]
  },
  {
   "cell_type": "code",
   "execution_count": 34,
   "id": "e85e5b25",
   "metadata": {},
   "outputs": [],
   "source": [
    "num_evaluations = 100"
   ]
  },
  {
   "cell_type": "code",
   "execution_count": 35,
   "id": "8beab615",
   "metadata": {},
   "outputs": [],
   "source": [
    "lr           = {'lr': [0.01, 0.0075, 0.005, 0.0025, 0.001, 0.00075, 0.0005, 0.00025, 0.0001]}\n",
    "weight_decay = {'weight_decay': [0.1, 0.25, 0.05, 0.075, 0.01, 0.0075, 0.005, 0.0025, 0.001, 0.00075, 0.0005, 0.00025, 0.0001]}\n",
    "scheduler    = {'lr_scheduler': ['none', 'MultiStep', 'CosineAnnealing']}\n",
    "\n",
    "# phn\n",
    "solver = {'internal_solver_phn': ['linear', 'epo']}\n",
    "alpha  = {'alpha': [0.1, 0.2, 0.5, 1., 1.2, 1.5]} \n",
    "\n",
    "# mgda\n",
    "norm = {'normalization_type': ['none', 'loss', 'loss+', 'l2']}\n",
    "\n",
    "# cosmos\n",
    "lamda = {'lamda': [1., 2., 4., 8., 16.]}"
   ]
  },
  {
   "cell_type": "code",
   "execution_count": 36,
   "id": "ffb56d03",
   "metadata": {},
   "outputs": [],
   "source": [
    "def percent_finished(jobs):\n",
    "    if len(jobs):\n",
    "        return sum(job.done() for job in jobs) / len(jobs)\n",
    "\n",
    "\n",
    "def save_jobs(method, dataset, jobs, tag='hpo', force=False):\n",
    "    if not results_exist(method, dataset, tag) or force:\n",
    "        with open(f'pickles/{method}_{dataset}_{tag}.pickle', 'wb') as f:\n",
    "            pickle.dump(jobs, f)\n",
    "    else:\n",
    "        print('skipping')\n",
    "\n",
    "        \n",
    "def load_jobs(method, dataset, tag='hpo'):\n",
    "    with open(f'pickles/{method}_{dataset}_{tag}.pickle', 'rb') as f:\n",
    "        return pickle.load(f)\n",
    "\n",
    "\n",
    "def jobs_failed(jobs):\n",
    "    idxs = []\n",
    "    for i, job in enumerate(jobs):\n",
    "        if job.state == 'FAILED':\n",
    "            idxs.append(i)\n",
    "    return idxs\n",
    "\n",
    "\n",
    "def results_exist(method, dataset, tag='hpo'):\n",
    "    return os.path.exists(f'pickles/{method}_{dataset}_{tag}.pickle')\n",
    "\n",
    "\n",
    "def get_optimal_cfg(jobs, max_dist=None):\n",
    "    idx_best = None\n",
    "    hv_best = 0\n",
    "    \n",
    "    for i, job in enumerate(jobs):\n",
    "        if job.state == 'FAILED' or job.state == 'TIMEOUT':\n",
    "            continue\n",
    "\n",
    "        hv, dist = job.result()\n",
    "        \n",
    "        if max_dist is not None and dist > max_dist:\n",
    "            continue\n",
    "        \n",
    "        if hv > hv_best:\n",
    "            print(hv, dist, job.job_id)\n",
    "            hv_best = hv\n",
    "            idx_best = i\n",
    "    assert idx_best is not None, \"No optimal cfg found\"\n",
    "    print(f'Best job: {jobs[idx_best].job_id}')\n",
    "    cfg = jobs[idx_best].submission().args[2]\n",
    "    return {\n",
    "        'scheduler': cfg.lr_scheduler,\n",
    "        'lr': cfg.lr,\n",
    "        'weight_decay': cfg.weight_decay,\n",
    "        'solver': cfg.internal_solver_phn,\n",
    "        'norm': cfg.normalization_type,\n",
    "        'alpha': cfg.alpha,\n",
    "        'lamda': cfg.lamda if 'lamda' in cfg else None,\n",
    "        'channel_multiplier': cfg.channel_multiplier,\n",
    "    }"
   ]
  },
  {
   "cell_type": "code",
   "execution_count": 37,
   "id": "5b7b107f",
   "metadata": {},
   "outputs": [],
   "source": [
    "def execute(config, hp_spaces, force=False, tag='hpo'):\n",
    "    if not force and results_exist(config.method, config.dataset, tag):\n",
    "        print('skipping. Use force=True to enforce execution')\n",
    "        return []\n",
    "    \n",
    "    cfg = config.clone()\n",
    "    cfg.eval_every = 100\n",
    "    \n",
    "    cartesian_product = list(itertools.product(*(list(hp.values())[0] for hp in hp_spaces)))\n",
    "    \n",
    "    configurations = []\n",
    "    for c in cartesian_product:\n",
    "        hp_with_names = [(list(name.keys())[0], value) for name, value in zip(hp_spaces, c)]\n",
    "        flattened = [item for sublist in hp_with_names for item in sublist]\n",
    "        configurations.append(flattened)\n",
    "    \n",
    "    configurations = random.sample(configurations, num_evaluations)\n",
    "    \n",
    "    cfgs = []\n",
    "    for args in configurations:\n",
    "        cfg = cfg.clone()\n",
    "        cfg.merge_from_list(args)\n",
    "        cfgs.append(cfg)\n",
    "    \n",
    "    tags = [f\"{tag}_{i :03d}\" for i in range(len(cfgs))]\n",
    "    \n",
    "    # func, rank, world_size, cfg, tag\n",
    "    return executor.map_array(main, cycle([0]), cycle([1]), cfgs, tags)"
   ]
  },
  {
   "cell_type": "code",
   "execution_count": 38,
   "id": "769da299",
   "metadata": {},
   "outputs": [],
   "source": [
    "def execute_and_save(config, hp_spaces, force=False, tag='hpo'):\n",
    "    jobs = execute(config, hp_spaces, force, tag)\n",
    "    done = len(jobs) == 0\n",
    "    while not done:\n",
    "        done = percent_finished(jobs) == 1\n",
    "        sleep(10)\n",
    "    \n",
    "    method_name = config.method + \"_\" + config.task_id if config.method == 'single_task' else config.method\n",
    "    \n",
    "    save_jobs(method_name, config.dataset, jobs, force=force, tag=tag)\n",
    "    return jobs"
   ]
  },
  {
   "cell_type": "code",
   "execution_count": 39,
   "id": "f63f412e",
   "metadata": {},
   "outputs": [],
   "source": [
    "executor.update_parameters(timeout_min=35, slurm_partition=\"alldlc_gpu-rtx2080\", name='hpo', gpus_per_node=1)\n",
    "executor.update_parameters(slurm_array_parallelism=100)"
   ]
  },
  {
   "cell_type": "code",
   "execution_count": 10,
   "id": "0181ebb2",
   "metadata": {},
   "outputs": [],
   "source": [
    "# executor.update_parameters(slurm_exclude='dlcgpu09')"
   ]
  },
  {
   "cell_type": "markdown",
   "id": "dd3e22e1",
   "metadata": {},
   "source": [
    "## Analyze"
   ]
  },
  {
   "cell_type": "code",
   "execution_count": null,
   "id": "20996fb4",
   "metadata": {},
   "outputs": [],
   "source": []
  },
  {
   "cell_type": "code",
   "execution_count": 29,
   "id": "20775361",
   "metadata": {},
   "outputs": [
    {
     "name": "stdout",
     "output_type": "stream",
     "text": [
      "0.3452180310415267 99 7244714_0\n",
      "0.48006205162478555 99 7244714_1\n",
      "0.4875842712136915 99 7244714_3\n",
      "0.5395834475087122 99 7244714_6\n",
      "0.5446465594140557 99 7244714_7\n",
      "0.5749713747625675 99 7244714_12\n",
      "0.5839264198008023 99 7244714_26\n",
      "Best job: 7244714_26\n"
     ]
    },
    {
     "data": {
      "text/plain": [
       "{'scheduler': 'MultiStep',\n",
       " 'lr': 0.00025,\n",
       " 'weight_decay': 0.01,\n",
       " 'solver': 'linear',\n",
       " 'norm': 'none',\n",
       " 'alpha': 0.2,\n",
       " 'lamda': 0.0,\n",
       " 'channel_multiplier': 10.0}"
      ]
     },
     "execution_count": 29,
     "metadata": {},
     "output_type": "execute_result"
    }
   ],
   "source": [
    "jobs = load_jobs('single_task_r', 'multi_mnist', 'hpo_size_10')\n",
    "get_optimal_cfg(jobs)"
   ]
  },
  {
   "cell_type": "code",
   "execution_count": null,
   "id": "036b8631",
   "metadata": {},
   "outputs": [],
   "source": []
  },
  {
   "cell_type": "code",
   "execution_count": null,
   "id": "83602e05",
   "metadata": {},
   "outputs": [],
   "source": []
  },
  {
   "cell_type": "markdown",
   "id": "e062bc37",
   "metadata": {},
   "source": [
    "#### COSMOS original"
   ]
  },
  {
   "cell_type": "code",
   "execution_count": 11,
   "id": "2168e2ca",
   "metadata": {},
   "outputs": [],
   "source": [
    "jobs = execute_and_save(\n",
    "    get_config('configs/multi_mnist/cosmos_orig.yaml'), \n",
    "    hp_spaces=[\n",
    "        lr, \n",
    "        weight_decay, \n",
    "        scheduler,\n",
    "    ])"
   ]
  },
  {
   "cell_type": "code",
   "execution_count": 18,
   "id": "a27c32bb",
   "metadata": {},
   "outputs": [],
   "source": [
    "jobs = execute_and_save(\n",
    "    get_config('configs/multi_fashion/cosmos_orig.yaml'), \n",
    "    hp_spaces=[\n",
    "        lr, \n",
    "        weight_decay, \n",
    "        scheduler,\n",
    "    ])"
   ]
  },
  {
   "cell_type": "code",
   "execution_count": 19,
   "id": "a7ce282e",
   "metadata": {},
   "outputs": [],
   "source": [
    "jobs = execute_and_save(\n",
    "    get_config('configs/multi_fashion_mnist/cosmos_orig.yaml'), \n",
    "    hp_spaces=[\n",
    "        lr, \n",
    "        weight_decay, \n",
    "        scheduler,\n",
    "    ])"
   ]
  },
  {
   "cell_type": "markdown",
   "id": "936b6d4d",
   "metadata": {},
   "source": [
    "#### COSMOS"
   ]
  },
  {
   "cell_type": "code",
   "execution_count": 17,
   "id": "d692d12b",
   "metadata": {},
   "outputs": [],
   "source": [
    "jobs = execute_and_save(\n",
    "    get_config('configs/multi_mnist/cosmos.yaml'), \n",
    "    hp_spaces=[\n",
    "        lr, \n",
    "        weight_decay, \n",
    "        scheduler,\n",
    "        alpha,\n",
    "        lamda,\n",
    "    ])"
   ]
  },
  {
   "cell_type": "code",
   "execution_count": 20,
   "id": "852f89e4",
   "metadata": {},
   "outputs": [],
   "source": [
    "jobs = execute_and_save(\n",
    "    get_config('configs/multi_fashion/cosmos.yaml'), \n",
    "    hp_spaces=[\n",
    "        lr, \n",
    "        weight_decay, \n",
    "        scheduler,\n",
    "        alpha,\n",
    "        lamda,\n",
    "    ])"
   ]
  },
  {
   "cell_type": "code",
   "execution_count": 21,
   "id": "bf6a1928",
   "metadata": {},
   "outputs": [],
   "source": [
    "jobs = execute_and_save(\n",
    "    get_config('configs/multi_fashion_mnist/cosmos.yaml'), \n",
    "    hp_spaces=[\n",
    "        lr, \n",
    "        weight_decay, \n",
    "        scheduler,\n",
    "        alpha,\n",
    "        lamda,\n",
    "    ])"
   ]
  },
  {
   "cell_type": "markdown",
   "id": "e1c06581",
   "metadata": {},
   "source": [
    "#### mgda"
   ]
  },
  {
   "cell_type": "code",
   "execution_count": 10,
   "id": "580624ae",
   "metadata": {},
   "outputs": [],
   "source": [
    "jobs = execute_and_save(\n",
    "    get_config('configs/multi_mnist/mgda.yaml'), \n",
    "    hp_spaces=[\n",
    "        lr, \n",
    "        weight_decay, \n",
    "        scheduler,\n",
    "        norm,\n",
    "    ])"
   ]
  },
  {
   "cell_type": "code",
   "execution_count": 11,
   "id": "69c4ff94",
   "metadata": {},
   "outputs": [],
   "source": [
    "jobs = execute_and_save(\n",
    "    get_config('configs/multi_fashion/mgda.yaml'), \n",
    "    hp_spaces=[\n",
    "        lr, \n",
    "        weight_decay, \n",
    "        scheduler,\n",
    "        norm,\n",
    "    ])"
   ]
  },
  {
   "cell_type": "code",
   "execution_count": 12,
   "id": "5ba62b21",
   "metadata": {},
   "outputs": [],
   "source": [
    "jobs = execute_and_save(\n",
    "    get_config('configs/multi_fashion_mnist/mgda.yaml'), \n",
    "    hp_spaces=[\n",
    "        lr, \n",
    "        weight_decay, \n",
    "        scheduler,\n",
    "        norm,\n",
    "    ])"
   ]
  },
  {
   "cell_type": "markdown",
   "id": "4ac82fcd",
   "metadata": {},
   "source": [
    "#### phn original"
   ]
  },
  {
   "cell_type": "code",
   "execution_count": null,
   "id": "d55ada4a",
   "metadata": {},
   "outputs": [],
   "source": [
    "jobs = execute_and_save(\n",
    "    get_config('configs/multi_mnist/phn_orig.yaml'), \n",
    "    hp_spaces=[\n",
    "        lr, \n",
    "        weight_decay, \n",
    "        scheduler,\n",
    "    ])"
   ]
  },
  {
   "cell_type": "code",
   "execution_count": null,
   "id": "a9ee57e4",
   "metadata": {},
   "outputs": [],
   "source": [
    "jobs = execute_and_save(\n",
    "    get_config('configs/multi_fashion/phn_orig.yaml'), \n",
    "    hp_spaces=[\n",
    "        lr, \n",
    "        weight_decay, \n",
    "        scheduler,\n",
    "    ])"
   ]
  },
  {
   "cell_type": "code",
   "execution_count": null,
   "id": "be8f457a",
   "metadata": {},
   "outputs": [],
   "source": [
    "jobs = execute_and_save(\n",
    "    get_config('configs/multi_fashion_mnist/phn_orig.yaml'), \n",
    "    hp_spaces=[\n",
    "        lr, \n",
    "        weight_decay, \n",
    "        scheduler,\n",
    "    ])"
   ]
  },
  {
   "cell_type": "markdown",
   "id": "151e7b9e",
   "metadata": {},
   "source": [
    "#### phn"
   ]
  },
  {
   "cell_type": "code",
   "execution_count": null,
   "id": "ef8c2421",
   "metadata": {},
   "outputs": [],
   "source": [
    "jobs = execute_and_save(\n",
    "    get_config('configs/multi_mnist/phn.yaml'), \n",
    "    hp_spaces=[\n",
    "        lr, \n",
    "        weight_decay, \n",
    "        scheduler,\n",
    "        solver,\n",
    "        alpha,\n",
    "    ])"
   ]
  },
  {
   "cell_type": "code",
   "execution_count": null,
   "id": "05438241",
   "metadata": {},
   "outputs": [],
   "source": [
    "jobs = execute_and_save(\n",
    "    get_config('configs/multi_fashion/phn.yaml'), \n",
    "    hp_spaces=[\n",
    "        lr, \n",
    "        weight_decay, \n",
    "        scheduler,\n",
    "        solver,\n",
    "        alpha,\n",
    "    ])"
   ]
  },
  {
   "cell_type": "code",
   "execution_count": null,
   "id": "de6b16b6",
   "metadata": {},
   "outputs": [],
   "source": [
    "jobs = execute_and_save(\n",
    "    get_config('configs/multi_fashion_mnist/phn.yaml'), \n",
    "    hp_spaces=[\n",
    "        lr, \n",
    "        weight_decay, \n",
    "        scheduler,\n",
    "        solver,\n",
    "        alpha,\n",
    "    ])"
   ]
  },
  {
   "cell_type": "markdown",
   "id": "6b12f1a3",
   "metadata": {},
   "source": [
    "#### pmtl"
   ]
  },
  {
   "cell_type": "code",
   "execution_count": null,
   "id": "b28eb628",
   "metadata": {},
   "outputs": [],
   "source": [
    "executor.update_parameters(timeout_min=120)"
   ]
  },
  {
   "cell_type": "code",
   "execution_count": null,
   "id": "9ea34eba",
   "metadata": {},
   "outputs": [],
   "source": [
    "jobs = execute_and_save(\n",
    "    get_config('configs/multi_mnist/pmtl.yaml'), \n",
    "    hp_spaces=[\n",
    "        lr, \n",
    "        weight_decay, \n",
    "        scheduler,\n",
    "    ])"
   ]
  },
  {
   "cell_type": "code",
   "execution_count": null,
   "id": "72841371",
   "metadata": {},
   "outputs": [],
   "source": [
    "jobs = execute_and_save(\n",
    "    get_config('configs/multi_fashion/pmtl.yaml'), \n",
    "    hp_spaces=[\n",
    "        lr, \n",
    "        weight_decay, \n",
    "        scheduler,\n",
    "    ])"
   ]
  },
  {
   "cell_type": "code",
   "execution_count": null,
   "id": "fd7ea2b7",
   "metadata": {},
   "outputs": [],
   "source": [
    "jobs = execute_and_save(\n",
    "    get_config('configs/multi_fashion_mnist/pmtl.yaml'), \n",
    "    hp_spaces=[\n",
    "        lr, \n",
    "        weight_decay, \n",
    "        scheduler,\n",
    "    ])"
   ]
  },
  {
   "cell_type": "markdown",
   "id": "5ccc59c0",
   "metadata": {},
   "source": [
    "#### Single task"
   ]
  },
  {
   "cell_type": "code",
   "execution_count": 28,
   "id": "d66a4b6a",
   "metadata": {},
   "outputs": [],
   "source": [
    "jobs = execute_and_save(\n",
    "    get_config('configs/multi_mnist/single_task_1.yaml'), \n",
    "    hp_spaces=[\n",
    "        lr, \n",
    "        weight_decay, \n",
    "        scheduler,\n",
    "    ])"
   ]
  },
  {
   "cell_type": "code",
   "execution_count": 29,
   "id": "d2323188",
   "metadata": {},
   "outputs": [],
   "source": [
    "jobs = execute_and_save(\n",
    "    get_config('configs/multi_mnist/single_task_2.yaml'), \n",
    "    hp_spaces=[\n",
    "        lr, \n",
    "        weight_decay, \n",
    "        scheduler,\n",
    "    ])"
   ]
  },
  {
   "cell_type": "code",
   "execution_count": 30,
   "id": "1a4bc739",
   "metadata": {},
   "outputs": [],
   "source": [
    "jobs = execute_and_save(\n",
    "    get_config('configs/multi_fashion/single_task_1.yaml'), \n",
    "    hp_spaces=[\n",
    "        lr, \n",
    "        weight_decay, \n",
    "        scheduler,\n",
    "    ])"
   ]
  },
  {
   "cell_type": "code",
   "execution_count": 31,
   "id": "1122e322",
   "metadata": {},
   "outputs": [],
   "source": [
    "jobs = execute_and_save(\n",
    "    get_config('configs/multi_fashion/single_task_2.yaml'), \n",
    "    hp_spaces=[\n",
    "        lr, \n",
    "        weight_decay, \n",
    "        scheduler,\n",
    "    ])"
   ]
  },
  {
   "cell_type": "code",
   "execution_count": 32,
   "id": "6a0e0285",
   "metadata": {},
   "outputs": [],
   "source": [
    "jobs = execute_and_save(\n",
    "    get_config('configs/multi_fashion_mnist/single_task_1.yaml'), \n",
    "    hp_spaces=[\n",
    "        lr, \n",
    "        weight_decay, \n",
    "        scheduler,\n",
    "    ])"
   ]
  },
  {
   "cell_type": "code",
   "execution_count": 33,
   "id": "879ae981",
   "metadata": {},
   "outputs": [],
   "source": [
    "jobs = execute_and_save(\n",
    "    get_config('configs/multi_fashion_mnist/single_task_2.yaml'), \n",
    "    hp_spaces=[\n",
    "        lr, \n",
    "        weight_decay, \n",
    "        scheduler,\n",
    "    ])"
   ]
  },
  {
   "cell_type": "markdown",
   "id": "257d8a08",
   "metadata": {},
   "source": [
    "#### Uniform"
   ]
  },
  {
   "cell_type": "code",
   "execution_count": 59,
   "id": "32028a6d",
   "metadata": {},
   "outputs": [],
   "source": [
    "jobs = execute_and_save(\n",
    "    get_config('configs/multi_mnist/uniform.yaml'), \n",
    "    hp_spaces=[\n",
    "        lr, \n",
    "        weight_decay, \n",
    "        scheduler,\n",
    "    ])"
   ]
  },
  {
   "cell_type": "code",
   "execution_count": 60,
   "id": "66011967",
   "metadata": {},
   "outputs": [],
   "source": [
    "jobs = execute_and_save(\n",
    "    get_config('configs/multi_fashion/uniform.yaml'), \n",
    "    hp_spaces=[\n",
    "        lr, \n",
    "        weight_decay, \n",
    "        scheduler,\n",
    "    ])"
   ]
  },
  {
   "cell_type": "code",
   "execution_count": 61,
   "id": "183aa041",
   "metadata": {},
   "outputs": [],
   "source": [
    "jobs = execute_and_save(\n",
    "    get_config('configs/multi_fashion_mnist/uniform.yaml'), \n",
    "    hp_spaces=[\n",
    "        lr, \n",
    "        weight_decay, \n",
    "        scheduler,\n",
    "    ])"
   ]
  },
  {
   "cell_type": "markdown",
   "id": "0a5b9825",
   "metadata": {},
   "source": [
    "# Different size"
   ]
  },
  {
   "cell_type": "code",
   "execution_count": 40,
   "id": "ad914b2b",
   "metadata": {},
   "outputs": [],
   "source": [
    "executor.update_parameters(timeout_min=400)\n",
    "executor.update_parameters(slurm_exclude='dlcgpu09')\n",
    "num_evaluations = 100"
   ]
  },
  {
   "cell_type": "code",
   "execution_count": null,
   "id": "c1678913",
   "metadata": {},
   "outputs": [],
   "source": []
  },
  {
   "cell_type": "code",
   "execution_count": 46,
   "id": "3c8348ae",
   "metadata": {},
   "outputs": [
    {
     "name": "stdout",
     "output_type": "stream",
     "text": [
      "0.355660399600751 99 7404787_0\n",
      "0.4104817393035205 99 7404787_3\n",
      "0.5714953496038699 99 7404787_6\n",
      "0.6041196119346615 99 7404787_7\n",
      "0.6187506913460388 99 7404787_11\n",
      "0.6310281884425972 99 7404787_42\n",
      "Best job: 7404787_42\n"
     ]
    },
    {
     "data": {
      "text/plain": [
       "{'scheduler': 'MultiStep',\n",
       " 'lr': 0.0001,\n",
       " 'weight_decay': 0.0075,\n",
       " 'solver': 'linear',\n",
       " 'norm': 'none',\n",
       " 'alpha': 0.2,\n",
       " 'lamda': 0.0,\n",
       " 'channel_multiplier': 50.0}"
      ]
     },
     "execution_count": 46,
     "metadata": {},
     "output_type": "execute_result"
    }
   ],
   "source": [
    "jobs = load_jobs('uniform', 'multi_mnist', 'hpo_size_50')\n",
    "get_optimal_cfg(jobs)"
   ]
  },
  {
   "cell_type": "code",
   "execution_count": null,
   "id": "8bc87102",
   "metadata": {},
   "outputs": [],
   "source": []
  },
  {
   "cell_type": "markdown",
   "id": "fb3835c9",
   "metadata": {},
   "source": [
    "# size 50\n",
    "#### single task"
   ]
  },
  {
   "cell_type": "code",
   "execution_count": null,
   "id": "b66b0ca6",
   "metadata": {},
   "outputs": [],
   "source": [
    "jobs = execute_and_save(\n",
    "    get_config('size_50_configs/multi_fashion/single_task_1.yaml'), \n",
    "    hp_spaces=[\n",
    "        lr, \n",
    "        weight_decay, \n",
    "        scheduler,\n",
    "    ],\n",
    "    tag='hpo_size_50')"
   ]
  },
  {
   "cell_type": "code",
   "execution_count": null,
   "id": "01eabda0",
   "metadata": {},
   "outputs": [],
   "source": [
    "jobs = execute_and_save(\n",
    "    get_config('size_50_configs/multi_fashion/single_task_2.yaml'), \n",
    "    hp_spaces=[\n",
    "        lr, \n",
    "        weight_decay, \n",
    "        scheduler,\n",
    "    ],\n",
    "    tag='hpo_size_50')"
   ]
  },
  {
   "cell_type": "code",
   "execution_count": null,
   "id": "8bcc34d6",
   "metadata": {},
   "outputs": [],
   "source": [
    "jobs = execute_and_save(\n",
    "    get_config('size_50_configs/multi_fashion_mnist/single_task_1.yaml'), \n",
    "    hp_spaces=[\n",
    "        lr, \n",
    "        weight_decay, \n",
    "        scheduler,\n",
    "    ],\n",
    "    tag='hpo_size_50')"
   ]
  },
  {
   "cell_type": "code",
   "execution_count": null,
   "id": "7cbe9670",
   "metadata": {},
   "outputs": [],
   "source": [
    "jobs = execute_and_save(\n",
    "    get_config('size_50_configs/multi_fashion_mnist/single_task_2.yaml'), \n",
    "    hp_spaces=[\n",
    "        lr, \n",
    "        weight_decay, \n",
    "        scheduler,\n",
    "    ],\n",
    "    tag='hpo_size_50')"
   ]
  },
  {
   "cell_type": "code",
   "execution_count": 41,
   "id": "f181ba83",
   "metadata": {},
   "outputs": [],
   "source": [
    "jobs = execute_and_save(\n",
    "    get_config('size_50_configs/multi_mnist/single_task_1.yaml'), \n",
    "    hp_spaces=[\n",
    "        lr, \n",
    "        weight_decay, \n",
    "        scheduler,\n",
    "    ],\n",
    "    tag='hpo_size_50')"
   ]
  },
  {
   "cell_type": "code",
   "execution_count": null,
   "id": "e70bddff",
   "metadata": {},
   "outputs": [],
   "source": [
    "jobs = execute_and_save(\n",
    "    get_config('size_50_configs/multi_mnist/single_task_2.yaml'), \n",
    "    hp_spaces=[\n",
    "        lr, \n",
    "        weight_decay, \n",
    "        scheduler,\n",
    "    ],\n",
    "    tag='hpo_size_50')"
   ]
  },
  {
   "cell_type": "markdown",
   "id": "c344ad13",
   "metadata": {},
   "source": [
    "#### Uniform"
   ]
  },
  {
   "cell_type": "code",
   "execution_count": null,
   "id": "808d0eff",
   "metadata": {},
   "outputs": [],
   "source": [
    "jobs = execute_and_save(\n",
    "    get_config('size_50_configs/multi_fashion/uniform.yaml'), \n",
    "    hp_spaces=[\n",
    "        lr, \n",
    "        weight_decay, \n",
    "        scheduler,\n",
    "    ],\n",
    "    tag='hpo_size_50')"
   ]
  },
  {
   "cell_type": "code",
   "execution_count": null,
   "id": "ccb3f9b2",
   "metadata": {},
   "outputs": [],
   "source": [
    "jobs = execute_and_save(\n",
    "    get_config('size_50_configs/multi_fashion_mnist/uniform.yaml'), \n",
    "    hp_spaces=[\n",
    "        lr, \n",
    "        weight_decay, \n",
    "        scheduler,\n",
    "    ],\n",
    "    tag='hpo_size_50')"
   ]
  },
  {
   "cell_type": "code",
   "execution_count": null,
   "id": "8145bd73",
   "metadata": {},
   "outputs": [],
   "source": [
    "jobs = execute_and_save(\n",
    "    get_config('size_50_configs/multi_mnist/uniform.yaml'), \n",
    "    hp_spaces=[\n",
    "        lr, \n",
    "        weight_decay, \n",
    "        scheduler,\n",
    "    ],\n",
    "    tag='hpo_size_50')"
   ]
  },
  {
   "cell_type": "markdown",
   "id": "7582883a",
   "metadata": {},
   "source": [
    "# size 0.5\n",
    "#### single task"
   ]
  },
  {
   "cell_type": "code",
   "execution_count": 22,
   "id": "9d9df1d2",
   "metadata": {},
   "outputs": [],
   "source": [
    "jobs = execute_and_save(\n",
    "    get_config('size_0.5_configs/multi_fashion/single_task_1.yaml'), \n",
    "    hp_spaces=[\n",
    "        lr, \n",
    "        weight_decay, \n",
    "        scheduler,\n",
    "    ],\n",
    "    tag='hpo_size_0.5')"
   ]
  },
  {
   "cell_type": "code",
   "execution_count": 23,
   "id": "d50f56ac",
   "metadata": {},
   "outputs": [],
   "source": [
    "jobs = execute_and_save(\n",
    "    get_config('size_0.5_configs/multi_fashion/single_task_2.yaml'), \n",
    "    hp_spaces=[\n",
    "        lr, \n",
    "        weight_decay, \n",
    "        scheduler,\n",
    "    ],\n",
    "    tag='hpo_size_0.5')"
   ]
  },
  {
   "cell_type": "code",
   "execution_count": 31,
   "id": "01a1a71b",
   "metadata": {},
   "outputs": [],
   "source": [
    "jobs = execute_and_save(\n",
    "    get_config('size_0.5_configs/multi_fashion_mnist/single_task_1.yaml'), \n",
    "    hp_spaces=[\n",
    "        lr, \n",
    "        weight_decay, \n",
    "        scheduler,\n",
    "    ],\n",
    "    tag='hpo_size_0.5')"
   ]
  },
  {
   "cell_type": "code",
   "execution_count": 32,
   "id": "ffde2a1f",
   "metadata": {},
   "outputs": [],
   "source": [
    "jobs = execute_and_save(\n",
    "    get_config('size_0.5_configs/multi_fashion_mnist/single_task_2.yaml'), \n",
    "    hp_spaces=[\n",
    "        lr, \n",
    "        weight_decay, \n",
    "        scheduler,\n",
    "    ],\n",
    "    tag='hpo_size_0.5')"
   ]
  },
  {
   "cell_type": "code",
   "execution_count": 33,
   "id": "35555014",
   "metadata": {},
   "outputs": [],
   "source": [
    "jobs = execute_and_save(\n",
    "    get_config('size_0.5_configs/multi_mnist/single_task_1.yaml'), \n",
    "    hp_spaces=[\n",
    "        lr, \n",
    "        weight_decay, \n",
    "        scheduler,\n",
    "    ],\n",
    "    tag='hpo_size_0.5')"
   ]
  },
  {
   "cell_type": "code",
   "execution_count": 34,
   "id": "f96312ba",
   "metadata": {},
   "outputs": [],
   "source": [
    "jobs = execute_and_save(\n",
    "    get_config('size_0.5_configs/multi_mnist/single_task_2.yaml'), \n",
    "    hp_spaces=[\n",
    "        lr, \n",
    "        weight_decay, \n",
    "        scheduler,\n",
    "    ],\n",
    "    tag='hpo_size_0.5')"
   ]
  },
  {
   "cell_type": "markdown",
   "id": "c6fa3114",
   "metadata": {},
   "source": [
    "#### Uniform"
   ]
  },
  {
   "cell_type": "code",
   "execution_count": 24,
   "id": "27cafc80",
   "metadata": {},
   "outputs": [],
   "source": [
    "jobs = execute_and_save(\n",
    "    get_config('size_0.5_configs/multi_fashion/uniform.yaml'), \n",
    "    hp_spaces=[\n",
    "        lr, \n",
    "        weight_decay, \n",
    "        scheduler,\n",
    "    ],\n",
    "    tag='hpo_size_0.5')"
   ]
  },
  {
   "cell_type": "code",
   "execution_count": 59,
   "id": "0043014d",
   "metadata": {},
   "outputs": [],
   "source": [
    "jobs = execute_and_save(\n",
    "    get_config('size_0.5_configs/multi_fashion_mnist/uniform.yaml'), \n",
    "    hp_spaces=[\n",
    "        lr, \n",
    "        weight_decay, \n",
    "        scheduler,\n",
    "    ],\n",
    "    tag='hpo_size_0.5')"
   ]
  },
  {
   "cell_type": "code",
   "execution_count": 60,
   "id": "e434ba43",
   "metadata": {},
   "outputs": [],
   "source": [
    "jobs = execute_and_save(\n",
    "    get_config('size_0.5_configs/multi_mnist/uniform.yaml'), \n",
    "    hp_spaces=[\n",
    "        lr, \n",
    "        weight_decay, \n",
    "        scheduler,\n",
    "    ],\n",
    "    tag='hpo_size_0.5')"
   ]
  },
  {
   "cell_type": "markdown",
   "id": "3fb1eb73",
   "metadata": {},
   "source": [
    "# size 10\n",
    "#### single task"
   ]
  },
  {
   "cell_type": "code",
   "execution_count": null,
   "id": "f934a336",
   "metadata": {},
   "outputs": [],
   "source": [
    "jobs = execute_and_save(\n",
    "    get_config('size_10_configs/multi_fashion/single_task_1.yaml'), \n",
    "    hp_spaces=[\n",
    "        lr, \n",
    "        weight_decay, \n",
    "        scheduler,\n",
    "    ],\n",
    "    tag='hpo_size_10')"
   ]
  },
  {
   "cell_type": "code",
   "execution_count": null,
   "id": "b4e2fec8",
   "metadata": {},
   "outputs": [],
   "source": [
    "jobs = execute_and_save(\n",
    "    get_config('size_10_configs/multi_fashion/single_task_2.yaml'), \n",
    "    hp_spaces=[\n",
    "        lr, \n",
    "        weight_decay, \n",
    "        scheduler,\n",
    "    ],\n",
    "    tag='hpo_size_10')"
   ]
  },
  {
   "cell_type": "code",
   "execution_count": null,
   "id": "5a600d6e",
   "metadata": {},
   "outputs": [],
   "source": [
    "jobs = execute_and_save(\n",
    "    get_config('size_10_configs/multi_fashion_mnist/single_task_1.yaml'), \n",
    "    hp_spaces=[\n",
    "        lr, \n",
    "        weight_decay, \n",
    "        scheduler,\n",
    "    ],\n",
    "    tag='hpo_size_10')"
   ]
  },
  {
   "cell_type": "code",
   "execution_count": null,
   "id": "9af3cd25",
   "metadata": {},
   "outputs": [],
   "source": [
    "jobs = execute_and_save(\n",
    "    get_config('size_10_configs/multi_fashion_mnist/single_task_2.yaml'), \n",
    "    hp_spaces=[\n",
    "        lr, \n",
    "        weight_decay, \n",
    "        scheduler,\n",
    "    ],\n",
    "    tag='hpo_size_10')"
   ]
  },
  {
   "cell_type": "code",
   "execution_count": 67,
   "id": "98f8a1aa",
   "metadata": {},
   "outputs": [],
   "source": [
    "jobs = execute_and_save(\n",
    "    get_config('size_10_configs/multi_mnist/single_task_1.yaml'), \n",
    "    hp_spaces=[\n",
    "        lr, \n",
    "        weight_decay, \n",
    "        scheduler,\n",
    "    ],\n",
    "    tag='hpo_size_10')"
   ]
  },
  {
   "cell_type": "code",
   "execution_count": 68,
   "id": "c7738991",
   "metadata": {},
   "outputs": [],
   "source": [
    "jobs = execute_and_save(\n",
    "    get_config('size_10_configs/multi_mnist/single_task_2.yaml'), \n",
    "    hp_spaces=[\n",
    "        lr, \n",
    "        weight_decay, \n",
    "        scheduler,\n",
    "    ],\n",
    "    tag='hpo_size_10')"
   ]
  },
  {
   "cell_type": "markdown",
   "id": "a4dab3bf",
   "metadata": {},
   "source": [
    "#### Uniform"
   ]
  },
  {
   "cell_type": "code",
   "execution_count": null,
   "id": "7d09f3eb",
   "metadata": {},
   "outputs": [],
   "source": [
    "jobs = execute_and_save(\n",
    "    get_config('size_10_configs/multi_fashion/uniform.yaml'), \n",
    "    hp_spaces=[\n",
    "        lr, \n",
    "        weight_decay, \n",
    "        scheduler,\n",
    "    ],\n",
    "    tag='hpo_size_10')"
   ]
  },
  {
   "cell_type": "code",
   "execution_count": null,
   "id": "d01c7b64",
   "metadata": {},
   "outputs": [],
   "source": [
    "jobs = execute_and_save(\n",
    "    get_config('size_10_configs/multi_fashion_mnist/uniform.yaml'), \n",
    "    hp_spaces=[\n",
    "        lr, \n",
    "        weight_decay, \n",
    "        scheduler,\n",
    "    ],\n",
    "    tag='hpo_size_10')"
   ]
  },
  {
   "cell_type": "code",
   "execution_count": 69,
   "id": "2f6595af",
   "metadata": {},
   "outputs": [],
   "source": [
    "jobs = execute_and_save(\n",
    "    get_config('size_10_configs/multi_mnist/uniform.yaml'), \n",
    "    hp_spaces=[\n",
    "        lr, \n",
    "        weight_decay, \n",
    "        scheduler,\n",
    "    ],\n",
    "    tag='hpo_size_10')"
   ]
  },
  {
   "cell_type": "markdown",
   "id": "c78298be",
   "metadata": {},
   "source": [
    "# Grid search"
   ]
  },
  {
   "cell_type": "code",
   "execution_count": 4,
   "id": "a6fda44e",
   "metadata": {},
   "outputs": [],
   "source": [
    "num_evaluations = 351"
   ]
  },
  {
   "cell_type": "markdown",
   "id": "a5a44b11",
   "metadata": {},
   "source": [
    "#### Single task"
   ]
  },
  {
   "cell_type": "code",
   "execution_count": null,
   "id": "3bf229be",
   "metadata": {},
   "outputs": [],
   "source": [
    "jobs = execute_and_save(\n",
    "    get_config('configs/multi_mnist/single_task_1.yaml'), \n",
    "    hp_spaces=[\n",
    "        lr, \n",
    "        weight_decay, \n",
    "        scheduler,\n",
    "    ],\n",
    "    tag='hpo_grid')"
   ]
  },
  {
   "cell_type": "code",
   "execution_count": null,
   "id": "d758b396",
   "metadata": {},
   "outputs": [],
   "source": [
    "jobs = execute_and_save(\n",
    "    get_config('configs/multi_mnist/single_task_2.yaml'), \n",
    "    hp_spaces=[\n",
    "        lr, \n",
    "        weight_decay, \n",
    "        scheduler,\n",
    "    ],\n",
    "    tag='hpo_grid')"
   ]
  },
  {
   "cell_type": "code",
   "execution_count": null,
   "id": "5d044b5b",
   "metadata": {},
   "outputs": [],
   "source": [
    "jobs = execute_and_save(\n",
    "    get_config('configs/multi_fashion/single_task_1.yaml'), \n",
    "    hp_spaces=[\n",
    "        lr, \n",
    "        weight_decay, \n",
    "        scheduler,\n",
    "    ],\n",
    "    tag='hpo_grid')"
   ]
  },
  {
   "cell_type": "code",
   "execution_count": null,
   "id": "8e8ec3c9",
   "metadata": {},
   "outputs": [],
   "source": [
    "jobs = execute_and_save(\n",
    "    get_config('configs/multi_fashion/single_task_2.yaml'), \n",
    "    hp_spaces=[\n",
    "        lr, \n",
    "        weight_decay, \n",
    "        scheduler,\n",
    "    ],\n",
    "    tag='hpo_grid')"
   ]
  },
  {
   "cell_type": "code",
   "execution_count": null,
   "id": "4c313d93",
   "metadata": {},
   "outputs": [],
   "source": [
    "jobs = execute_and_save(\n",
    "    get_config('configs/multi_fashion_mnist/single_task_1.yaml'), \n",
    "    hp_spaces=[\n",
    "        lr, \n",
    "        weight_decay, \n",
    "        scheduler,\n",
    "    ],\n",
    "    tag='hpo_grid')"
   ]
  },
  {
   "cell_type": "code",
   "execution_count": null,
   "id": "d2a26c5d",
   "metadata": {},
   "outputs": [],
   "source": [
    "jobs = execute_and_save(\n",
    "    get_config('configs/multi_fashion_mnist/single_task_2.yaml'), \n",
    "    hp_spaces=[\n",
    "        lr, \n",
    "        weight_decay, \n",
    "        scheduler,\n",
    "    ],\n",
    "    tag='hpo_grid')"
   ]
  },
  {
   "cell_type": "markdown",
   "id": "e2822325",
   "metadata": {},
   "source": [
    "#### Uniform"
   ]
  },
  {
   "cell_type": "code",
   "execution_count": null,
   "id": "b889adbf",
   "metadata": {},
   "outputs": [],
   "source": [
    "jobs = execute_and_save(\n",
    "    get_config('configs/multi_mnist/uniform.yaml'), \n",
    "    hp_spaces=[\n",
    "        lr, \n",
    "        weight_decay, \n",
    "        scheduler,\n",
    "    ],\n",
    "    tag='hpo_grid')"
   ]
  },
  {
   "cell_type": "code",
   "execution_count": null,
   "id": "f029ac72",
   "metadata": {},
   "outputs": [],
   "source": [
    "jobs = execute_and_save(\n",
    "    get_config('configs/multi_fashion/uniform.yaml'), \n",
    "    hp_spaces=[\n",
    "        lr, \n",
    "        weight_decay, \n",
    "        scheduler,\n",
    "    ],\n",
    "    tag='hpo_grid')"
   ]
  },
  {
   "cell_type": "code",
   "execution_count": null,
   "id": "012829f8",
   "metadata": {},
   "outputs": [],
   "source": [
    "jobs = execute_and_save(\n",
    "    get_config('configs/multi_fashion_mnist/uniform.yaml'), \n",
    "    hp_spaces=[\n",
    "        lr, \n",
    "        weight_decay, \n",
    "        scheduler,\n",
    "    ],\n",
    "    tag='hpo_grid')"
   ]
  },
  {
   "cell_type": "code",
   "execution_count": null,
   "id": "d4918756",
   "metadata": {},
   "outputs": [],
   "source": []
  }
 ],
 "metadata": {
  "kernelspec": {
   "display_name": "Python 3",
   "language": "python",
   "name": "python3"
  },
  "language_info": {
   "codemirror_mode": {
    "name": "ipython",
    "version": 3
   },
   "file_extension": ".py",
   "mimetype": "text/x-python",
   "name": "python",
   "nbconvert_exporter": "python",
   "pygments_lexer": "ipython3",
   "version": "3.8.10"
  }
 },
 "nbformat": 4,
 "nbformat_minor": 5
}
