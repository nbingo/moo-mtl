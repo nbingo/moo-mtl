{
 "cells": [
  {
   "cell_type": "code",
   "execution_count": 52,
   "id": "6395b840",
   "metadata": {},
   "outputs": [],
   "source": [
    "import submitit\n",
    "\n",
    "import torch\n",
    "import random\n",
    "import numpy as np\n",
    "\n",
    "import pickle\n",
    "import itertools\n",
    "import argparse\n",
    "import logging\n",
    "import os\n",
    "import pathlib\n",
    "import time\n",
    "import json\n",
    "import math\n",
    "import matplotlib.pyplot as plt\n",
    "from torch.utils import data\n",
    "from fvcore.common.config import CfgNode"
   ]
  },
  {
   "cell_type": "code",
   "execution_count": 53,
   "id": "e3e7f060",
   "metadata": {},
   "outputs": [],
   "source": [
    "from multi_objective.main import main, get_config"
   ]
  },
  {
   "cell_type": "code",
   "execution_count": 59,
   "id": "d27d2cc2",
   "metadata": {},
   "outputs": [],
   "source": [
    "executor = submitit.AutoExecutor(folder=\"tmp/submitit_hpo\")"
   ]
  },
  {
   "cell_type": "markdown",
   "id": "fe760f76",
   "metadata": {},
   "source": [
    "# Prepare the globals"
   ]
  },
  {
   "cell_type": "code",
   "execution_count": 31,
   "id": "e85e5b25",
   "metadata": {},
   "outputs": [],
   "source": [
    "adult_cfg = get_config('configs/adult.yaml')\n",
    "compass_cfg = get_config('configs/compass.yaml')\n",
    "mm_cfg = get_config('configs/multi_mnist.yaml')\n",
    "mf_cfg = get_config('configs/multi_fashion.yaml')\n",
    "mfm_cfg = get_config('configs/multi_fashion_mnist.yaml')\n",
    "\n",
    "methods = ['cosmos', 'mgda']\n",
    "\n",
    "num_evaluations = 100\n",
    "J = 2\n",
    "\n",
    "min_angles = {\n",
    "    'adult': 0.02,\n",
    "    'compass': 0.0055,\n",
    "    'mm': 0.005\n",
    "}\n",
    "\n",
    "epochs_tabular = 20\n",
    "epochs_mnist = 50"
   ]
  },
  {
   "cell_type": "code",
   "execution_count": 5,
   "id": "8beab615",
   "metadata": {},
   "outputs": [],
   "source": [
    "# log transform for lr \n",
    "lr_range = (np.log(1e-4), np.log(1e-2))\n",
    "lamda_range = (np.log(0.2), np.log(5))\n",
    "alpha_range = (.2, 1.5)\n",
    "scheduler_choice = ['none', 'MultiStep', 'CosineAnnealing']\n",
    "mgda_norm_choice = ['none', 'l2', 'loss', 'loss+']\n",
    "phn_solver = ['linear', 'epo']"
   ]
  },
  {
   "cell_type": "markdown",
   "id": "021fce52",
   "metadata": {},
   "source": [
    "Sample the hyperparameters"
   ]
  },
  {
   "cell_type": "code",
   "execution_count": 6,
   "id": "9850fc58",
   "metadata": {},
   "outputs": [
    {
     "name": "stdout",
     "output_type": "stream",
     "text": [
      "Num evals: 100\n"
     ]
    }
   ],
   "source": [
    "# sampling\n",
    "np.random.seed(1)\n",
    "\n",
    "learning_rates = np.exp(np.random.uniform(*lr_range ,[num_evaluations]))\n",
    "lamdas = np.exp(np.random.uniform(*lamda_range ,[num_evaluations]))\n",
    "alphas = np.random.uniform(*alpha_range ,[num_evaluations, J])\n",
    "schedulers = np.random.choice(scheduler_choice, num_evaluations)\n",
    "mgda_norms = np.random.choice(mgda_norm_choice, num_evaluations)\n",
    "phn_solvers = np.random.choice(phn_solver, num_evaluations)\n",
    "                     \n",
    "print(f\"Num evals: {len(learning_rates)}\")"
   ]
  },
  {
   "cell_type": "code",
   "execution_count": 7,
   "id": "dcb670dd",
   "metadata": {},
   "outputs": [],
   "source": [
    "def convert_hp(array, arg, dtype):\n",
    "    n = len(array)\n",
    "    array = [[dtype(a_i) for a_i in a] if isinstance(a, np.ndarray) else dtype(a) for a in array]\n",
    "    args = list(itertools.repeat(arg, n))\n",
    "    return args, array"
   ]
  },
  {
   "cell_type": "code",
   "execution_count": 8,
   "id": "7f276532",
   "metadata": {},
   "outputs": [],
   "source": [
    "cosmos_lrs = convert_hp(learning_rates, 'cosmos.lr', float)\n",
    "cosmos_scheds = convert_hp(schedulers, 'cosmos.lr_scheduler', str)\n",
    "cosmos_lamdas = convert_hp(lamdas, 'cosmos.lamda', float)\n",
    "cosmos_alphas = convert_hp(alphas, 'cosmos.alpha', float)\n",
    "\n",
    "mgda_lrs = convert_hp(learning_rates, 'mgda.lr', float)\n",
    "mgda_scheds = convert_hp(schedulers, 'mgda.lr_scheduler', str)\n",
    "mgda_norms = convert_hp(mgda_norms, 'mgda.normalization_type', str)\n",
    "\n",
    "pmtl_lrs = convert_hp(learning_rates, 'pmtl.lr', float)\n",
    "pmtl_scheds = convert_hp(schedulers, 'pmtl.lr_scheduler', str)\n",
    "\n"
   ]
  },
  {
   "cell_type": "code",
   "execution_count": 37,
   "id": "ffb56d03",
   "metadata": {},
   "outputs": [],
   "source": [
    "def percent_finished(jobs):\n",
    "    return sum(job.done() for job in jobs) / len(jobs)\n",
    "\n",
    "\n",
    "def save_jobs(method, dataset, jobs):\n",
    "    with open(f'{method}_{dataset}_hpo.pickle', 'wb') as f:\n",
    "        pickle.dump(jobs, f)\n",
    "\n",
    "        \n",
    "def load_jobs(method, dataset):\n",
    "    with open(f'{method}_{dataset}_hpo.pickle', 'rb') as f:\n",
    "        return pickle.load(f)\n",
    "\n",
    "\n",
    "def jobs_failed(jobs):\n",
    "    idxs = []\n",
    "    for i, job in enumerate(jobs):\n",
    "        if job.state == 'FAILED':\n",
    "            idxs.append(i)\n",
    "    return idxs\n",
    "\n",
    "\n",
    "def results_exist(method, dataset):\n",
    "    exist = os.path.exists(f'{method}_{dataset}_hpo.pickle')\n",
    "    if exist:\n",
    "        print('skipping.')\n",
    "    return exist"
   ]
  },
  {
   "cell_type": "code",
   "execution_count": 10,
   "id": "f63f412e",
   "metadata": {},
   "outputs": [],
   "source": [
    "executor.update_parameters(timeout_min=20, slurm_partition=\"ml_gpu-rtx2080\", name='hpo', gpus_per_node=1)\n",
    "executor.update_parameters(slurm_array_parallelism=35)"
   ]
  },
  {
   "cell_type": "markdown",
   "id": "e062bc37",
   "metadata": {},
   "source": [
    "## COSMOS"
   ]
  },
  {
   "cell_type": "code",
   "execution_count": 11,
   "id": "91925df6",
   "metadata": {},
   "outputs": [],
   "source": [
    "hpo_cosmos = list(zip(*cosmos_lrs, *cosmos_lamdas, *cosmos_alphas))\n",
    "method = 'cosmos'"
   ]
  },
  {
   "cell_type": "markdown",
   "id": "61416279",
   "metadata": {},
   "source": [
    "#### Adult"
   ]
  },
  {
   "cell_type": "code",
   "execution_count": 39,
   "id": "b506ddfb",
   "metadata": {},
   "outputs": [],
   "source": [
    "cfg = adult_cfg.clone()\n",
    "cfg.epochs = epochs_tabular\n",
    "cfg.eval_every = epochs_tabular\n",
    "dataset = 'adult'\n",
    "hpos = hpo_cosmos"
   ]
  },
  {
   "cell_type": "markdown",
   "id": "960371c7",
   "metadata": {},
   "source": [
    "Runs the search"
   ]
  },
  {
   "cell_type": "code",
   "execution_count": 42,
   "id": "277d3dbf",
   "metadata": {},
   "outputs": [
    {
     "name": "stdout",
     "output_type": "stream",
     "text": [
      "skipping.\n"
     ]
    }
   ],
   "source": [
    "if not results_exist(method, dataset):\n",
    "    jobs = []\n",
    "    with executor.batch():\n",
    "        for args in hpos:\n",
    "            cfg = cfg.clone()\n",
    "            cfg.merge_from_list(args)\n",
    "            job = executor.submit(main, method, cfg, 'hpo')\n",
    "            jobs.append(job)"
   ]
  },
  {
   "cell_type": "code",
   "execution_count": null,
   "id": "98519aa0",
   "metadata": {},
   "outputs": [],
   "source": [
    "print(percent_finished(jobs))"
   ]
  },
  {
   "cell_type": "code",
   "execution_count": 40,
   "id": "3a15527d",
   "metadata": {},
   "outputs": [
    {
     "name": "stdout",
     "output_type": "stream",
     "text": [
      "skipping.\n"
     ]
    }
   ],
   "source": [
    "if not results_exist(method, dataset):\n",
    "    save_jobs(method, dataset, jobs)"
   ]
  },
  {
   "cell_type": "code",
   "execution_count": 41,
   "id": "5831bc1d",
   "metadata": {},
   "outputs": [],
   "source": [
    "cosmos_adult_jobs = load_jobs(method, dataset)"
   ]
  },
  {
   "cell_type": "markdown",
   "id": "8e3a7ce5",
   "metadata": {},
   "source": [
    "#### Compass"
   ]
  },
  {
   "cell_type": "code",
   "execution_count": 44,
   "id": "e8c1fe48",
   "metadata": {},
   "outputs": [],
   "source": [
    "cfg = compass_cfg.clone()\n",
    "cfg.epochs = epochs_tabular\n",
    "cfg.eval_every = epochs_tabular\n",
    "dataset = 'compass'\n",
    "hpos = hpo_cosmos"
   ]
  },
  {
   "cell_type": "code",
   "execution_count": 33,
   "id": "6a873535",
   "metadata": {},
   "outputs": [],
   "source": [
    "if not results_exist(method, dataset):\n",
    "    jobs = []\n",
    "    with executor.batch():\n",
    "        for args in hpos:\n",
    "            cfg = cfg.clone()\n",
    "            cfg.merge_from_list(args)\n",
    "            job = executor.submit(main, method, cfg, 'hpo')\n",
    "            jobs.append(job)"
   ]
  },
  {
   "cell_type": "code",
   "execution_count": 19,
   "id": "dec519be",
   "metadata": {},
   "outputs": [
    {
     "ename": "NameError",
     "evalue": "name 'cosmos_compass_jobs' is not defined",
     "output_type": "error",
     "traceback": [
      "\u001b[0;31m---------------------------------------------------------------------------\u001b[0m",
      "\u001b[0;31mNameError\u001b[0m                                 Traceback (most recent call last)",
      "\u001b[0;32m<ipython-input-19-abac7306f756>\u001b[0m in \u001b[0;36m<module>\u001b[0;34m\u001b[0m\n\u001b[0;32m----> 1\u001b[0;31m \u001b[0mprint\u001b[0m\u001b[0;34m(\u001b[0m\u001b[0mpercent_finished\u001b[0m\u001b[0;34m(\u001b[0m\u001b[0mcosmos_compass_jobs\u001b[0m\u001b[0;34m)\u001b[0m\u001b[0;34m)\u001b[0m\u001b[0;34m\u001b[0m\u001b[0;34m\u001b[0m\u001b[0m\n\u001b[0m",
      "\u001b[0;31mNameError\u001b[0m: name 'cosmos_compass_jobs' is not defined"
     ]
    }
   ],
   "source": [
    "print(percent_finished(jobs))"
   ]
  },
  {
   "cell_type": "code",
   "execution_count": 40,
   "id": "eea81fe9",
   "metadata": {},
   "outputs": [],
   "source": [
    "if not results_exist(method, dataset):\n",
    "    save_jobs(method, dataset, jobs)"
   ]
  },
  {
   "cell_type": "code",
   "execution_count": null,
   "id": "d8f85d18",
   "metadata": {},
   "outputs": [],
   "source": [
    "cosmos_compass_jobs = load_jobs(method, dataset)"
   ]
  },
  {
   "cell_type": "markdown",
   "id": "4a88b0f6",
   "metadata": {},
   "source": [
    "#### Multi MNIST"
   ]
  },
  {
   "cell_type": "code",
   "execution_count": 48,
   "id": "4974628c",
   "metadata": {},
   "outputs": [],
   "source": [
    "cfg = mm_cfg.clone()\n",
    "cfg.epochs = epochs_mnist\n",
    "cfg.eval_every = epochs_mnist\n",
    "\n",
    "hpo_cosmos = list(zip(*cosmos_lrs, *cosmos_lamdas, *cosmos_alphas, *cosmos_scheds))\n",
    "method = 'cosmos'\n",
    "dataset = 'mm'\n",
    "hpos = hpo_cosmos"
   ]
  },
  {
   "cell_type": "code",
   "execution_count": 15,
   "id": "2d4fc36b",
   "metadata": {},
   "outputs": [],
   "source": [
    "if not results_exist(method, dataset):\n",
    "    jobs = []\n",
    "    with executor.batch():\n",
    "        for args in hpos:\n",
    "            cfg = cfg.clone()\n",
    "            cfg.merge_from_list(args)\n",
    "            job = executor.submit(main, method, cfg, 'hpo')\n",
    "            jobs.append(job)"
   ]
  },
  {
   "cell_type": "code",
   "execution_count": 21,
   "id": "d1154442",
   "metadata": {},
   "outputs": [
    {
     "name": "stdout",
     "output_type": "stream",
     "text": [
      "1.0\n"
     ]
    }
   ],
   "source": [
    "print(percent_finished(jobs))"
   ]
  },
  {
   "cell_type": "code",
   "execution_count": 27,
   "id": "cc845eb5",
   "metadata": {},
   "outputs": [],
   "source": [
    "if not results_exist(method, dataset):\n",
    "    save_jobs(method, dataset, jobs)"
   ]
  },
  {
   "cell_type": "code",
   "execution_count": 55,
   "id": "a40db653",
   "metadata": {},
   "outputs": [],
   "source": [
    "cosmos_mm_jobs = load_jobs(method, dataset)"
   ]
  },
  {
   "cell_type": "code",
   "execution_count": null,
   "id": "728210c3",
   "metadata": {},
   "outputs": [],
   "source": []
  },
  {
   "cell_type": "code",
   "execution_count": null,
   "id": "895440a7",
   "metadata": {},
   "outputs": [],
   "source": []
  },
  {
   "cell_type": "code",
   "execution_count": null,
   "id": "38878f22",
   "metadata": {},
   "outputs": [],
   "source": []
  },
  {
   "cell_type": "code",
   "execution_count": null,
   "id": "3e7a2b51",
   "metadata": {},
   "outputs": [],
   "source": []
  },
  {
   "cell_type": "code",
   "execution_count": null,
   "id": "2ff03c1e",
   "metadata": {},
   "outputs": [],
   "source": []
  },
  {
   "cell_type": "code",
   "execution_count": null,
   "id": "b6b6a12d",
   "metadata": {},
   "outputs": [],
   "source": []
  },
  {
   "cell_type": "code",
   "execution_count": null,
   "id": "88ecdcfd",
   "metadata": {},
   "outputs": [],
   "source": []
  },
  {
   "cell_type": "code",
   "execution_count": 56,
   "id": "38603a4b",
   "metadata": {},
   "outputs": [
    {
     "data": {
      "text/plain": [
       "[]"
      ]
     },
     "execution_count": 56,
     "metadata": {},
     "output_type": "execute_result"
    }
   ],
   "source": [
    "jobs_failed(cosmos_mm_jobs)"
   ]
  },
  {
   "cell_type": "code",
   "execution_count": null,
   "id": "0b2ed8e3",
   "metadata": {},
   "outputs": [],
   "source": []
  },
  {
   "cell_type": "code",
   "execution_count": null,
   "id": "f367fc0a",
   "metadata": {},
   "outputs": [],
   "source": []
  },
  {
   "cell_type": "code",
   "execution_count": null,
   "id": "d3dacb8a",
   "metadata": {},
   "outputs": [],
   "source": []
  },
  {
   "cell_type": "code",
   "execution_count": null,
   "id": "8a54b787",
   "metadata": {},
   "outputs": [],
   "source": []
  },
  {
   "cell_type": "code",
   "execution_count": null,
   "id": "bda7d2c7",
   "metadata": {},
   "outputs": [],
   "source": []
  },
  {
   "cell_type": "code",
   "execution_count": null,
   "id": "ed9be4dc",
   "metadata": {},
   "outputs": [],
   "source": []
  },
  {
   "cell_type": "code",
   "execution_count": null,
   "id": "cec55e80",
   "metadata": {},
   "outputs": [],
   "source": []
  },
  {
   "cell_type": "code",
   "execution_count": null,
   "id": "d7cfc605",
   "metadata": {},
   "outputs": [],
   "source": []
  },
  {
   "cell_type": "code",
   "execution_count": 57,
   "id": "41bd65be",
   "metadata": {},
   "outputs": [],
   "source": [
    "def get_optimal_cfg(jobs, min_angle=None):\n",
    "    idx_best = None\n",
    "    hv_best = 0\n",
    "    \n",
    "    for i, job in enumerate(jobs):\n",
    "        hv, angle = job.result()\n",
    "        if min_angle is not None and angle <= min_angle:\n",
    "            continue\n",
    "        \n",
    "        if hv > hv_best:\n",
    "            print(hv, angle, job.job_id)\n",
    "            hv_best = hv\n",
    "            idx_best = i\n",
    "    assert idx_best is not None, \"No optimal cfg found\"\n",
    "    print(f'Best job: {jobs[idx_best].job_id}')\n",
    "    return jobs[idx_best].submission().args[1]"
   ]
  },
  {
   "cell_type": "code",
   "execution_count": 58,
   "id": "618c8801",
   "metadata": {},
   "outputs": [
    {
     "ename": "UncompletedJobError",
     "evalue": "Job 5524323_0 (task: 0) with path /home/ruchtem/dev/moo/tmp/5524323_0_0_result.pkl\nhas not produced any output (state: COMPLETED)\nNo output/error stream produced ! Check: /home/ruchtem/dev/moo/tmp/5524323_0_0_log.out",
     "output_type": "error",
     "traceback": [
      "\u001b[0;31m---------------------------------------------------------------------------\u001b[0m",
      "\u001b[0;31mUncompletedJobError\u001b[0m                       Traceback (most recent call last)",
      "\u001b[0;32m<ipython-input-58-8f45720c9e7c>\u001b[0m in \u001b[0;36m<module>\u001b[0;34m\u001b[0m\n\u001b[0;32m----> 1\u001b[0;31m \u001b[0mget_optimal_cfg\u001b[0m\u001b[0;34m(\u001b[0m\u001b[0mcosmos_mm_jobs\u001b[0m\u001b[0;34m,\u001b[0m \u001b[0mmin_angles\u001b[0m\u001b[0;34m[\u001b[0m\u001b[0;34m'mm'\u001b[0m\u001b[0;34m]\u001b[0m\u001b[0;34m)\u001b[0m\u001b[0;34m\u001b[0m\u001b[0;34m\u001b[0m\u001b[0m\n\u001b[0m",
      "\u001b[0;32m<ipython-input-57-d6691a19bf95>\u001b[0m in \u001b[0;36mget_optimal_cfg\u001b[0;34m(jobs, min_angle)\u001b[0m\n\u001b[1;32m      4\u001b[0m \u001b[0;34m\u001b[0m\u001b[0m\n\u001b[1;32m      5\u001b[0m     \u001b[0;32mfor\u001b[0m \u001b[0mi\u001b[0m\u001b[0;34m,\u001b[0m \u001b[0mjob\u001b[0m \u001b[0;32min\u001b[0m \u001b[0menumerate\u001b[0m\u001b[0;34m(\u001b[0m\u001b[0mjobs\u001b[0m\u001b[0;34m)\u001b[0m\u001b[0;34m:\u001b[0m\u001b[0;34m\u001b[0m\u001b[0;34m\u001b[0m\u001b[0m\n\u001b[0;32m----> 6\u001b[0;31m         \u001b[0mhv\u001b[0m\u001b[0;34m,\u001b[0m \u001b[0mangle\u001b[0m \u001b[0;34m=\u001b[0m \u001b[0mjob\u001b[0m\u001b[0;34m.\u001b[0m\u001b[0mresult\u001b[0m\u001b[0;34m(\u001b[0m\u001b[0;34m)\u001b[0m\u001b[0;34m\u001b[0m\u001b[0;34m\u001b[0m\u001b[0m\n\u001b[0m\u001b[1;32m      7\u001b[0m         \u001b[0;32mif\u001b[0m \u001b[0mmin_angle\u001b[0m \u001b[0;32mis\u001b[0m \u001b[0;32mnot\u001b[0m \u001b[0;32mNone\u001b[0m \u001b[0;32mand\u001b[0m \u001b[0mangle\u001b[0m \u001b[0;34m<=\u001b[0m \u001b[0mmin_angle\u001b[0m\u001b[0;34m:\u001b[0m\u001b[0;34m\u001b[0m\u001b[0;34m\u001b[0m\u001b[0m\n\u001b[1;32m      8\u001b[0m             \u001b[0;32mcontinue\u001b[0m\u001b[0;34m\u001b[0m\u001b[0;34m\u001b[0m\u001b[0m\n",
      "\u001b[0;32m~/dev/venvs/base/lib/python3.8/site-packages/submitit/core/core.py\u001b[0m in \u001b[0;36mresult\u001b[0;34m(self)\u001b[0m\n\u001b[1;32m    259\u001b[0m \u001b[0;34m\u001b[0m\u001b[0m\n\u001b[1;32m    260\u001b[0m     \u001b[0;32mdef\u001b[0m \u001b[0mresult\u001b[0m\u001b[0;34m(\u001b[0m\u001b[0mself\u001b[0m\u001b[0;34m)\u001b[0m \u001b[0;34m->\u001b[0m \u001b[0mR\u001b[0m\u001b[0;34m:\u001b[0m\u001b[0;34m\u001b[0m\u001b[0;34m\u001b[0m\u001b[0m\n\u001b[0;32m--> 261\u001b[0;31m         \u001b[0mr\u001b[0m \u001b[0;34m=\u001b[0m \u001b[0mself\u001b[0m\u001b[0;34m.\u001b[0m\u001b[0mresults\u001b[0m\u001b[0;34m(\u001b[0m\u001b[0;34m)\u001b[0m\u001b[0;34m\u001b[0m\u001b[0;34m\u001b[0m\u001b[0m\n\u001b[0m\u001b[1;32m    262\u001b[0m         \u001b[0;32massert\u001b[0m \u001b[0;32mnot\u001b[0m \u001b[0mself\u001b[0m\u001b[0;34m.\u001b[0m\u001b[0m_sub_jobs\u001b[0m\u001b[0;34m,\u001b[0m \u001b[0;34m\"You should use `results()` if your job has subtasks.\"\u001b[0m\u001b[0;34m\u001b[0m\u001b[0;34m\u001b[0m\u001b[0m\n\u001b[1;32m    263\u001b[0m         \u001b[0;32mreturn\u001b[0m \u001b[0mr\u001b[0m\u001b[0;34m[\u001b[0m\u001b[0;36m0\u001b[0m\u001b[0;34m]\u001b[0m\u001b[0;34m\u001b[0m\u001b[0;34m\u001b[0m\u001b[0m\n",
      "\u001b[0;32m~/dev/venvs/base/lib/python3.8/site-packages/submitit/core/core.py\u001b[0m in \u001b[0;36mresults\u001b[0;34m(self)\u001b[0m\n\u001b[1;32m    282\u001b[0m             \u001b[0;32mreturn\u001b[0m \u001b[0;34m[\u001b[0m\u001b[0mtp\u001b[0m\u001b[0;34m.\u001b[0m\u001b[0mcast\u001b[0m\u001b[0;34m(\u001b[0m\u001b[0mR\u001b[0m\u001b[0;34m,\u001b[0m \u001b[0msub_job\u001b[0m\u001b[0;34m.\u001b[0m\u001b[0mresult\u001b[0m\u001b[0;34m(\u001b[0m\u001b[0;34m)\u001b[0m\u001b[0;34m)\u001b[0m \u001b[0;32mfor\u001b[0m \u001b[0msub_job\u001b[0m \u001b[0;32min\u001b[0m \u001b[0mself\u001b[0m\u001b[0;34m.\u001b[0m\u001b[0m_sub_jobs\u001b[0m\u001b[0;34m]\u001b[0m\u001b[0;34m\u001b[0m\u001b[0;34m\u001b[0m\u001b[0m\n\u001b[1;32m    283\u001b[0m \u001b[0;34m\u001b[0m\u001b[0m\n\u001b[0;32m--> 284\u001b[0;31m         \u001b[0moutcome\u001b[0m\u001b[0;34m,\u001b[0m \u001b[0mresult\u001b[0m \u001b[0;34m=\u001b[0m \u001b[0mself\u001b[0m\u001b[0;34m.\u001b[0m\u001b[0m_get_outcome_and_result\u001b[0m\u001b[0;34m(\u001b[0m\u001b[0;34m)\u001b[0m\u001b[0;34m\u001b[0m\u001b[0;34m\u001b[0m\u001b[0m\n\u001b[0m\u001b[1;32m    285\u001b[0m         \u001b[0;32mif\u001b[0m \u001b[0moutcome\u001b[0m \u001b[0;34m==\u001b[0m \u001b[0;34m\"error\"\u001b[0m\u001b[0;34m:\u001b[0m\u001b[0;34m\u001b[0m\u001b[0;34m\u001b[0m\u001b[0m\n\u001b[1;32m    286\u001b[0m             \u001b[0mjob_exception\u001b[0m \u001b[0;34m=\u001b[0m \u001b[0mself\u001b[0m\u001b[0;34m.\u001b[0m\u001b[0mexception\u001b[0m\u001b[0;34m(\u001b[0m\u001b[0;34m)\u001b[0m\u001b[0;34m\u001b[0m\u001b[0;34m\u001b[0m\u001b[0m\n",
      "\u001b[0;32m~/dev/venvs/base/lib/python3.8/site-packages/submitit/core/core.py\u001b[0m in \u001b[0;36m_get_outcome_and_result\u001b[0;34m(self)\u001b[0m\n\u001b[1;32m    374\u001b[0m             \u001b[0;32melse\u001b[0m\u001b[0;34m:\u001b[0m\u001b[0;34m\u001b[0m\u001b[0;34m\u001b[0m\u001b[0m\n\u001b[1;32m    375\u001b[0m                 \u001b[0mmessage\u001b[0m\u001b[0;34m.\u001b[0m\u001b[0mappend\u001b[0m\u001b[0;34m(\u001b[0m\u001b[0;34mf\"No output/error stream produced ! Check: {self.paths.stdout}\"\u001b[0m\u001b[0;34m)\u001b[0m\u001b[0;34m\u001b[0m\u001b[0;34m\u001b[0m\u001b[0m\n\u001b[0;32m--> 376\u001b[0;31m             \u001b[0;32mraise\u001b[0m \u001b[0mutils\u001b[0m\u001b[0;34m.\u001b[0m\u001b[0mUncompletedJobError\u001b[0m\u001b[0;34m(\u001b[0m\u001b[0;34m\"\\n\"\u001b[0m\u001b[0;34m.\u001b[0m\u001b[0mjoin\u001b[0m\u001b[0;34m(\u001b[0m\u001b[0mmessage\u001b[0m\u001b[0;34m)\u001b[0m\u001b[0;34m)\u001b[0m\u001b[0;34m\u001b[0m\u001b[0;34m\u001b[0m\u001b[0m\n\u001b[0m\u001b[1;32m    377\u001b[0m         \u001b[0;32mtry\u001b[0m\u001b[0;34m:\u001b[0m\u001b[0;34m\u001b[0m\u001b[0;34m\u001b[0m\u001b[0m\n\u001b[1;32m    378\u001b[0m             \u001b[0moutput\u001b[0m\u001b[0;34m:\u001b[0m \u001b[0mtp\u001b[0m\u001b[0;34m.\u001b[0m\u001b[0mTuple\u001b[0m\u001b[0;34m[\u001b[0m\u001b[0mstr\u001b[0m\u001b[0;34m,\u001b[0m \u001b[0mtp\u001b[0m\u001b[0;34m.\u001b[0m\u001b[0mAny\u001b[0m\u001b[0;34m]\u001b[0m \u001b[0;34m=\u001b[0m \u001b[0mutils\u001b[0m\u001b[0;34m.\u001b[0m\u001b[0mpickle_load\u001b[0m\u001b[0;34m(\u001b[0m\u001b[0mself\u001b[0m\u001b[0;34m.\u001b[0m\u001b[0mpaths\u001b[0m\u001b[0;34m.\u001b[0m\u001b[0mresult_pickle\u001b[0m\u001b[0;34m)\u001b[0m\u001b[0;34m\u001b[0m\u001b[0;34m\u001b[0m\u001b[0m\n",
      "\u001b[0;31mUncompletedJobError\u001b[0m: Job 5524323_0 (task: 0) with path /home/ruchtem/dev/moo/tmp/5524323_0_0_result.pkl\nhas not produced any output (state: COMPLETED)\nNo output/error stream produced ! Check: /home/ruchtem/dev/moo/tmp/5524323_0_0_log.out"
     ]
    }
   ],
   "source": [
    "get_optimal_cfg(cosmos_mm_jobs, min_angles['mm'])"
   ]
  },
  {
   "cell_type": "code",
   "execution_count": null,
   "id": "0c5b62a7",
   "metadata": {},
   "outputs": [],
   "source": []
  },
  {
   "cell_type": "code",
   "execution_count": null,
   "id": "6971b79d",
   "metadata": {},
   "outputs": [],
   "source": []
  },
  {
   "cell_type": "code",
   "execution_count": null,
   "id": "60a11b89",
   "metadata": {},
   "outputs": [],
   "source": []
  },
  {
   "cell_type": "code",
   "execution_count": null,
   "id": "e9de0270",
   "metadata": {},
   "outputs": [],
   "source": []
  },
  {
   "cell_type": "code",
   "execution_count": 32,
   "id": "6fd67b42",
   "metadata": {},
   "outputs": [
    {
     "data": {
      "text/plain": [
       "(3.02712881565094, 0)"
      ]
     },
     "execution_count": 32,
     "metadata": {},
     "output_type": "execute_result"
    }
   ],
   "source": [
    "jobs_l[0].result()"
   ]
  },
  {
   "cell_type": "code",
   "execution_count": 13,
   "id": "afa6786b",
   "metadata": {},
   "outputs": [],
   "source": [
    "def add(a, b):\n",
    "    return a + b"
   ]
  },
  {
   "cell_type": "code",
   "execution_count": 14,
   "id": "f30f39e9",
   "metadata": {},
   "outputs": [],
   "source": [
    "job = executor.submit(add, 5, 7)  # will compute add(5, 7)"
   ]
  },
  {
   "cell_type": "code",
   "execution_count": 15,
   "id": "80f55b55",
   "metadata": {},
   "outputs": [
    {
     "name": "stdout",
     "output_type": "stream",
     "text": [
      "5359691\n"
     ]
    }
   ],
   "source": [
    "print(job.job_id)  # ID of your job"
   ]
  },
  {
   "cell_type": "code",
   "execution_count": 16,
   "id": "aa59ddc9",
   "metadata": {},
   "outputs": [],
   "source": [
    "job.result()"
   ]
  },
  {
   "cell_type": "code",
   "execution_count": 17,
   "id": "4cbe25a9",
   "metadata": {},
   "outputs": [
    {
     "data": {
      "text/plain": [
       "12"
      ]
     },
     "execution_count": 17,
     "metadata": {},
     "output_type": "execute_result"
    }
   ],
   "source": [
    "job.submission().args"
   ]
  },
  {
   "cell_type": "code",
   "execution_count": null,
   "id": "d01c7b64",
   "metadata": {},
   "outputs": [],
   "source": []
  }
 ],
 "metadata": {
  "kernelspec": {
   "display_name": "Python 3",
   "language": "python",
   "name": "python3"
  },
  "language_info": {
   "codemirror_mode": {
    "name": "ipython",
    "version": 3
   },
   "file_extension": ".py",
   "mimetype": "text/x-python",
   "name": "python",
   "nbconvert_exporter": "python",
   "pygments_lexer": "ipython3",
   "version": "3.8.5"
  }
 },
 "nbformat": 4,
 "nbformat_minor": 5
}
